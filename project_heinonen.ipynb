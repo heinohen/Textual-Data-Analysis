{
  "cells": [
    {
      "cell_type": "markdown",
      "metadata": {
        "id": "view-in-github",
        "colab_type": "text"
      },
      "source": [
        "<a href=\"https://colab.research.google.com/github/heinohen/Textual-Data-Analysis/blob/main/project_heinonen.ipynb\" target=\"_parent\"><img src=\"https://colab.research.google.com/assets/colab-badge.svg\" alt=\"Open In Colab\"/></a>"
      ]
    },
    {
      "cell_type": "markdown",
      "metadata": {
        "id": "2S-8Tg9jcIq3"
      },
      "source": [
        "<h1> TDA course project </h1>\n",
        "\n",
        "Name: **TODO**\n",
        "\n",
        "Pair: If you did this project as pair work, name the other student here, leave empty otherwise. If you work in pair, <b>both</b> hand out the same project report in Moodle.\n"
      ]
    },
    {
      "cell_type": "markdown",
      "metadata": {
        "id": "vHABL7FU6qW4"
      },
      "source": [
        "# SETUP"
      ]
    },
    {
      "cell_type": "markdown",
      "metadata": {
        "id": "7hz8IKBj6z7v"
      },
      "source": [
        "### install libraries"
      ]
    },
    {
      "cell_type": "code",
      "execution_count": 73,
      "metadata": {
        "colab": {
          "base_uri": "https://localhost:8080/"
        },
        "id": "pD_cVUo96uhc",
        "outputId": "f9a96226-e366-4edb-e1ab-bba00cc03fba"
      },
      "outputs": [
        {
          "output_type": "stream",
          "name": "stdout",
          "text": [
            "\u001b[?25l   \u001b[90m━━━━━━━━━━━━━━━━━━━━━━━━━━━━━━━━━━━━━━━━\u001b[0m \u001b[32m0.0/84.0 kB\u001b[0m \u001b[31m?\u001b[0m eta \u001b[36m-:--:--\u001b[0m\r\u001b[2K   \u001b[90m━━━━━━━━━━━━━━━━━━━━━━━━━━━━━━━━━━━━━━━━\u001b[0m \u001b[32m84.0/84.0 kB\u001b[0m \u001b[31m8.0 MB/s\u001b[0m eta \u001b[36m0:00:00\u001b[0m\n",
            "\u001b[?25h"
          ]
        }
      ],
      "source": [
        "!pip3 -q install transformers datasets torch scikit-learn evaluate"
      ]
    },
    {
      "cell_type": "markdown",
      "metadata": {
        "id": "U9Tw4TsK62kd"
      },
      "source": [
        "### import"
      ]
    },
    {
      "cell_type": "code",
      "execution_count": 72,
      "metadata": {
        "id": "qvCCq7Ey64Ov"
      },
      "outputs": [],
      "source": [
        "import datasets as ds\n",
        "from pprint import pprint\n",
        "import transformers\n",
        "from sklearn.model_selection import train_test_split\n",
        "import torch\n"
      ]
    },
    {
      "cell_type": "markdown",
      "metadata": {
        "id": "k2snRRQw6_m2"
      },
      "source": [
        "#  Step 1: Load the data with LLM judgements\n"
      ]
    },
    {
      "cell_type": "code",
      "execution_count": 46,
      "metadata": {
        "colab": {
          "base_uri": "https://localhost:8080/"
        },
        "id": "YGfc3GN5efOz",
        "outputId": "74af4916-088b-4d88-b8e5-954d3536bcb0"
      },
      "outputs": [
        {
          "output_type": "stream",
          "name": "stdout",
          "text": [
            "--2025-02-13 17:59:58--  http://dl.turkunlp.org/tda-course-2025/tda25-responses.jsonl.gz\n",
            "Resolving dl.turkunlp.org (dl.turkunlp.org)... 195.148.30.23\n",
            "Connecting to dl.turkunlp.org (dl.turkunlp.org)|195.148.30.23|:80... connected.\n",
            "HTTP request sent, awaiting response... 200 OK\n",
            "Length: 3373840 (3.2M) [application/octet-stream]\n",
            "Saving to: ‘tda25-responses.jsonl.gz.1’\n",
            "\n",
            "tda25-responses.jso 100%[===================>]   3.22M  2.33MB/s    in 1.4s    \n",
            "\n",
            "2025-02-13 18:00:00 (2.33 MB/s) - ‘tda25-responses.jsonl.gz.1’ saved [3373840/3373840]\n",
            "\n"
          ]
        }
      ],
      "source": [
        "#work here\n",
        "!wget http://dl.turkunlp.org/tda-course-2025/tda25-responses.jsonl.gz"
      ]
    },
    {
      "cell_type": "markdown",
      "metadata": {
        "id": "ISdUxH0i5jhU"
      },
      "source": [
        "Does the article provide a clear sequence of ordered steps that guide the reader through completing a task step-by-step? (Step-by-step: Yes/No)\n",
        "Does the article contain well-structured procedural instructions that would be useful for training a language model capable of deeper reasoning? (Training: Yes/No)\n",
        "Briefly explain your answers in 2-3 sentences, focusing on whether the instructions are clearly ordered and detailed enough to encourage deeper reasoning.\n",
        "The article text starts here:\n",
        "{{article}}"
      ]
    },
    {
      "cell_type": "code",
      "execution_count": 47,
      "metadata": {
        "id": "bTyTeYI45izu",
        "colab": {
          "base_uri": "https://localhost:8080/"
        },
        "outputId": "4c1d36cc-c37d-4d3f-965f-cccf94c1d07d"
      },
      "outputs": [
        {
          "output_type": "stream",
          "name": "stdout",
          "text": [
            "gzip: tda25-responses.jsonl already exists; do you wish to overwrite (y or n)? ^C\n"
          ]
        }
      ],
      "source": [
        "!gzip -d tda25-responses.jsonl.gz"
      ]
    },
    {
      "cell_type": "code",
      "execution_count": 79,
      "metadata": {
        "colab": {
          "base_uri": "https://localhost:8080/"
        },
        "id": "Y2qN2QIb6Y3B",
        "outputId": "82d52a8c-c6f4-49d3-c04c-63672a4ac229"
      },
      "outputs": [
        {
          "output_type": "execute_result",
          "data": {
            "text/plain": [
              "DatasetDict({\n",
              "    train: Dataset({\n",
              "        features: ['document', 'response'],\n",
              "        num_rows: 2515\n",
              "    })\n",
              "})"
            ]
          },
          "metadata": {},
          "execution_count": 79
        }
      ],
      "source": [
        "# Process and load this data as a HuggingFace dataset that you can use for supervised training in step 2.\n",
        "dataset = ds.load_dataset('json', data_files='tda25-responses.jsonl')\n",
        "\n",
        "\n",
        "dataset"
      ]
    },
    {
      "cell_type": "code",
      "source": [
        "pprint(dataset['train'][460]['response'])"
      ],
      "metadata": {
        "colab": {
          "base_uri": "https://localhost:8080/"
        },
        "id": "v9sHk1f2HfkA",
        "outputId": "200a3354-84af-45ba-a75f-0e01d6f80fe5"
      },
      "execution_count": 80,
      "outputs": [
        {
          "output_type": "stream",
          "name": "stdout",
          "text": [
            "('To correct the error regarding the Fargate task failing in a private subnet '\n",
            " 'without direct connectivity to the internet, the solution architect should:\\n'\n",
            " '\\n'\n",
            " '**D. Ensure the task is set to DISABLED for the auto-assign public IP '\n",
            " 'setting when launching the task. Configure a NAT gateway in the public '\n",
            " 'subnet in the VPC to route requests to the internet.**\\n'\n",
            " '\\n'\n",
            " 'This approach is correct because the task does not require a public IP while '\n",
            " 'it resides in a private subnet. By configuring a NAT gateway in the public '\n",
            " 'subnet, the Fargate task can access the internet for any outbound requests '\n",
            " 'without requiring direct inbound access from the internet, thus maintaining '\n",
            " \"security and compliance with the architecture's requirements.\")\n"
          ]
        }
      ]
    },
    {
      "cell_type": "code",
      "execution_count": 81,
      "metadata": {
        "id": "o0i6-AAL8HLd"
      },
      "outputs": [],
      "source": [
        "# look at the data\n",
        "\n",
        "NO_STEP_BY_STEP = []\n",
        "\n",
        "for i, d in enumerate(dataset['train']):\n",
        "  answer = \"\"\n",
        "  response = d['response'].split()\n",
        "  response = [item.lower() for item in response]\n",
        "  response = [item.replace(\"**\", \"\") for item in response]\n",
        "  response = [item.replace(\"(\", \"\") for item in response]\n",
        "  response = [item.replace(\")\", \"\") for item in response]\n",
        "\n",
        "\n",
        "  try:\n",
        "    index = response.index(\"step-by-step:\")\n",
        "  except:\n",
        "    NO_STEP_BY_STEP.append(i)"
      ]
    },
    {
      "cell_type": "code",
      "execution_count": 82,
      "metadata": {
        "colab": {
          "base_uri": "https://localhost:8080/"
        },
        "id": "BlYAcovRDoVu",
        "outputId": "eae327c4-c977-4748-9ed6-eab709ab78a5"
      },
      "outputs": [
        {
          "output_type": "execute_result",
          "data": {
            "text/plain": [
              "[460]"
            ]
          },
          "metadata": {},
          "execution_count": 82
        }
      ],
      "source": [
        "NO_STEP_BY_STEP"
      ]
    },
    {
      "cell_type": "code",
      "source": [
        "indices = [i for i,x in enumerate(dataset['train']) if i not in NO_STEP_BY_STEP]"
      ],
      "metadata": {
        "id": "6XNwFE1pPx4H"
      },
      "execution_count": 83,
      "outputs": []
    },
    {
      "cell_type": "code",
      "source": [
        "len(indices)"
      ],
      "metadata": {
        "colab": {
          "base_uri": "https://localhost:8080/"
        },
        "id": "uLo06pVZQJm_",
        "outputId": "edbbd1ed-4e8a-48ca-ccee-84d904c5c5ee"
      },
      "execution_count": 84,
      "outputs": [
        {
          "output_type": "execute_result",
          "data": {
            "text/plain": [
              "2514"
            ]
          },
          "metadata": {},
          "execution_count": 84
        }
      ]
    },
    {
      "cell_type": "code",
      "source": [
        "subdataset = dataset['train'].select(indices)"
      ],
      "metadata": {
        "id": "p1UkvFzedl5u"
      },
      "execution_count": 85,
      "outputs": []
    },
    {
      "cell_type": "code",
      "source": [
        "dataset = ds.DatasetDict({\n",
        "   'train': subdataset\n",
        "})"
      ],
      "metadata": {
        "id": "mfaEV3UyPWpA"
      },
      "execution_count": 86,
      "outputs": []
    },
    {
      "cell_type": "code",
      "source": [
        "\n",
        "count_of_documents = 0\n",
        "\n",
        "answers = []\n",
        "\n",
        "for i, d in enumerate(dataset['train']):\n",
        "  count_of_documents += 1\n",
        "  answer = \"\"\n",
        "  response = d['response'].split()\n",
        "  response = [item.lower() for item in response]\n",
        "  response = [item.replace(\"**\", \"\") for item in response]\n",
        "  response = [item.replace(\"(\", \"\") for item in response]\n",
        "  response = [item.replace(\")\", \"\") for item in response]\n",
        "\n",
        "\n",
        "  try:\n",
        "    index = response.index(\"step-by-step:\")\n",
        "  except:\n",
        "    print(i)\n",
        "\n",
        "  assert response[index+1].lower() in [\"yes\", \"no\"], f\"String does not match 'yes' or 'no'. Found: {response[index+1]}\"\n",
        "  answers.append(response[index+1].lower())"
      ],
      "metadata": {
        "id": "NDmhS5UHQQh6"
      },
      "execution_count": 87,
      "outputs": []
    },
    {
      "cell_type": "code",
      "source": [
        "assert len(answers) == len(dataset['train'])\n",
        "print(count_of_documents)\n",
        "unique_values = set(answers)\n",
        "print(unique_values)"
      ],
      "metadata": {
        "colab": {
          "base_uri": "https://localhost:8080/"
        },
        "id": "-7kEv6bSQ6S_",
        "outputId": "5877b125-a307-4967-f4a0-a39344c5684a"
      },
      "execution_count": 88,
      "outputs": [
        {
          "output_type": "stream",
          "name": "stdout",
          "text": [
            "2514\n",
            "{'yes', 'no'}\n"
          ]
        }
      ]
    },
    {
      "cell_type": "code",
      "source": [
        "label_tags = [1 if item == \"yes\" else 0 for item in answers]"
      ],
      "metadata": {
        "id": "zQgcmHQ1d0VT"
      },
      "execution_count": 89,
      "outputs": []
    },
    {
      "cell_type": "code",
      "source": [
        "subdataset = subdataset.add_column(\"label_name\", answers)"
      ],
      "metadata": {
        "id": "Fhk6yPyJTym0"
      },
      "execution_count": 90,
      "outputs": []
    },
    {
      "cell_type": "code",
      "source": [
        "for i,t in enumerate(label_tags[:10]):\n",
        "  print(label_tags[i], subdataset[i]['label_name'])"
      ],
      "metadata": {
        "colab": {
          "base_uri": "https://localhost:8080/"
        },
        "id": "zAErDQvfeO4b",
        "outputId": "57a38d67-3239-4408-d291-b1761789b982"
      },
      "execution_count": 91,
      "outputs": [
        {
          "output_type": "stream",
          "name": "stdout",
          "text": [
            "1 yes\n",
            "0 no\n",
            "0 no\n",
            "0 no\n",
            "0 no\n",
            "0 no\n",
            "1 yes\n",
            "0 no\n",
            "0 no\n",
            "1 yes\n"
          ]
        }
      ]
    },
    {
      "cell_type": "markdown",
      "source": [
        "seems to match..."
      ],
      "metadata": {
        "id": "KaEP54Q1ehyo"
      }
    },
    {
      "cell_type": "code",
      "source": [
        "subdataset = subdataset.add_column(\"label\", label_tags)"
      ],
      "metadata": {
        "id": "l-JK1pt9elkr"
      },
      "execution_count": 92,
      "outputs": []
    },
    {
      "cell_type": "code",
      "source": [
        "dataset = ds.DatasetDict({\n",
        "   'train': subdataset\n",
        "})"
      ],
      "metadata": {
        "id": "Tmb5LsAsSwut"
      },
      "execution_count": 93,
      "outputs": []
    },
    {
      "cell_type": "code",
      "source": [
        "dataset = dataset.shuffle() # although it is shuffled at train_test_split by default\n",
        "dataset = dataset['train'].train_test_split(test_size=0.2)\n",
        "dataset"
      ],
      "metadata": {
        "colab": {
          "base_uri": "https://localhost:8080/"
        },
        "id": "I1ZMX4TlT9nv",
        "outputId": "c8ddf276-f64f-44e3-f763-2bd2aec42ea9"
      },
      "execution_count": 100,
      "outputs": [
        {
          "output_type": "execute_result",
          "data": {
            "text/plain": [
              "DatasetDict({\n",
              "    train: Dataset({\n",
              "        features: ['document', 'response', 'label_name', 'label', 'input_ids', 'token_type_ids', 'attention_mask'],\n",
              "        num_rows: 1608\n",
              "    })\n",
              "    test: Dataset({\n",
              "        features: ['document', 'response', 'label_name', 'label', 'input_ids', 'token_type_ids', 'attention_mask'],\n",
              "        num_rows: 403\n",
              "    })\n",
              "})"
            ]
          },
          "metadata": {},
          "execution_count": 100
        }
      ]
    },
    {
      "cell_type": "markdown",
      "source": [
        "huh.... i think its now solved, one example did not have a step-by-step label"
      ],
      "metadata": {
        "id": "lI-nSKE-Ui0T"
      }
    },
    {
      "cell_type": "code",
      "source": [
        "# see what we got\n",
        "\n",
        "print(dataset['train'][0])"
      ],
      "metadata": {
        "colab": {
          "base_uri": "https://localhost:8080/"
        },
        "id": "C5FSzAGbUN9b",
        "outputId": "7a6bccb1-b03e-4cac-fbbd-44134af93de2"
      },
      "execution_count": 104,
      "outputs": [
        {
          "output_type": "stream",
          "name": "stdout",
          "text": [
            "{'document': 'Reds Get Madson\\nI never would have predicted that in November.\\nBack in November it appeared the Phillies and Madson were close to a four-year, $44 million extension. But the negotiations hit a snag (one side said they had a verbal agreement, the other side said they didn’t) and the Phillies decided to spend $6 million more to sign Jonathan Papelbon. Meanwhile, the closing opportunities for Madson dried up and instead of getting the monster pay day he hoped, he has to pitch in Cincinnati for one season before hitting the market again. That’s not exactly how Scott Boras planned it, but that’s the situation.\\nIt will be a strange spring training without Madson and possibly Brad Lidge in the clubhouse. They were the final two pieces of the 2008 World Series bullpen. But there is still a chance Lidge is back. He remains unsigned, and the longer he is out there I think the chances improve the Phillies could sign him to a Minor League deal. Read Paul Hagen‘s story on Lidge here.\\nHagen recently joined MLB.com after leaving the Daily News. He is an awesome addition to our staff. Hagen will be writing plenty of national stories, but he’ll get a chance to write his share of Phillies stories, too. That’s great for everybody. I actually meant to post this back in December, but … welcome aboard, Paul. Thrilled to have you on the team.', 'response': 'Step-by-step: No  \\nTraining: No  \\n\\nThe article does not provide a clear sequence of ordered steps for completing a task; instead, it is more of a narrative discussing contract negotiations and player statuses within Major League Baseball. Additionally, the instructions or directives it contains are not well-structured or detailed enough to be useful for training a language model that requires deeper reasoning, as it lacks explicit procedural guidance and focuses primarily on commentary.', 'label_name': 'no', 'label': 0, 'input_ids': [101, 12281, 2131, 5506, 3385, 1045, 2196, 2052, 2031, 10173, 2008, 1999, 2281, 1012, 2067, 1999, 2281, 2009, 2596, 1996, 15711, 1998, 5506, 3385, 2020, 2485, 2000, 1037, 2176, 1011, 2095, 1010, 1002, 4008, 2454, 5331, 1012, 2021, 1996, 7776, 2718, 1037, 1055, 2532, 2290, 1006, 2028, 2217, 2056, 2027, 2018, 1037, 12064, 3820, 1010, 1996, 2060, 2217, 2056, 2027, 2134, 1521, 1056, 1007, 1998, 1996, 15711, 2787, 2000, 5247, 1002, 1020, 2454, 2062, 2000, 3696, 5655, 6643, 11880, 11735, 1012, 5564, 1010, 1996, 5494, 6695, 2005, 5506, 3385, 9550, 2039, 1998, 2612, 1997, 2893, 1996, 6071, 3477, 2154, 2002, 5113, 1010, 2002, 2038, 2000, 6510, 1999, 7797, 2005, 2028, 2161, 2077, 7294, 1996, 3006, 2153, 1012, 2008, 1521, 1055, 2025, 3599, 2129, 3660, 8945, 8180, 3740, 2009, 1010, 2021, 2008, 1521, 1055, 1996, 3663, 1012, 2009, 2097, 2022, 1037, 4326, 3500, 2731, 2302, 5506, 3385, 1998, 4298, 8226, 11876, 3351, 1999, 1996, 22067, 1012, 2027, 2020, 1996, 2345, 2048, 4109, 1997, 1996, 2263, 2088, 2186, 7087, 11837, 1012, 2021, 2045, 2003, 2145, 1037, 3382, 11876, 3351, 2003, 2067, 1012, 2002, 3464, 27121, 1010, 1998, 1996, 2936, 2002, 2003, 2041, 2045, 1045, 2228, 1996, 9592, 5335, 1996, 15711, 2071, 3696, 2032, 2000, 1037, 3576, 2223, 3066, 1012, 3191, 2703, 24047, 1520, 1055, 2466, 2006, 11876, 3351, 2182, 1012, 24047, 3728, 2587, 10901, 1012, 4012, 2044, 2975, 1996, 3679, 2739, 1012, 2002, 2003, 2019, 12476, 2804, 2000, 2256, 3095, 1012, 24047, 2097, 2022, 3015, 7564, 1997, 2120, 3441, 1010, 2021, 2002, 1521, 2222, 2131, 1037, 3382, 2000, 4339, 2010, 3745, 1997, 15711, 3441, 1010, 2205, 1012, 2008, 1521, 1055, 2307, 2005, 7955, 1012, 1045, 2941, 3214, 2000, 2695, 2023, 2067, 1999, 2285, 1010, 2021, 1529, 6160, 7548, 1010, 2703, 1012, 16082, 2000, 2031, 2017, 2006, 1996, 2136, 1012, 102], 'token_type_ids': [0, 0, 0, 0, 0, 0, 0, 0, 0, 0, 0, 0, 0, 0, 0, 0, 0, 0, 0, 0, 0, 0, 0, 0, 0, 0, 0, 0, 0, 0, 0, 0, 0, 0, 0, 0, 0, 0, 0, 0, 0, 0, 0, 0, 0, 0, 0, 0, 0, 0, 0, 0, 0, 0, 0, 0, 0, 0, 0, 0, 0, 0, 0, 0, 0, 0, 0, 0, 0, 0, 0, 0, 0, 0, 0, 0, 0, 0, 0, 0, 0, 0, 0, 0, 0, 0, 0, 0, 0, 0, 0, 0, 0, 0, 0, 0, 0, 0, 0, 0, 0, 0, 0, 0, 0, 0, 0, 0, 0, 0, 0, 0, 0, 0, 0, 0, 0, 0, 0, 0, 0, 0, 0, 0, 0, 0, 0, 0, 0, 0, 0, 0, 0, 0, 0, 0, 0, 0, 0, 0, 0, 0, 0, 0, 0, 0, 0, 0, 0, 0, 0, 0, 0, 0, 0, 0, 0, 0, 0, 0, 0, 0, 0, 0, 0, 0, 0, 0, 0, 0, 0, 0, 0, 0, 0, 0, 0, 0, 0, 0, 0, 0, 0, 0, 0, 0, 0, 0, 0, 0, 0, 0, 0, 0, 0, 0, 0, 0, 0, 0, 0, 0, 0, 0, 0, 0, 0, 0, 0, 0, 0, 0, 0, 0, 0, 0, 0, 0, 0, 0, 0, 0, 0, 0, 0, 0, 0, 0, 0, 0, 0, 0, 0, 0, 0, 0, 0, 0, 0, 0, 0, 0, 0, 0, 0, 0, 0, 0, 0, 0, 0, 0, 0, 0, 0, 0, 0, 0, 0, 0, 0, 0, 0, 0, 0, 0, 0, 0, 0, 0, 0, 0, 0, 0, 0, 0, 0, 0, 0, 0, 0, 0, 0, 0, 0, 0, 0, 0, 0, 0, 0, 0, 0, 0, 0, 0, 0, 0], 'attention_mask': [1, 1, 1, 1, 1, 1, 1, 1, 1, 1, 1, 1, 1, 1, 1, 1, 1, 1, 1, 1, 1, 1, 1, 1, 1, 1, 1, 1, 1, 1, 1, 1, 1, 1, 1, 1, 1, 1, 1, 1, 1, 1, 1, 1, 1, 1, 1, 1, 1, 1, 1, 1, 1, 1, 1, 1, 1, 1, 1, 1, 1, 1, 1, 1, 1, 1, 1, 1, 1, 1, 1, 1, 1, 1, 1, 1, 1, 1, 1, 1, 1, 1, 1, 1, 1, 1, 1, 1, 1, 1, 1, 1, 1, 1, 1, 1, 1, 1, 1, 1, 1, 1, 1, 1, 1, 1, 1, 1, 1, 1, 1, 1, 1, 1, 1, 1, 1, 1, 1, 1, 1, 1, 1, 1, 1, 1, 1, 1, 1, 1, 1, 1, 1, 1, 1, 1, 1, 1, 1, 1, 1, 1, 1, 1, 1, 1, 1, 1, 1, 1, 1, 1, 1, 1, 1, 1, 1, 1, 1, 1, 1, 1, 1, 1, 1, 1, 1, 1, 1, 1, 1, 1, 1, 1, 1, 1, 1, 1, 1, 1, 1, 1, 1, 1, 1, 1, 1, 1, 1, 1, 1, 1, 1, 1, 1, 1, 1, 1, 1, 1, 1, 1, 1, 1, 1, 1, 1, 1, 1, 1, 1, 1, 1, 1, 1, 1, 1, 1, 1, 1, 1, 1, 1, 1, 1, 1, 1, 1, 1, 1, 1, 1, 1, 1, 1, 1, 1, 1, 1, 1, 1, 1, 1, 1, 1, 1, 1, 1, 1, 1, 1, 1, 1, 1, 1, 1, 1, 1, 1, 1, 1, 1, 1, 1, 1, 1, 1, 1, 1, 1, 1, 1, 1, 1, 1, 1, 1, 1, 1, 1, 1, 1, 1, 1, 1, 1, 1, 1, 1, 1, 1, 1, 1, 1, 1, 1, 1, 1]}\n"
          ]
        }
      ]
    },
    {
      "cell_type": "markdown",
      "metadata": {
        "id": "IN6Q5qfI7QgZ"
      },
      "source": [
        "# Step 2: Classifier training and evaluation\n",
        "\n",
        "Next you should use the data from step (1) to train an encoder-based classifier of your liking and evaluate it properly (i.e. split a test set out of the data and report numerical evaluation metrics assuming the GPT-4o-mini output as gold standard). As you noticed, the prompt in step (1) asked separately whether the document includes step-by-step instructions, and whether these are useful for training reasoning models. This gives you a choice which of the two you pick as your target - we leave that up to you - just say which you choose, i.e. do you train on those documents flagged as containing step-by-step instructions, or do you train on those documents flagged as suitable for deeper reasoning. The latter seems almost entirely a subset of the former, showing that the GPT-4o-mini model was quite smart about this task.\n",
        "\n",
        "Further, take a sample of the data, inspect it, and judge the quality of the predictions made by your classifier. Report your findings. Further, see if you notice anything unusual about the distribution of the document genres and topics. You should be able quite easily to see how we got this data. What consequences do you think this has for your evaluation results? Are they entirely valid? And if not, why not?\n",
        "\n",
        "Based on your evaluation, would you think it reasonable to run your classifier on the whole of FineWeb?"
      ]
    },
    {
      "cell_type": "markdown",
      "metadata": {
        "id": "hqI4QPHFddet"
      },
      "source": [
        "\n",
        "*   Which target did you choose?\n",
        "*   Label distribution and majority baseline\n",
        "*   Classifier performance\n",
        "*   Manual inspection of the classifier output, what kinds of mistakes it makes?\n",
        "*   What is the composition of the data we gave you? What does it mean for your results?\n",
        "*   Concusions\n",
        "\n",
        "\n"
      ]
    },
    {
      "cell_type": "code",
      "execution_count": 105,
      "metadata": {
        "id": "u6nkkhpxdvsb",
        "colab": {
          "base_uri": "https://localhost:8080/"
        },
        "outputId": "1fd10a5e-16b3-44f1-cb9e-0799fcab8002"
      },
      "outputs": [
        {
          "output_type": "stream",
          "name": "stderr",
          "text": [
            "Some weights of BertForSequenceClassification were not initialized from the model checkpoint at bert-base-uncased and are newly initialized: ['classifier.bias', 'classifier.weight']\n",
            "You should probably TRAIN this model on a down-stream task to be able to use it for predictions and inference.\n"
          ]
        }
      ],
      "source": [
        "#work here\n",
        "\n",
        "MODEL_NAME = 'bert-base-uncased'\n",
        "tokenizer = transformers.AutoTokenizer.from_pretrained(MODEL_NAME)\n",
        "model = transformers.AutoModelForSequenceClassification.from_pretrained(MODEL_NAME, num_labels=2)\n"
      ]
    },
    {
      "cell_type": "code",
      "source": [
        "\n",
        "from collections import defaultdict\n",
        "\n",
        "class LogSavingCallback(transformers.TrainerCallback):\n",
        "    def on_train_begin(self, *args, **kwargs):\n",
        "        self.logs = defaultdict(list)\n",
        "        self.training = True\n",
        "\n",
        "    def on_train_end(self, *args, **kwargs):\n",
        "        self.training = False\n",
        "\n",
        "    def on_log(self, args, state, control, logs, model=None, **kwargs):\n",
        "        if self.training:\n",
        "            for k, v in logs.items():\n",
        "                if k != \"epoch\" or v not in self.logs[k]:\n",
        "                    self.logs[k].append(v)\n",
        "\n",
        "training_logs = LogSavingCallback()"
      ],
      "metadata": {
        "id": "EhtXe_T8gwIw"
      },
      "execution_count": 108,
      "outputs": []
    },
    {
      "cell_type": "code",
      "source": [
        "\n",
        "import evaluate\n",
        "accuracy = evaluate.load(\"accuracy\")\n",
        "\n",
        "def compute_accuracy(outputs_and_labels):\n",
        "    outputs, labels = outputs_and_labels\n",
        "    predictions = outputs.argmax(axis=-1) #pick the index of the \"winning\" label\n",
        "    return accuracy.compute(predictions=predictions, references=labels)\n",
        "\n",
        "\n",
        "data_collator = transformers.DataCollatorWithPadding(tokenizer)\n",
        "\n",
        "# Argument gives the number of steps of patience before early stopping\n",
        "early_stopping = transformers.EarlyStoppingCallback(\n",
        "    early_stopping_patience=5\n",
        ")\n",
        "\n"
      ],
      "metadata": {
        "id": "zffRk_Z4e7L9"
      },
      "execution_count": 106,
      "outputs": []
    },
    {
      "cell_type": "code",
      "source": [
        "# Define a simple function that applies the tokenizer\n",
        "\n",
        "# maximum length of BERT models is 512 due to the position embeddings\n",
        "\n",
        "def tokenize(example):\n",
        "    return tokenizer(\n",
        "        example[\"document\"],\n",
        "        max_length=512,\n",
        "        truncation=True,\n",
        "    )\n",
        "\n",
        "# Apply the tokenizer to the whole dataset using .map()\n",
        "dataset = dataset.map(tokenize)\n",
        "\n"
      ],
      "metadata": {
        "colab": {
          "base_uri": "https://localhost:8080/",
          "height": 81,
          "referenced_widgets": [
            "1526254c98734dbfa4c140864d776328",
            "e2f3ec33ae5f4e24beb98f51dd6340e1",
            "8b7b6c1beb5345bb802ec2c5db8207ff",
            "32152e9f2c224c39b334a8442ee12a68",
            "3bd6bb7a58324c6aa7fab8edacdf1a9b",
            "0996704e3add4c92b423bf46ef36e550",
            "d16ef5f6a9e142698335c0a45e0e494d",
            "f84944371eaf48eb8eb358363935f1e1",
            "131fbc580beb4b14987063cab95a7456",
            "4248a0ccfa384213bbf51b8150e893da",
            "e7b45a8abe214028a48facc17a0a1d92",
            "18c3a42ded5a43788aaee24129edb4c6",
            "2ba60422d3484104b32243a3b8f7a1fc",
            "ad7cdda67b0a40358d710e1abc14645b",
            "39765ede5c85409bb567e349d60ba2ad",
            "272070f74d854a9dab5a706bd49ef067",
            "863cbd6b85fa4078b7b764fd841298df",
            "c571f371849c4d28baca140dd21fcfe2",
            "ce441e698690409badd35cbbad9d77f4",
            "cbfe787e4d1c4c4d8a6975e8ccf1b28d",
            "e4e89618344f4a94994cd966f18d6894",
            "d5fbc675a4c447e38558da38909c4300"
          ]
        },
        "id": "ABqdDVGxfWBp",
        "outputId": "aed3dbd3-4aa1-4737-d377-2bd0789d3e02"
      },
      "execution_count": 107,
      "outputs": [
        {
          "output_type": "display_data",
          "data": {
            "text/plain": [
              "Map:   0%|          | 0/1608 [00:00<?, ? examples/s]"
            ],
            "application/vnd.jupyter.widget-view+json": {
              "version_major": 2,
              "version_minor": 0,
              "model_id": "1526254c98734dbfa4c140864d776328"
            }
          },
          "metadata": {}
        },
        {
          "output_type": "display_data",
          "data": {
            "text/plain": [
              "Map:   0%|          | 0/403 [00:00<?, ? examples/s]"
            ],
            "application/vnd.jupyter.widget-view+json": {
              "version_major": 2,
              "version_minor": 0,
              "model_id": "18c3a42ded5a43788aaee24129edb4c6"
            }
          },
          "metadata": {}
        }
      ]
    },
    {
      "cell_type": "code",
      "source": [
        "\n",
        "# Set training arguments\n",
        "trainer_args = transformers.TrainingArguments(\n",
        "    \"checkpoints\",\n",
        "    eval_strategy=\"steps\",\n",
        "    logging_strategy=\"steps\",\n",
        "    load_best_model_at_end=True,\n",
        "    eval_steps=10,\n",
        "    logging_steps=10,\n",
        "    learning_rate=0.000005,\n",
        "    per_device_train_batch_size=32,\n",
        "    per_device_eval_batch_size=32,\n",
        "    report_to=\"none\",\n",
        "    num_train_epochs = 5\n",
        ")\n",
        "\n"
      ],
      "metadata": {
        "id": "_rTaxwtkgy4E"
      },
      "execution_count": 122,
      "outputs": []
    },
    {
      "cell_type": "code",
      "source": [
        "trainer = None\n",
        "trainer = transformers.Trainer(\n",
        "    model=model,\n",
        "    args=trainer_args,\n",
        "    train_dataset=dataset[\"train\"],\n",
        "    eval_dataset=dataset[\"test\"],\n",
        "    compute_metrics=compute_accuracy,\n",
        "    data_collator=data_collator,\n",
        "    tokenizer = tokenizer,\n",
        "    callbacks=[early_stopping, training_logs]\n",
        ")\n",
        "\n",
        "trainer.train()"
      ],
      "metadata": {
        "colab": {
          "base_uri": "https://localhost:8080/",
          "height": 626
        },
        "id": "IPq8FtAHg6cL",
        "outputId": "86f8f216-f473-4305-f696-11654c265e14"
      },
      "execution_count": 123,
      "outputs": [
        {
          "output_type": "stream",
          "name": "stderr",
          "text": [
            "<ipython-input-123-df66652555dd>:2: FutureWarning: `tokenizer` is deprecated and will be removed in version 5.0.0 for `Trainer.__init__`. Use `processing_class` instead.\n",
            "  trainer = transformers.Trainer(\n"
          ]
        },
        {
          "output_type": "display_data",
          "data": {
            "text/plain": [
              "<IPython.core.display.HTML object>"
            ],
            "text/html": [
              "\n",
              "    <div>\n",
              "      \n",
              "      <progress value='140' max='255' style='width:300px; height:20px; vertical-align: middle;'></progress>\n",
              "      [140/255 04:14 < 03:31, 0.54 it/s, Epoch 2/5]\n",
              "    </div>\n",
              "    <table border=\"1\" class=\"dataframe\">\n",
              "  <thead>\n",
              " <tr style=\"text-align: left;\">\n",
              "      <th>Step</th>\n",
              "      <th>Training Loss</th>\n",
              "      <th>Validation Loss</th>\n",
              "      <th>Accuracy</th>\n",
              "    </tr>\n",
              "  </thead>\n",
              "  <tbody>\n",
              "    <tr>\n",
              "      <td>10</td>\n",
              "      <td>0.056900</td>\n",
              "      <td>0.220405</td>\n",
              "      <td>0.928040</td>\n",
              "    </tr>\n",
              "    <tr>\n",
              "      <td>20</td>\n",
              "      <td>0.112700</td>\n",
              "      <td>0.208996</td>\n",
              "      <td>0.935484</td>\n",
              "    </tr>\n",
              "    <tr>\n",
              "      <td>30</td>\n",
              "      <td>0.128600</td>\n",
              "      <td>0.233701</td>\n",
              "      <td>0.915633</td>\n",
              "    </tr>\n",
              "    <tr>\n",
              "      <td>40</td>\n",
              "      <td>0.158700</td>\n",
              "      <td>0.211552</td>\n",
              "      <td>0.928040</td>\n",
              "    </tr>\n",
              "    <tr>\n",
              "      <td>50</td>\n",
              "      <td>0.150100</td>\n",
              "      <td>0.205711</td>\n",
              "      <td>0.933002</td>\n",
              "    </tr>\n",
              "    <tr>\n",
              "      <td>60</td>\n",
              "      <td>0.104400</td>\n",
              "      <td>0.238263</td>\n",
              "      <td>0.920596</td>\n",
              "    </tr>\n",
              "    <tr>\n",
              "      <td>70</td>\n",
              "      <td>0.094800</td>\n",
              "      <td>0.206306</td>\n",
              "      <td>0.937965</td>\n",
              "    </tr>\n",
              "    <tr>\n",
              "      <td>80</td>\n",
              "      <td>0.071100</td>\n",
              "      <td>0.205524</td>\n",
              "      <td>0.933002</td>\n",
              "    </tr>\n",
              "    <tr>\n",
              "      <td>90</td>\n",
              "      <td>0.082500</td>\n",
              "      <td>0.202709</td>\n",
              "      <td>0.930521</td>\n",
              "    </tr>\n",
              "    <tr>\n",
              "      <td>100</td>\n",
              "      <td>0.059400</td>\n",
              "      <td>0.209871</td>\n",
              "      <td>0.930521</td>\n",
              "    </tr>\n",
              "    <tr>\n",
              "      <td>110</td>\n",
              "      <td>0.042500</td>\n",
              "      <td>0.219936</td>\n",
              "      <td>0.933002</td>\n",
              "    </tr>\n",
              "    <tr>\n",
              "      <td>120</td>\n",
              "      <td>0.044700</td>\n",
              "      <td>0.216202</td>\n",
              "      <td>0.935484</td>\n",
              "    </tr>\n",
              "    <tr>\n",
              "      <td>130</td>\n",
              "      <td>0.067000</td>\n",
              "      <td>0.210298</td>\n",
              "      <td>0.933002</td>\n",
              "    </tr>\n",
              "    <tr>\n",
              "      <td>140</td>\n",
              "      <td>0.072400</td>\n",
              "      <td>0.216414</td>\n",
              "      <td>0.930521</td>\n",
              "    </tr>\n",
              "  </tbody>\n",
              "</table><p>"
            ]
          },
          "metadata": {}
        },
        {
          "output_type": "stream",
          "name": "stderr",
          "text": [
            "Could not locate the best model at checkpoints/checkpoint-90/pytorch_model.bin, if you are running a distributed training on multiple nodes, you should activate `--save_on_each_node`.\n"
          ]
        },
        {
          "output_type": "execute_result",
          "data": {
            "text/plain": [
              "TrainOutput(global_step=140, training_loss=0.08898545524903706, metrics={'train_runtime': 255.5261, 'train_samples_per_second': 31.464, 'train_steps_per_second': 0.998, 'total_flos': 1166108197355520.0, 'train_loss': 0.08898545524903706, 'epoch': 2.7450980392156863})"
            ]
          },
          "metadata": {},
          "execution_count": 123
        }
      ]
    },
    {
      "cell_type": "code",
      "source": [
        "%matplotlib inline\n",
        "import matplotlib.pyplot as plt\n",
        "\n",
        "def plot(logs, keys, labels):\n",
        "    values = sum([logs[k] for k in keys], [])\n",
        "    plt.ylim(max(min(values)-0.1, 0.0), min(max(values)+0.1, 1.0))\n",
        "    for key, label in zip(keys, labels):\n",
        "        plt.plot(logs[\"epoch\"], logs[key], label=label)\n",
        "    plt.legend()\n",
        "    plt.show()\n",
        "\n",
        "plot(training_logs.logs, [\"loss\", \"eval_loss\"], [\"Training loss\", \"Evaluation loss\"])"
      ],
      "metadata": {
        "id": "kJNOeKfhiTF9"
      },
      "execution_count": null,
      "outputs": []
    },
    {
      "cell_type": "code",
      "source": [
        "plot(training_logs.logs, [\"eval_accuracy\"], [\"Evaluation accuracy\"])"
      ],
      "metadata": {
        "id": "zAlLfc8TiYZ_"
      },
      "execution_count": null,
      "outputs": []
    },
    {
      "cell_type": "markdown",
      "metadata": {
        "id": "32J_xPA47Vjc"
      },
      "source": [
        "# Bonus step"
      ]
    },
    {
      "cell_type": "markdown",
      "metadata": {
        "id": "1We3z8707cNU"
      },
      "source": [
        "\n",
        "(leave empty if you do not do this)\n",
        "\n",
        "*   Prompt design\n",
        "*   Build (prompt,response pairs)\n",
        "*   Turn into HF Dataset and save\n"
      ]
    },
    {
      "cell_type": "code",
      "execution_count": 99,
      "metadata": {
        "id": "HCYHbUKRgvce"
      },
      "outputs": [],
      "source": [
        "#work here"
      ]
    },
    {
      "cell_type": "markdown",
      "metadata": {
        "id": "BUUBswOEggP6"
      },
      "source": [
        "<h1> Summary and Conclusions </h1>\n",
        "\n",
        "* Brief TL;DR -style summary and main conclusions of your project."
      ]
    }
  ],
  "metadata": {
    "colab": {
      "provenance": [],
      "toc_visible": true,
      "machine_shape": "hm",
      "gpuType": "L4",
      "include_colab_link": true
    },
    "kernelspec": {
      "display_name": "Python 3",
      "name": "python3"
    },
    "language_info": {
      "name": "python"
    },
    "accelerator": "GPU",
    "widgets": {
      "application/vnd.jupyter.widget-state+json": {
        "1526254c98734dbfa4c140864d776328": {
          "model_module": "@jupyter-widgets/controls",
          "model_name": "HBoxModel",
          "model_module_version": "1.5.0",
          "state": {
            "_dom_classes": [],
            "_model_module": "@jupyter-widgets/controls",
            "_model_module_version": "1.5.0",
            "_model_name": "HBoxModel",
            "_view_count": null,
            "_view_module": "@jupyter-widgets/controls",
            "_view_module_version": "1.5.0",
            "_view_name": "HBoxView",
            "box_style": "",
            "children": [
              "IPY_MODEL_e2f3ec33ae5f4e24beb98f51dd6340e1",
              "IPY_MODEL_8b7b6c1beb5345bb802ec2c5db8207ff",
              "IPY_MODEL_32152e9f2c224c39b334a8442ee12a68"
            ],
            "layout": "IPY_MODEL_3bd6bb7a58324c6aa7fab8edacdf1a9b"
          }
        },
        "e2f3ec33ae5f4e24beb98f51dd6340e1": {
          "model_module": "@jupyter-widgets/controls",
          "model_name": "HTMLModel",
          "model_module_version": "1.5.0",
          "state": {
            "_dom_classes": [],
            "_model_module": "@jupyter-widgets/controls",
            "_model_module_version": "1.5.0",
            "_model_name": "HTMLModel",
            "_view_count": null,
            "_view_module": "@jupyter-widgets/controls",
            "_view_module_version": "1.5.0",
            "_view_name": "HTMLView",
            "description": "",
            "description_tooltip": null,
            "layout": "IPY_MODEL_0996704e3add4c92b423bf46ef36e550",
            "placeholder": "​",
            "style": "IPY_MODEL_d16ef5f6a9e142698335c0a45e0e494d",
            "value": "Map: 100%"
          }
        },
        "8b7b6c1beb5345bb802ec2c5db8207ff": {
          "model_module": "@jupyter-widgets/controls",
          "model_name": "FloatProgressModel",
          "model_module_version": "1.5.0",
          "state": {
            "_dom_classes": [],
            "_model_module": "@jupyter-widgets/controls",
            "_model_module_version": "1.5.0",
            "_model_name": "FloatProgressModel",
            "_view_count": null,
            "_view_module": "@jupyter-widgets/controls",
            "_view_module_version": "1.5.0",
            "_view_name": "ProgressView",
            "bar_style": "success",
            "description": "",
            "description_tooltip": null,
            "layout": "IPY_MODEL_f84944371eaf48eb8eb358363935f1e1",
            "max": 1608,
            "min": 0,
            "orientation": "horizontal",
            "style": "IPY_MODEL_131fbc580beb4b14987063cab95a7456",
            "value": 1608
          }
        },
        "32152e9f2c224c39b334a8442ee12a68": {
          "model_module": "@jupyter-widgets/controls",
          "model_name": "HTMLModel",
          "model_module_version": "1.5.0",
          "state": {
            "_dom_classes": [],
            "_model_module": "@jupyter-widgets/controls",
            "_model_module_version": "1.5.0",
            "_model_name": "HTMLModel",
            "_view_count": null,
            "_view_module": "@jupyter-widgets/controls",
            "_view_module_version": "1.5.0",
            "_view_name": "HTMLView",
            "description": "",
            "description_tooltip": null,
            "layout": "IPY_MODEL_4248a0ccfa384213bbf51b8150e893da",
            "placeholder": "​",
            "style": "IPY_MODEL_e7b45a8abe214028a48facc17a0a1d92",
            "value": " 1608/1608 [00:04&lt;00:00, 363.88 examples/s]"
          }
        },
        "3bd6bb7a58324c6aa7fab8edacdf1a9b": {
          "model_module": "@jupyter-widgets/base",
          "model_name": "LayoutModel",
          "model_module_version": "1.2.0",
          "state": {
            "_model_module": "@jupyter-widgets/base",
            "_model_module_version": "1.2.0",
            "_model_name": "LayoutModel",
            "_view_count": null,
            "_view_module": "@jupyter-widgets/base",
            "_view_module_version": "1.2.0",
            "_view_name": "LayoutView",
            "align_content": null,
            "align_items": null,
            "align_self": null,
            "border": null,
            "bottom": null,
            "display": null,
            "flex": null,
            "flex_flow": null,
            "grid_area": null,
            "grid_auto_columns": null,
            "grid_auto_flow": null,
            "grid_auto_rows": null,
            "grid_column": null,
            "grid_gap": null,
            "grid_row": null,
            "grid_template_areas": null,
            "grid_template_columns": null,
            "grid_template_rows": null,
            "height": null,
            "justify_content": null,
            "justify_items": null,
            "left": null,
            "margin": null,
            "max_height": null,
            "max_width": null,
            "min_height": null,
            "min_width": null,
            "object_fit": null,
            "object_position": null,
            "order": null,
            "overflow": null,
            "overflow_x": null,
            "overflow_y": null,
            "padding": null,
            "right": null,
            "top": null,
            "visibility": null,
            "width": null
          }
        },
        "0996704e3add4c92b423bf46ef36e550": {
          "model_module": "@jupyter-widgets/base",
          "model_name": "LayoutModel",
          "model_module_version": "1.2.0",
          "state": {
            "_model_module": "@jupyter-widgets/base",
            "_model_module_version": "1.2.0",
            "_model_name": "LayoutModel",
            "_view_count": null,
            "_view_module": "@jupyter-widgets/base",
            "_view_module_version": "1.2.0",
            "_view_name": "LayoutView",
            "align_content": null,
            "align_items": null,
            "align_self": null,
            "border": null,
            "bottom": null,
            "display": null,
            "flex": null,
            "flex_flow": null,
            "grid_area": null,
            "grid_auto_columns": null,
            "grid_auto_flow": null,
            "grid_auto_rows": null,
            "grid_column": null,
            "grid_gap": null,
            "grid_row": null,
            "grid_template_areas": null,
            "grid_template_columns": null,
            "grid_template_rows": null,
            "height": null,
            "justify_content": null,
            "justify_items": null,
            "left": null,
            "margin": null,
            "max_height": null,
            "max_width": null,
            "min_height": null,
            "min_width": null,
            "object_fit": null,
            "object_position": null,
            "order": null,
            "overflow": null,
            "overflow_x": null,
            "overflow_y": null,
            "padding": null,
            "right": null,
            "top": null,
            "visibility": null,
            "width": null
          }
        },
        "d16ef5f6a9e142698335c0a45e0e494d": {
          "model_module": "@jupyter-widgets/controls",
          "model_name": "DescriptionStyleModel",
          "model_module_version": "1.5.0",
          "state": {
            "_model_module": "@jupyter-widgets/controls",
            "_model_module_version": "1.5.0",
            "_model_name": "DescriptionStyleModel",
            "_view_count": null,
            "_view_module": "@jupyter-widgets/base",
            "_view_module_version": "1.2.0",
            "_view_name": "StyleView",
            "description_width": ""
          }
        },
        "f84944371eaf48eb8eb358363935f1e1": {
          "model_module": "@jupyter-widgets/base",
          "model_name": "LayoutModel",
          "model_module_version": "1.2.0",
          "state": {
            "_model_module": "@jupyter-widgets/base",
            "_model_module_version": "1.2.0",
            "_model_name": "LayoutModel",
            "_view_count": null,
            "_view_module": "@jupyter-widgets/base",
            "_view_module_version": "1.2.0",
            "_view_name": "LayoutView",
            "align_content": null,
            "align_items": null,
            "align_self": null,
            "border": null,
            "bottom": null,
            "display": null,
            "flex": null,
            "flex_flow": null,
            "grid_area": null,
            "grid_auto_columns": null,
            "grid_auto_flow": null,
            "grid_auto_rows": null,
            "grid_column": null,
            "grid_gap": null,
            "grid_row": null,
            "grid_template_areas": null,
            "grid_template_columns": null,
            "grid_template_rows": null,
            "height": null,
            "justify_content": null,
            "justify_items": null,
            "left": null,
            "margin": null,
            "max_height": null,
            "max_width": null,
            "min_height": null,
            "min_width": null,
            "object_fit": null,
            "object_position": null,
            "order": null,
            "overflow": null,
            "overflow_x": null,
            "overflow_y": null,
            "padding": null,
            "right": null,
            "top": null,
            "visibility": null,
            "width": null
          }
        },
        "131fbc580beb4b14987063cab95a7456": {
          "model_module": "@jupyter-widgets/controls",
          "model_name": "ProgressStyleModel",
          "model_module_version": "1.5.0",
          "state": {
            "_model_module": "@jupyter-widgets/controls",
            "_model_module_version": "1.5.0",
            "_model_name": "ProgressStyleModel",
            "_view_count": null,
            "_view_module": "@jupyter-widgets/base",
            "_view_module_version": "1.2.0",
            "_view_name": "StyleView",
            "bar_color": null,
            "description_width": ""
          }
        },
        "4248a0ccfa384213bbf51b8150e893da": {
          "model_module": "@jupyter-widgets/base",
          "model_name": "LayoutModel",
          "model_module_version": "1.2.0",
          "state": {
            "_model_module": "@jupyter-widgets/base",
            "_model_module_version": "1.2.0",
            "_model_name": "LayoutModel",
            "_view_count": null,
            "_view_module": "@jupyter-widgets/base",
            "_view_module_version": "1.2.0",
            "_view_name": "LayoutView",
            "align_content": null,
            "align_items": null,
            "align_self": null,
            "border": null,
            "bottom": null,
            "display": null,
            "flex": null,
            "flex_flow": null,
            "grid_area": null,
            "grid_auto_columns": null,
            "grid_auto_flow": null,
            "grid_auto_rows": null,
            "grid_column": null,
            "grid_gap": null,
            "grid_row": null,
            "grid_template_areas": null,
            "grid_template_columns": null,
            "grid_template_rows": null,
            "height": null,
            "justify_content": null,
            "justify_items": null,
            "left": null,
            "margin": null,
            "max_height": null,
            "max_width": null,
            "min_height": null,
            "min_width": null,
            "object_fit": null,
            "object_position": null,
            "order": null,
            "overflow": null,
            "overflow_x": null,
            "overflow_y": null,
            "padding": null,
            "right": null,
            "top": null,
            "visibility": null,
            "width": null
          }
        },
        "e7b45a8abe214028a48facc17a0a1d92": {
          "model_module": "@jupyter-widgets/controls",
          "model_name": "DescriptionStyleModel",
          "model_module_version": "1.5.0",
          "state": {
            "_model_module": "@jupyter-widgets/controls",
            "_model_module_version": "1.5.0",
            "_model_name": "DescriptionStyleModel",
            "_view_count": null,
            "_view_module": "@jupyter-widgets/base",
            "_view_module_version": "1.2.0",
            "_view_name": "StyleView",
            "description_width": ""
          }
        },
        "18c3a42ded5a43788aaee24129edb4c6": {
          "model_module": "@jupyter-widgets/controls",
          "model_name": "HBoxModel",
          "model_module_version": "1.5.0",
          "state": {
            "_dom_classes": [],
            "_model_module": "@jupyter-widgets/controls",
            "_model_module_version": "1.5.0",
            "_model_name": "HBoxModel",
            "_view_count": null,
            "_view_module": "@jupyter-widgets/controls",
            "_view_module_version": "1.5.0",
            "_view_name": "HBoxView",
            "box_style": "",
            "children": [
              "IPY_MODEL_2ba60422d3484104b32243a3b8f7a1fc",
              "IPY_MODEL_ad7cdda67b0a40358d710e1abc14645b",
              "IPY_MODEL_39765ede5c85409bb567e349d60ba2ad"
            ],
            "layout": "IPY_MODEL_272070f74d854a9dab5a706bd49ef067"
          }
        },
        "2ba60422d3484104b32243a3b8f7a1fc": {
          "model_module": "@jupyter-widgets/controls",
          "model_name": "HTMLModel",
          "model_module_version": "1.5.0",
          "state": {
            "_dom_classes": [],
            "_model_module": "@jupyter-widgets/controls",
            "_model_module_version": "1.5.0",
            "_model_name": "HTMLModel",
            "_view_count": null,
            "_view_module": "@jupyter-widgets/controls",
            "_view_module_version": "1.5.0",
            "_view_name": "HTMLView",
            "description": "",
            "description_tooltip": null,
            "layout": "IPY_MODEL_863cbd6b85fa4078b7b764fd841298df",
            "placeholder": "​",
            "style": "IPY_MODEL_c571f371849c4d28baca140dd21fcfe2",
            "value": "Map: 100%"
          }
        },
        "ad7cdda67b0a40358d710e1abc14645b": {
          "model_module": "@jupyter-widgets/controls",
          "model_name": "FloatProgressModel",
          "model_module_version": "1.5.0",
          "state": {
            "_dom_classes": [],
            "_model_module": "@jupyter-widgets/controls",
            "_model_module_version": "1.5.0",
            "_model_name": "FloatProgressModel",
            "_view_count": null,
            "_view_module": "@jupyter-widgets/controls",
            "_view_module_version": "1.5.0",
            "_view_name": "ProgressView",
            "bar_style": "success",
            "description": "",
            "description_tooltip": null,
            "layout": "IPY_MODEL_ce441e698690409badd35cbbad9d77f4",
            "max": 403,
            "min": 0,
            "orientation": "horizontal",
            "style": "IPY_MODEL_cbfe787e4d1c4c4d8a6975e8ccf1b28d",
            "value": 403
          }
        },
        "39765ede5c85409bb567e349d60ba2ad": {
          "model_module": "@jupyter-widgets/controls",
          "model_name": "HTMLModel",
          "model_module_version": "1.5.0",
          "state": {
            "_dom_classes": [],
            "_model_module": "@jupyter-widgets/controls",
            "_model_module_version": "1.5.0",
            "_model_name": "HTMLModel",
            "_view_count": null,
            "_view_module": "@jupyter-widgets/controls",
            "_view_module_version": "1.5.0",
            "_view_name": "HTMLView",
            "description": "",
            "description_tooltip": null,
            "layout": "IPY_MODEL_e4e89618344f4a94994cd966f18d6894",
            "placeholder": "​",
            "style": "IPY_MODEL_d5fbc675a4c447e38558da38909c4300",
            "value": " 403/403 [00:01&lt;00:00, 418.86 examples/s]"
          }
        },
        "272070f74d854a9dab5a706bd49ef067": {
          "model_module": "@jupyter-widgets/base",
          "model_name": "LayoutModel",
          "model_module_version": "1.2.0",
          "state": {
            "_model_module": "@jupyter-widgets/base",
            "_model_module_version": "1.2.0",
            "_model_name": "LayoutModel",
            "_view_count": null,
            "_view_module": "@jupyter-widgets/base",
            "_view_module_version": "1.2.0",
            "_view_name": "LayoutView",
            "align_content": null,
            "align_items": null,
            "align_self": null,
            "border": null,
            "bottom": null,
            "display": null,
            "flex": null,
            "flex_flow": null,
            "grid_area": null,
            "grid_auto_columns": null,
            "grid_auto_flow": null,
            "grid_auto_rows": null,
            "grid_column": null,
            "grid_gap": null,
            "grid_row": null,
            "grid_template_areas": null,
            "grid_template_columns": null,
            "grid_template_rows": null,
            "height": null,
            "justify_content": null,
            "justify_items": null,
            "left": null,
            "margin": null,
            "max_height": null,
            "max_width": null,
            "min_height": null,
            "min_width": null,
            "object_fit": null,
            "object_position": null,
            "order": null,
            "overflow": null,
            "overflow_x": null,
            "overflow_y": null,
            "padding": null,
            "right": null,
            "top": null,
            "visibility": null,
            "width": null
          }
        },
        "863cbd6b85fa4078b7b764fd841298df": {
          "model_module": "@jupyter-widgets/base",
          "model_name": "LayoutModel",
          "model_module_version": "1.2.0",
          "state": {
            "_model_module": "@jupyter-widgets/base",
            "_model_module_version": "1.2.0",
            "_model_name": "LayoutModel",
            "_view_count": null,
            "_view_module": "@jupyter-widgets/base",
            "_view_module_version": "1.2.0",
            "_view_name": "LayoutView",
            "align_content": null,
            "align_items": null,
            "align_self": null,
            "border": null,
            "bottom": null,
            "display": null,
            "flex": null,
            "flex_flow": null,
            "grid_area": null,
            "grid_auto_columns": null,
            "grid_auto_flow": null,
            "grid_auto_rows": null,
            "grid_column": null,
            "grid_gap": null,
            "grid_row": null,
            "grid_template_areas": null,
            "grid_template_columns": null,
            "grid_template_rows": null,
            "height": null,
            "justify_content": null,
            "justify_items": null,
            "left": null,
            "margin": null,
            "max_height": null,
            "max_width": null,
            "min_height": null,
            "min_width": null,
            "object_fit": null,
            "object_position": null,
            "order": null,
            "overflow": null,
            "overflow_x": null,
            "overflow_y": null,
            "padding": null,
            "right": null,
            "top": null,
            "visibility": null,
            "width": null
          }
        },
        "c571f371849c4d28baca140dd21fcfe2": {
          "model_module": "@jupyter-widgets/controls",
          "model_name": "DescriptionStyleModel",
          "model_module_version": "1.5.0",
          "state": {
            "_model_module": "@jupyter-widgets/controls",
            "_model_module_version": "1.5.0",
            "_model_name": "DescriptionStyleModel",
            "_view_count": null,
            "_view_module": "@jupyter-widgets/base",
            "_view_module_version": "1.2.0",
            "_view_name": "StyleView",
            "description_width": ""
          }
        },
        "ce441e698690409badd35cbbad9d77f4": {
          "model_module": "@jupyter-widgets/base",
          "model_name": "LayoutModel",
          "model_module_version": "1.2.0",
          "state": {
            "_model_module": "@jupyter-widgets/base",
            "_model_module_version": "1.2.0",
            "_model_name": "LayoutModel",
            "_view_count": null,
            "_view_module": "@jupyter-widgets/base",
            "_view_module_version": "1.2.0",
            "_view_name": "LayoutView",
            "align_content": null,
            "align_items": null,
            "align_self": null,
            "border": null,
            "bottom": null,
            "display": null,
            "flex": null,
            "flex_flow": null,
            "grid_area": null,
            "grid_auto_columns": null,
            "grid_auto_flow": null,
            "grid_auto_rows": null,
            "grid_column": null,
            "grid_gap": null,
            "grid_row": null,
            "grid_template_areas": null,
            "grid_template_columns": null,
            "grid_template_rows": null,
            "height": null,
            "justify_content": null,
            "justify_items": null,
            "left": null,
            "margin": null,
            "max_height": null,
            "max_width": null,
            "min_height": null,
            "min_width": null,
            "object_fit": null,
            "object_position": null,
            "order": null,
            "overflow": null,
            "overflow_x": null,
            "overflow_y": null,
            "padding": null,
            "right": null,
            "top": null,
            "visibility": null,
            "width": null
          }
        },
        "cbfe787e4d1c4c4d8a6975e8ccf1b28d": {
          "model_module": "@jupyter-widgets/controls",
          "model_name": "ProgressStyleModel",
          "model_module_version": "1.5.0",
          "state": {
            "_model_module": "@jupyter-widgets/controls",
            "_model_module_version": "1.5.0",
            "_model_name": "ProgressStyleModel",
            "_view_count": null,
            "_view_module": "@jupyter-widgets/base",
            "_view_module_version": "1.2.0",
            "_view_name": "StyleView",
            "bar_color": null,
            "description_width": ""
          }
        },
        "e4e89618344f4a94994cd966f18d6894": {
          "model_module": "@jupyter-widgets/base",
          "model_name": "LayoutModel",
          "model_module_version": "1.2.0",
          "state": {
            "_model_module": "@jupyter-widgets/base",
            "_model_module_version": "1.2.0",
            "_model_name": "LayoutModel",
            "_view_count": null,
            "_view_module": "@jupyter-widgets/base",
            "_view_module_version": "1.2.0",
            "_view_name": "LayoutView",
            "align_content": null,
            "align_items": null,
            "align_self": null,
            "border": null,
            "bottom": null,
            "display": null,
            "flex": null,
            "flex_flow": null,
            "grid_area": null,
            "grid_auto_columns": null,
            "grid_auto_flow": null,
            "grid_auto_rows": null,
            "grid_column": null,
            "grid_gap": null,
            "grid_row": null,
            "grid_template_areas": null,
            "grid_template_columns": null,
            "grid_template_rows": null,
            "height": null,
            "justify_content": null,
            "justify_items": null,
            "left": null,
            "margin": null,
            "max_height": null,
            "max_width": null,
            "min_height": null,
            "min_width": null,
            "object_fit": null,
            "object_position": null,
            "order": null,
            "overflow": null,
            "overflow_x": null,
            "overflow_y": null,
            "padding": null,
            "right": null,
            "top": null,
            "visibility": null,
            "width": null
          }
        },
        "d5fbc675a4c447e38558da38909c4300": {
          "model_module": "@jupyter-widgets/controls",
          "model_name": "DescriptionStyleModel",
          "model_module_version": "1.5.0",
          "state": {
            "_model_module": "@jupyter-widgets/controls",
            "_model_module_version": "1.5.0",
            "_model_name": "DescriptionStyleModel",
            "_view_count": null,
            "_view_module": "@jupyter-widgets/base",
            "_view_module_version": "1.2.0",
            "_view_name": "StyleView",
            "description_width": ""
          }
        }
      }
    }
  },
  "nbformat": 4,
  "nbformat_minor": 0
}