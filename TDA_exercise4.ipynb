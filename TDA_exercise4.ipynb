{
  "nbformat": 4,
  "nbformat_minor": 0,
  "metadata": {
    "colab": {
      "provenance": [],
      "machine_shape": "hm",
      "gpuType": "L4"
    },
    "kernelspec": {
      "name": "python3",
      "display_name": "Python 3"
    },
    "language_info": {
      "name": "python"
    },
    "accelerator": "GPU"
  },
  "cells": [
    {
      "cell_type": "markdown",
      "source": [
        "# TEXTUAL DATA ANALYSIS EXERCISE 4"
      ],
      "metadata": {
        "id": "pYOQi7WHUBK1"
      }
    },
    {
      "cell_type": "markdown",
      "source": [
        "## Preface"
      ],
      "metadata": {
        "id": "jtX_YWA5LZTx"
      }
    },
    {
      "cell_type": "markdown",
      "source": [
        "Duplicate detection is one of the applications of embeddings. Let's try!\n",
        "\n",
        "Grab the first 2000 examples of this dataset: https://huggingface.co/datasets/sentence-transformers/quora-duplicates (the \"pairs\" version) which contains examples of duplicate questions in Quora. Each example has an *anchor* and a *positive* and they form a duplicate question pair.\n",
        "\n",
        "Embed both anchors and positives with some embedding model. You can get away with a small, simple model like `all-MiniLM-L6-v2` which allows you to run this on CPU. Index the *positive* embeddings in FAISS (`IndexFlatL2` is quite enough!). Then, query the index with the *anchors* and evaluate how often the correct hit (i.e. the corresponding *positive* to the query *anchor*) is in top 1 and how often it is in top 5 (say). In other words, you are evaluating the accuracy of the retrieval."
      ],
      "metadata": {
        "id": "-FAHER9HLb5K"
      }
    },
    {
      "cell_type": "markdown",
      "source": [
        "## SETUP"
      ],
      "metadata": {
        "id": "aKbNtSH2UFGn"
      }
    },
    {
      "cell_type": "markdown",
      "source": [
        "### install"
      ],
      "metadata": {
        "id": "cX3cNbzBUJJ6"
      }
    },
    {
      "cell_type": "code",
      "source": [
        "!pip3 install -q datasets faiss-cpu"
      ],
      "metadata": {
        "id": "F50X8BrjTbd8"
      },
      "execution_count": 18,
      "outputs": []
    },
    {
      "cell_type": "code",
      "source": [
        "from sentence_transformers import SentenceTransformer\n",
        "import faiss\n",
        "from datasets import load_dataset"
      ],
      "metadata": {
        "id": "7KB-FwfETNhB"
      },
      "execution_count": 19,
      "outputs": []
    },
    {
      "cell_type": "markdown",
      "source": [
        "## LOAD"
      ],
      "metadata": {
        "id": "SxLd_MRJULlI"
      }
    },
    {
      "cell_type": "markdown",
      "source": [
        "### load dataset"
      ],
      "metadata": {
        "id": "m9fk1DVYSs0y"
      }
    },
    {
      "cell_type": "code",
      "source": [
        "quora_string = 'sentence-transformers/quora-duplicates'\n",
        "dataset = load_dataset(quora_string, 'pair')\n",
        "dataset"
      ],
      "metadata": {
        "id": "f4vEjn_OSvsD",
        "colab": {
          "base_uri": "https://localhost:8080/"
        },
        "outputId": "a378e2eb-9aca-4838-aea2-eb57c5b5946f"
      },
      "execution_count": 20,
      "outputs": [
        {
          "output_type": "execute_result",
          "data": {
            "text/plain": [
              "DatasetDict({\n",
              "    train: Dataset({\n",
              "        features: ['anchor', 'positive'],\n",
              "        num_rows: 149263\n",
              "    })\n",
              "})"
            ]
          },
          "metadata": {},
          "execution_count": 20
        }
      ]
    },
    {
      "cell_type": "code",
      "source": [
        "# select first 2000\n",
        "dataset = dataset['train'].select(range(2000))\n",
        "dataset"
      ],
      "metadata": {
        "colab": {
          "base_uri": "https://localhost:8080/"
        },
        "id": "_r1AezxKMPPz",
        "outputId": "d84e1829-28d4-4b2d-b970-0b8e20438b3a"
      },
      "execution_count": 21,
      "outputs": [
        {
          "output_type": "execute_result",
          "data": {
            "text/plain": [
              "Dataset({\n",
              "    features: ['anchor', 'positive'],\n",
              "    num_rows: 2000\n",
              "})"
            ]
          },
          "metadata": {},
          "execution_count": 21
        }
      ]
    },
    {
      "cell_type": "markdown",
      "source": [
        "## Model"
      ],
      "metadata": {
        "id": "qSYEhEPUOVav"
      }
    },
    {
      "cell_type": "code",
      "source": [
        "model = SentenceTransformer('intfloat/e5-small-v2')"
      ],
      "metadata": {
        "id": "iAY-FE2mM2k7"
      },
      "execution_count": 22,
      "outputs": []
    },
    {
      "cell_type": "markdown",
      "source": [
        "## Embed"
      ],
      "metadata": {
        "id": "gzzQm72kNQHQ"
      }
    },
    {
      "cell_type": "code",
      "source": [
        "anchors = model.encode(dataset['anchor'])"
      ],
      "metadata": {
        "id": "F0Adw_6KNVKX"
      },
      "execution_count": 23,
      "outputs": []
    },
    {
      "cell_type": "code",
      "source": [
        "print(anchors.__class__)\n",
        "print(anchors.shape)"
      ],
      "metadata": {
        "colab": {
          "base_uri": "https://localhost:8080/"
        },
        "id": "QhuAMyQROCp1",
        "outputId": "ca4d14e8-3276-4138-e850-ddb9fe7bbba2"
      },
      "execution_count": 24,
      "outputs": [
        {
          "output_type": "stream",
          "name": "stdout",
          "text": [
            "<class 'numpy.ndarray'>\n",
            "(2000, 384)\n"
          ]
        }
      ]
    },
    {
      "cell_type": "code",
      "source": [
        "positives = model.encode(dataset['positive'])"
      ],
      "metadata": {
        "id": "tq6HVmB4N9zi"
      },
      "execution_count": 25,
      "outputs": []
    },
    {
      "cell_type": "code",
      "source": [
        "print(positives.__class__)\n",
        "print(positives.shape)"
      ],
      "metadata": {
        "colab": {
          "base_uri": "https://localhost:8080/"
        },
        "id": "AGC0EYSnOP7L",
        "outputId": "93e32fd9-c08c-4675-f8a1-e6989478bba7"
      },
      "execution_count": 26,
      "outputs": [
        {
          "output_type": "stream",
          "name": "stdout",
          "text": [
            "<class 'numpy.ndarray'>\n",
            "(2000, 384)\n"
          ]
        }
      ]
    },
    {
      "cell_type": "markdown",
      "source": [
        "## Test with template examples ''exhaustive lookup'' -- to get the feel of the mechanics\n",
        "\n",
        "(not the actual task)"
      ],
      "metadata": {
        "id": "Num6uDqkPbHl"
      }
    },
    {
      "cell_type": "code",
      "source": [
        "dataset['anchor'][0]"
      ],
      "metadata": {
        "colab": {
          "base_uri": "https://localhost:8080/",
          "height": 35
        },
        "id": "uPImo7lGPPyv",
        "outputId": "04809e21-79a9-4cc7-e4dd-cf26e263de96"
      },
      "execution_count": 27,
      "outputs": [
        {
          "output_type": "execute_result",
          "data": {
            "text/plain": [
              "'Astrology: I am a Capricorn Sun Cap moon and cap rising...what does that say about me?'"
            ],
            "application/vnd.google.colaboratory.intrinsic+json": {
              "type": "string"
            }
          },
          "metadata": {},
          "execution_count": 27
        }
      ]
    },
    {
      "cell_type": "code",
      "source": [
        "query=dataset['anchor'][0]\n",
        "\n",
        "q_emb=model.encode([query]) #we could do without the [...] but this way it is easy to extend to many queries at once\n",
        "print(type(q_emb))\n",
        "q_emb.shape"
      ],
      "metadata": {
        "colab": {
          "base_uri": "https://localhost:8080/"
        },
        "id": "IN_F0vM_PHQ7",
        "outputId": "3369c425-b1e1-495c-f055-049b130eedb0"
      },
      "execution_count": 28,
      "outputs": [
        {
          "output_type": "stream",
          "name": "stdout",
          "text": [
            "<class 'numpy.ndarray'>\n"
          ]
        },
        {
          "output_type": "execute_result",
          "data": {
            "text/plain": [
              "(1, 384)"
            ]
          },
          "metadata": {},
          "execution_count": 28
        }
      ]
    },
    {
      "cell_type": "code",
      "source": [
        "from sklearn.metrics.pairwise import cosine_similarity as cs\n",
        "similarities=cs(q_emb,positives)\n",
        "print(similarities.shape)"
      ],
      "metadata": {
        "colab": {
          "base_uri": "https://localhost:8080/"
        },
        "id": "VcNoRV-DPn2G",
        "outputId": "3b262f7a-3316-4d83-c8b9-c8d5975d7376"
      },
      "execution_count": 29,
      "outputs": [
        {
          "output_type": "stream",
          "name": "stdout",
          "text": [
            "(1, 2000)\n"
          ]
        }
      ]
    },
    {
      "cell_type": "code",
      "source": [
        "best_match_idxs=similarities.argmax(axis=1)\n",
        "print(best_match_idxs)\n",
        "best_match = dataset['positive'][0]"
      ],
      "metadata": {
        "colab": {
          "base_uri": "https://localhost:8080/"
        },
        "id": "kwwt6OIAP092",
        "outputId": "91419be5-6ba0-4026-8aad-09e2fccd823b"
      },
      "execution_count": 30,
      "outputs": [
        {
          "output_type": "stream",
          "name": "stdout",
          "text": [
            "[0]\n"
          ]
        }
      ]
    },
    {
      "cell_type": "code",
      "source": [
        "print()\n",
        "print(f'{query}', end=\"\\n\\n\")\n",
        "print(\"has best match in positives as\", end =\"\\n\\n\")\n",
        "print(f'{best_match}')"
      ],
      "metadata": {
        "colab": {
          "base_uri": "https://localhost:8080/"
        },
        "id": "eut437b6P5AB",
        "outputId": "2687550d-2d24-4211-b962-d61023965786"
      },
      "execution_count": 31,
      "outputs": [
        {
          "output_type": "stream",
          "name": "stdout",
          "text": [
            "\n",
            "Astrology: I am a Capricorn Sun Cap moon and cap rising...what does that say about me?\n",
            "\n",
            "has best match in positives as\n",
            "\n",
            "I'm a triple Capricorn (Sun, Moon and ascendant in Capricorn) What does this say about me?\n"
          ]
        }
      ]
    },
    {
      "cell_type": "markdown",
      "source": [
        "## Faiss\n",
        "\n",
        "(the actual task)"
      ],
      "metadata": {
        "id": "MvqzIdM4Oa4s"
      }
    },
    {
      "cell_type": "markdown",
      "source": [
        " Index the *positive* embeddings in FAISS (`IndexFlatL2` is quite enough!). Then, query the index with the *anchors* and evaluate how often the correct hit (i.e. the corresponding *positive* to the query *anchor*) is in top 1 and how often it is in top 5 (say). In other words, you are evaluating the accuracy of the retrieval."
      ],
      "metadata": {
        "id": "IjURGPOrOdtV"
      }
    },
    {
      "cell_type": "code",
      "source": [
        "dims = positives.shape[1] # gives the dimensinality counts"
      ],
      "metadata": {
        "id": "dCWE_e4XOcDl"
      },
      "execution_count": 32,
      "outputs": []
    },
    {
      "cell_type": "code",
      "source": [
        "coarse_quantizer = faiss.IndexFlatL2(dims)\n",
        "nlist = 50 # for better true acc higher\n",
        "n_partitions = 8\n",
        "assert dims%n_partitions==0, f\"n_partitions {n_partitions} must divide dims {dims}\"\n",
        "nbits = 8\n",
        "index = faiss.IndexIVFPQ(coarse_quantizer, dims, nlist, n_partitions, nbits)\n",
        "index.nprobe = 5 # Count of voronoi cells to probe\n",
        "index.train(positives[:500])\n",
        "index.add(positives)"
      ],
      "metadata": {
        "id": "v7cIVpU0SVnN"
      },
      "execution_count": 59,
      "outputs": []
    },
    {
      "cell_type": "code",
      "source": [
        "# inspiration from this\n",
        "\n",
        "distances, indices = index.search(q_emb,5)\n",
        "\n",
        "print(f'the actual querystring with index 0 is:\\n{query}', end=\"\\n\\n\")\n",
        "for i, indx in enumerate(indices[0]):\n",
        "  text = dataset['positive'][i]\n",
        "  if indx == 0:\n",
        "    print(\"matched rank\")\n",
        "  print(f'ranked as {i+1} from index {indx}')\n",
        "  print(f'with text: {text}')"
      ],
      "metadata": {
        "colab": {
          "base_uri": "https://localhost:8080/"
        },
        "id": "0lThZQWkSdKl",
        "outputId": "a38c2cac-7286-4978-9c19-10b641537074"
      },
      "execution_count": 60,
      "outputs": [
        {
          "output_type": "stream",
          "name": "stdout",
          "text": [
            "the actual querystring with index 0 is:\n",
            "Astrology: I am a Capricorn Sun Cap moon and cap rising...what does that say about me?\n",
            "\n",
            "matched rank\n",
            "ranked as 1 from index 0\n",
            "with text: I'm a triple Capricorn (Sun, Moon and ascendant in Capricorn) What does this say about me?\n",
            "ranked as 2 from index 432\n",
            "with text: What should I do to be a great geologist?\n",
            "ranked as 3 from index 1949\n",
            "with text: How can I see all my Youtube comments?\n",
            "ranked as 4 from index 681\n",
            "with text: How can you make physics easy to learn?\n",
            "ranked as 5 from index 1445\n",
            "with text: What was your first sexual experience?\n"
          ]
        }
      ]
    },
    {
      "cell_type": "code",
      "source": [
        "# the actual task\n",
        "\n",
        "top1 = 0\n",
        "top5 = 0\n",
        "\n",
        "# for plot\n",
        "accuracy = []\n",
        "divisor = 1\n",
        "\n",
        "for i, a in enumerate(anchors):\n",
        "  emb_arr = anchors[i:i+1]\n",
        "  distances, indices = index.search(emb_arr, 5) # search for top 5 hits\n",
        "  if i == indices[0][0]:\n",
        "    top1 += 1\n",
        "  elif i in indices[0]:\n",
        "    top5 += 1\n",
        "  accuracy.append((top1 + top5) / divisor)\n",
        "  divisor += 1\n",
        "\n"
      ],
      "metadata": {
        "id": "k8b_lr0rVuzV"
      },
      "execution_count": 61,
      "outputs": []
    },
    {
      "cell_type": "code",
      "source": [
        "import matplotlib.pyplot as plt\n",
        "\n",
        "plt.plot(accuracy)\n",
        "plt.title('Plot of accuracy')\n",
        "plt.xlabel('index')\n",
        "plt.ylabel('top5')\n",
        "plt.show()"
      ],
      "metadata": {
        "colab": {
          "base_uri": "https://localhost:8080/",
          "height": 472
        },
        "id": "FfjkIhyRbuYw",
        "outputId": "82fe9cea-0f1c-4d42-ea01-a80a48c9d95a"
      },
      "execution_count": 62,
      "outputs": [
        {
          "output_type": "display_data",
          "data": {
            "text/plain": [
              "<Figure size 640x480 with 1 Axes>"
            ],
            "image/png": "[encoded data removed]"
          },
          "metadata": {}
        }
      ]
    },
    {
      "cell_type": "code",
      "source": [
        "print(f\"final accuracy of the model is {accuracy[-1]}\")"
      ],
      "metadata": {
        "colab": {
          "base_uri": "https://localhost:8080/"
        },
        "id": "TYlgRS2yfm5L",
        "outputId": "170c06f7-d955-4b62-be1f-ba330a092a95"
      },
      "execution_count": 63,
      "outputs": [
        {
          "output_type": "stream",
          "name": "stdout",
          "text": [
            "final accuracy of the model is 0.811\n"
          ]
        }
      ]
    }
  ]
}