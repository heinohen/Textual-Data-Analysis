{
  "nbformat": 4,
  "nbformat_minor": 0,
  "metadata": {
    "colab": {
      "provenance": [],
      "machine_shape": "hm",
      "gpuType": "L4",
      "authorship_tag": "ABX9TyO60GZR/nBTJpLCtyrEGT0u",
      "include_colab_link": true
    },
    "kernelspec": {
      "name": "python3",
      "display_name": "Python 3"
    },
    "language_info": {
      "name": "python"
    },
    "accelerator": "GPU"
  },
  "cells": [
    {
      "cell_type": "markdown",
      "metadata": {
        "id": "view-in-github",
        "colab_type": "text"
      },
      "source": [
        "<a href=\"https://colab.research.google.com/github/heinohen/Textual-Data-Analysis/blob/main/TDA_exercise11_chatbot.ipynb\" target=\"_parent\"><img src=\"https://colab.research.google.com/assets/colab-badge.svg\" alt=\"Open In Colab\"/></a>"
      ]
    },
    {
      "cell_type": "markdown",
      "source": [
        "\n",
        "\n",
        "# Textual data analysis exercise 11 - basic chatbot\n",
        "\n"
      ],
      "metadata": {
        "id": "Q7pl3gUyc8KZ"
      }
    },
    {
      "cell_type": "markdown",
      "source": [
        "## Setup"
      ],
      "metadata": {
        "id": "_dYDguQ9eWLS"
      }
    },
    {
      "cell_type": "markdown",
      "source": [
        "### installs"
      ],
      "metadata": {
        "id": "3X7hJloEdFWF"
      }
    },
    {
      "cell_type": "code",
      "source": [
        "%%bash\n",
        "\n",
        "pip3 install -q transformers torch"
      ],
      "metadata": {
        "id": "bRFoqyLUdGkz",
        "outputId": "28ffc428-19c2-4461-e745-e76b6f001e75",
        "colab": {
          "base_uri": "https://localhost:8080/"
        }
      },
      "execution_count": 1,
      "outputs": [
        {
          "output_type": "stream",
          "name": "stdout",
          "text": [
            "   ━━━━━━━━━━━━━━━━━━━━━━━━━━━━━━━━━━━━━━━━ 363.4/363.4 MB 3.4 MB/s eta 0:00:00\n",
            "   ━━━━━━━━━━━━━━━━━━━━━━━━━━━━━━━━━━━━━━━━ 13.8/13.8 MB 105.1 MB/s eta 0:00:00\n",
            "   ━━━━━━━━━━━━━━━━━━━━━━━━━━━━━━━━━━━━━━━━ 24.6/24.6 MB 76.8 MB/s eta 0:00:00\n",
            "   ━━━━━━━━━━━━━━━━━━━━━━━━━━━━━━━━━━━━━━━━ 883.7/883.7 kB 47.7 MB/s eta 0:00:00\n",
            "   ━━━━━━━━━━━━━━━━━━━━━━━━━━━━━━━━━━━━━━━━ 664.8/664.8 MB 1.9 MB/s eta 0:00:00\n",
            "   ━━━━━━━━━━━━━━━━━━━━━━━━━━━━━━━━━━━━━━━━ 211.5/211.5 MB 4.7 MB/s eta 0:00:00\n",
            "   ━━━━━━━━━━━━━━━━━━━━━━━━━━━━━━━━━━━━━━━━ 56.3/56.3 MB 41.5 MB/s eta 0:00:00\n",
            "   ━━━━━━━━━━━━━━━━━━━━━━━━━━━━━━━━━━━━━━━━ 127.9/127.9 MB 17.9 MB/s eta 0:00:00\n",
            "   ━━━━━━━━━━━━━━━━━━━━━━━━━━━━━━━━━━━━━━━━ 207.5/207.5 MB 5.8 MB/s eta 0:00:00\n",
            "   ━━━━━━━━━━━━━━━━━━━━━━━━━━━━━━━━━━━━━━━━ 21.1/21.1 MB 98.4 MB/s eta 0:00:00\n"
          ]
        }
      ]
    },
    {
      "cell_type": "code",
      "source": [
        "!nvidia-smi"
      ],
      "metadata": {
        "colab": {
          "base_uri": "https://localhost:8080/"
        },
        "id": "GuaGSNPbhHaQ",
        "outputId": "3fd88704-d5ad-4d62-efcf-9d01ac736016"
      },
      "execution_count": 2,
      "outputs": [
        {
          "output_type": "stream",
          "name": "stdout",
          "text": [
            "Fri Feb 21 08:24:52 2025       \n",
            "+-----------------------------------------------------------------------------------------+\n",
            "| NVIDIA-SMI 550.54.15              Driver Version: 550.54.15      CUDA Version: 12.4     |\n",
            "|-----------------------------------------+------------------------+----------------------+\n",
            "| GPU  Name                 Persistence-M | Bus-Id          Disp.A | Volatile Uncorr. ECC |\n",
            "| Fan  Temp   Perf          Pwr:Usage/Cap |           Memory-Usage | GPU-Util  Compute M. |\n",
            "|                                         |                        |               MIG M. |\n",
            "|=========================================+========================+======================|\n",
            "|   0  NVIDIA L4                      Off |   00000000:00:03.0 Off |                    0 |\n",
            "| N/A   49C    P8             12W /   72W |       0MiB /  23034MiB |      0%      Default |\n",
            "|                                         |                        |                  N/A |\n",
            "+-----------------------------------------+------------------------+----------------------+\n",
            "                                                                                         \n",
            "+-----------------------------------------------------------------------------------------+\n",
            "| Processes:                                                                              |\n",
            "|  GPU   GI   CI        PID   Type   Process name                              GPU Memory |\n",
            "|        ID   ID                                                               Usage      |\n",
            "|=========================================================================================|\n",
            "|  No running processes found                                                             |\n",
            "+-----------------------------------------------------------------------------------------+\n"
          ]
        }
      ]
    },
    {
      "cell_type": "markdown",
      "source": [
        "### imports"
      ],
      "metadata": {
        "id": "44v3JtuadDQv"
      }
    },
    {
      "cell_type": "code",
      "source": [
        "import transformers\n",
        "\n",
        "from transformers import AutoModelForCausalLM, AutoTokenizer\n",
        "from huggingface_hub import login\n",
        "from google.colab import userdata\n",
        "import datetime"
      ],
      "metadata": {
        "id": "JfPsWm86dE33"
      },
      "execution_count": 3,
      "outputs": []
    },
    {
      "cell_type": "code",
      "source": [
        "hf_token = userdata.get('huggingface')\n",
        "login(token=hf_token, add_to_git_credential=True)"
      ],
      "metadata": {
        "id": "DdUAfCiGhvdZ"
      },
      "execution_count": 4,
      "outputs": []
    },
    {
      "cell_type": "markdown",
      "source": [
        "## model"
      ],
      "metadata": {
        "id": "wtt-yPBZdhmk"
      }
    },
    {
      "cell_type": "code",
      "source": [
        "MODEL_NAME = 'HuggingFaceTB/SmolLM2-1.7B-Instruct'"
      ],
      "metadata": {
        "id": "5Sjtzlwudi7h"
      },
      "execution_count": 5,
      "outputs": []
    },
    {
      "cell_type": "code",
      "source": [
        "tokenizer = AutoTokenizer.from_pretrained(MODEL_NAME)\n",
        "device = \"cuda\"\n",
        "model = AutoModelForCausalLM.from_pretrained(MODEL_NAME).to(device)"
      ],
      "metadata": {
        "id": "YVv9v6vzgwTy"
      },
      "execution_count": 10,
      "outputs": []
    },
    {
      "cell_type": "markdown",
      "source": [
        "# TASK"
      ],
      "metadata": {
        "id": "UPNj-IFnYZiG"
      }
    },
    {
      "cell_type": "markdown",
      "source": [
        "## description\n",
        "\n",
        "* At least 5 questions about basic facts about the world (e.g. the capital of a country)\n",
        "* At least 5 arithmetic questions ranging from trivial (\"what is 1+1?\") to more complex\n",
        "* Inform the system of a secret word (e.g. \"zebra\"), then after a few other questions ask it what the secret word is. Make sure you understand where the memory of that secret word is."
      ],
      "metadata": {
        "id": "e-iS1JwkYcP0"
      }
    },
    {
      "cell_type": "markdown",
      "source": [
        "# PROGRAM"
      ],
      "metadata": {
        "id": "thUiVFfKeaEn"
      }
    },
    {
      "cell_type": "markdown",
      "source": [
        "## data storage"
      ],
      "metadata": {
        "id": "snhEW3qQd-51"
      }
    },
    {
      "cell_type": "code",
      "source": [
        "message_history = []"
      ],
      "metadata": {
        "id": "MJH8YUSqedq4"
      },
      "execution_count": 11,
      "outputs": []
    },
    {
      "cell_type": "markdown",
      "source": [
        "## actual functionality"
      ],
      "metadata": {
        "id": "tDkKCcKmefK-"
      }
    },
    {
      "cell_type": "code",
      "source": [
        "while True:\n",
        "    user_input = input('Say something (\"exit\" to quit): ')\n",
        "    if user_input == 'exit':\n",
        "        break\n",
        "    message_history.append({\"role\": \"user\", \"content\": f\"{user_input}\"})\n",
        "    input_text=tokenizer.apply_chat_template(message_history, tokenize=False)\n",
        "    inputs = tokenizer.encode(input_text, return_tensors=\"pt\").to(device)\n",
        "    outputs = model.generate(inputs,\n",
        "                             max_new_tokens=50,\n",
        "                             temperature=0.2,\n",
        "                             top_p=0.9,\n",
        "                             do_sample=True)\n",
        "    result = tokenizer.decode(outputs[0][len(inputs[0]):], skip_special_tokens=True).rstrip().split() # this starts to decode the answer from the end of the current length of the previous messages and splits it to list\n",
        "    answer = \" \".join(result[1:]) # removes the \"assistant\" from the beginning\n",
        "    message_history.append({\"role\": \"assistant\", \"content\": answer})\n",
        "    print(answer)"
      ],
      "metadata": {
        "colab": {
          "base_uri": "https://localhost:8080/"
        },
        "id": "s20V5Bp-dBbO",
        "outputId": "ea876325-8758-4c44-b80d-981824a52c00"
      },
      "execution_count": 12,
      "outputs": [
        {
          "name": "stdout",
          "output_type": "stream",
          "text": [
            "Say something (\"exit\" to quit): hello\n",
            "Hello! How can I assist you today?\n",
            "Say something (\"exit\" to quit): i have some questions\n",
            "Of course, I'm here to help. What questions do you have?\n",
            "Say something (\"exit\" to quit): what is the capital of finland\n",
            "The capital of Finland is Helsinki.\n",
            "Say something (\"exit\" to quit): what is the capital of sweden\n",
            "The capital of Sweden is Stockholm.\n",
            "Say something (\"exit\" to quit): what is the name of the ocean that divides europe and america\n",
            "The ocean that divides Europe and America is the Atlantic Ocean.\n",
            "Say something (\"exit\" to quit): what are the planets of our solar system\n",
            "The planets of our solar system are: 1. Mercury 2. Venus 3. Earth 4. Mars 5. Jupiter 6. Saturn 7. Uranus 8. Neptune Please note that Pluto\n",
            "Say something (\"exit\" to quit): ok then on to some math\n",
            "I'm ready to help with math questions. What topic or problem would you like to discuss?\n",
            "Say something (\"exit\" to quit): 1+1\n",
            "The sum of 1 and 1 is 2.\n",
            "Say something (\"exit\" to quit): 2-2\n",
            "The difference of 2 and 2 is 0.\n",
            "Say something (\"exit\" to quit): 3 / 3\n",
            "The result of 3 divided by 3 is 1.\n",
            "Say something (\"exit\" to quit): 4 \n",
            "The number 4 is a whole number.\n",
            "Say something (\"exit\" to quit): 43.2342\n",
            "The number 43.2342 is a decimal number.\n",
            "Say something (\"exit\" to quit): 4 * 4\n",
            "The result of 4 multiplied by 4 is 16.\n",
            "Say something (\"exit\" to quit): 10 ^ 3\n",
            "The result of 10 raised to the power of 3 is 1000.\n",
            "Say something (\"exit\" to quit): ok then\n",
            "It seems like you're done with your questions. If you have any more, feel free to ask!\n",
            "Say something (\"exit\" to quit): i have a secret word \"ZEBRA\", remember it\n",
            "I remember the word \"ZEBRA\".\n",
            "Say something (\"exit\" to quit): how long does it take by train from helsinki to turku\n",
            "The journey from Helsinki to Turku by train takes approximately 1 hour and 15 minutes.\n",
            "Say something (\"exit\" to quit): what is the average speed of the train then?\n",
            "The average speed of the train from Helsinki to Turku is around 120-130 km/h.\n",
            "Say something (\"exit\" to quit): ok where does santa clause live\n",
            "Santa Claus, also known as Father Christmas, lives at the North Pole.\n",
            "Say something (\"exit\" to quit): what was the secret word\n",
            "The secret word was \"ZEBRA\".\n",
            "Say something (\"exit\" to quit): ok bye\n",
            "It was nice chatting with you. Have a great day!\n",
            "Say something (\"exit\" to quit): exit\n"
          ]
        }
      ]
    },
    {
      "cell_type": "markdown",
      "source": [
        "# MESSAGE LOG"
      ],
      "metadata": {
        "id": "ZGYPJItroLzE"
      }
    },
    {
      "cell_type": "code",
      "source": [
        "length = 10\n",
        "\n",
        "for m in message_history:\n",
        "\n",
        "  message = f\"{m['role']}\"\n",
        "  print(f\"{message:<{length}}\",\"=>\\t\", m['content'])"
      ],
      "metadata": {
        "colab": {
          "base_uri": "https://localhost:8080/"
        },
        "id": "zz6F5mRheu_P",
        "outputId": "8b505975-5034-4324-d02e-2a919a1bb487"
      },
      "execution_count": 13,
      "outputs": [
        {
          "output_type": "stream",
          "name": "stdout",
          "text": [
            "user       =>\t hello\n",
            "assistant  =>\t Hello! How can I assist you today?\n",
            "user       =>\t i have some questions\n",
            "assistant  =>\t Of course, I'm here to help. What questions do you have?\n",
            "user       =>\t what is the capital of finland\n",
            "assistant  =>\t The capital of Finland is Helsinki.\n",
            "user       =>\t what is the capital of sweden\n",
            "assistant  =>\t The capital of Sweden is Stockholm.\n",
            "user       =>\t what is the name of the ocean that divides europe and america\n",
            "assistant  =>\t The ocean that divides Europe and America is the Atlantic Ocean.\n",
            "user       =>\t what are the planets of our solar system\n",
            "assistant  =>\t The planets of our solar system are: 1. Mercury 2. Venus 3. Earth 4. Mars 5. Jupiter 6. Saturn 7. Uranus 8. Neptune Please note that Pluto\n",
            "user       =>\t ok then on to some math\n",
            "assistant  =>\t I'm ready to help with math questions. What topic or problem would you like to discuss?\n",
            "user       =>\t 1+1\n",
            "assistant  =>\t The sum of 1 and 1 is 2.\n",
            "user       =>\t 2-2\n",
            "assistant  =>\t The difference of 2 and 2 is 0.\n",
            "user       =>\t 3 / 3\n",
            "assistant  =>\t The result of 3 divided by 3 is 1.\n",
            "user       =>\t 4 \n",
            "assistant  =>\t The number 4 is a whole number.\n",
            "user       =>\t 43.2342\n",
            "assistant  =>\t The number 43.2342 is a decimal number.\n",
            "user       =>\t 4 * 4\n",
            "assistant  =>\t The result of 4 multiplied by 4 is 16.\n",
            "user       =>\t 10 ^ 3\n",
            "assistant  =>\t The result of 10 raised to the power of 3 is 1000.\n",
            "user       =>\t ok then\n",
            "assistant  =>\t It seems like you're done with your questions. If you have any more, feel free to ask!\n",
            "user       =>\t i have a secret word \"ZEBRA\", remember it\n",
            "assistant  =>\t I remember the word \"ZEBRA\".\n",
            "user       =>\t how long does it take by train from helsinki to turku\n",
            "assistant  =>\t The journey from Helsinki to Turku by train takes approximately 1 hour and 15 minutes.\n",
            "user       =>\t what is the average speed of the train then?\n",
            "assistant  =>\t The average speed of the train from Helsinki to Turku is around 120-130 km/h.\n",
            "user       =>\t ok where does santa clause live\n",
            "assistant  =>\t Santa Claus, also known as Father Christmas, lives at the North Pole.\n",
            "user       =>\t what was the secret word\n",
            "assistant  =>\t The secret word was \"ZEBRA\".\n",
            "user       =>\t ok bye\n",
            "assistant  =>\t It was nice chatting with you. Have a great day!\n"
          ]
        }
      ]
    }
  ]
}