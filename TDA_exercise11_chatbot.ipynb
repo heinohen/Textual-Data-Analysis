{
  "nbformat": 4,
  "nbformat_minor": 0,
  "metadata": {
    "colab": {
      "provenance": [],
      "machine_shape": "hm",
      "gpuType": "L4",
      "authorship_tag": "ABX9TyOvL5Z2qtuOpgyncjEKyYSd",
      "include_colab_link": true
    },
    "kernelspec": {
      "name": "python3",
      "display_name": "Python 3"
    },
    "language_info": {
      "name": "python"
    },
    "accelerator": "GPU"
  },
  "cells": [
    {
      "cell_type": "markdown",
      "metadata": {
        "id": "view-in-github",
        "colab_type": "text"
      },
      "source": [
        "<a href=\"https://colab.research.google.com/github/heinohen/Textual-Data-Analysis/blob/main/TDA_exercise11_chatbot.ipynb\" target=\"_parent\"><img src=\"https://colab.research.google.com/assets/colab-badge.svg\" alt=\"Open In Colab\"/></a>"
      ]
    },
    {
      "cell_type": "markdown",
      "source": [
        "\n",
        "\n",
        "# Textual data analysis exercise 11 - basic chatbot\n",
        "\n"
      ],
      "metadata": {
        "id": "Q7pl3gUyc8KZ"
      }
    },
    {
      "cell_type": "markdown",
      "source": [
        "## Setup"
      ],
      "metadata": {
        "id": "_dYDguQ9eWLS"
      }
    },
    {
      "cell_type": "markdown",
      "source": [
        "### installs"
      ],
      "metadata": {
        "id": "3X7hJloEdFWF"
      }
    },
    {
      "cell_type": "code",
      "source": [
        "%%bash\n",
        "\n",
        "pip3 install -q transformers torch"
      ],
      "metadata": {
        "id": "bRFoqyLUdGkz"
      },
      "execution_count": 1,
      "outputs": []
    },
    {
      "cell_type": "code",
      "source": [
        "!nvidia-smi"
      ],
      "metadata": {
        "colab": {
          "base_uri": "https://localhost:8080/"
        },
        "id": "GuaGSNPbhHaQ",
        "outputId": "fb10fc41-4d5a-4b31-ea87-76516d528db9"
      },
      "execution_count": 2,
      "outputs": [
        {
          "output_type": "stream",
          "name": "stdout",
          "text": [
            "Thu Feb 20 13:21:57 2025       \n",
            "+-----------------------------------------------------------------------------------------+\n",
            "| NVIDIA-SMI 550.54.15              Driver Version: 550.54.15      CUDA Version: 12.4     |\n",
            "|-----------------------------------------+------------------------+----------------------+\n",
            "| GPU  Name                 Persistence-M | Bus-Id          Disp.A | Volatile Uncorr. ECC |\n",
            "| Fan  Temp   Perf          Pwr:Usage/Cap |           Memory-Usage | GPU-Util  Compute M. |\n",
            "|                                         |                        |               MIG M. |\n",
            "|=========================================+========================+======================|\n",
            "|   0  NVIDIA L4                      Off |   00000000:00:03.0 Off |                    0 |\n",
            "| N/A   69C    P0             24W /   72W |       0MiB /  23034MiB |      0%      Default |\n",
            "|                                         |                        |                  N/A |\n",
            "+-----------------------------------------+------------------------+----------------------+\n",
            "                                                                                         \n",
            "+-----------------------------------------------------------------------------------------+\n",
            "| Processes:                                                                              |\n",
            "|  GPU   GI   CI        PID   Type   Process name                              GPU Memory |\n",
            "|        ID   ID                                                               Usage      |\n",
            "|=========================================================================================|\n",
            "|  No running processes found                                                             |\n",
            "+-----------------------------------------------------------------------------------------+\n"
          ]
        }
      ]
    },
    {
      "cell_type": "markdown",
      "source": [
        "### imports"
      ],
      "metadata": {
        "id": "44v3JtuadDQv"
      }
    },
    {
      "cell_type": "code",
      "source": [
        "import transformers\n",
        "\n",
        "from transformers import AutoModelForCausalLM, AutoTokenizer\n",
        "from huggingface_hub import login\n",
        "from google.colab import userdata\n",
        "import datetime"
      ],
      "metadata": {
        "id": "JfPsWm86dE33"
      },
      "execution_count": 25,
      "outputs": []
    },
    {
      "cell_type": "code",
      "source": [
        "hf_token = userdata.get('huggingface')\n",
        "login(token=hf_token, add_to_git_credential=True)"
      ],
      "metadata": {
        "id": "DdUAfCiGhvdZ"
      },
      "execution_count": 13,
      "outputs": []
    },
    {
      "cell_type": "markdown",
      "source": [
        "## model"
      ],
      "metadata": {
        "id": "wtt-yPBZdhmk"
      }
    },
    {
      "cell_type": "code",
      "source": [
        "MODEL_NAME = 'HuggingFaceTB/SmolLM2-1.7B-Instruct'"
      ],
      "metadata": {
        "id": "5Sjtzlwudi7h"
      },
      "execution_count": 14,
      "outputs": []
    },
    {
      "cell_type": "code",
      "source": [
        "tokenizer = AutoTokenizer.from_pretrained(MODEL_NAME)\n",
        "device = \"cuda\"\n",
        "model = AutoModelForCausalLM.from_pretrained(MODEL_NAME).to(device)"
      ],
      "metadata": {
        "id": "YVv9v6vzgwTy"
      },
      "execution_count": 15,
      "outputs": []
    },
    {
      "cell_type": "markdown",
      "source": [
        "# TASK"
      ],
      "metadata": {
        "id": "UPNj-IFnYZiG"
      }
    },
    {
      "cell_type": "markdown",
      "source": [
        "## description\n",
        "\n",
        "* At least 5 questions about basic facts about the world (e.g. the capital of a country)\n",
        "* At least 5 arithmetic questions ranging from trivial (\"what is 1+1?\") to more complex\n",
        "* Inform the system of a secret word (e.g. \"zebra\"), then after a few other questions ask it what the secret word is. Make sure you understand where the memory of that secret word is."
      ],
      "metadata": {
        "id": "e-iS1JwkYcP0"
      }
    },
    {
      "cell_type": "markdown",
      "source": [
        "# PROGRAM"
      ],
      "metadata": {
        "id": "thUiVFfKeaEn"
      }
    },
    {
      "cell_type": "markdown",
      "source": [
        "## data storage"
      ],
      "metadata": {
        "id": "snhEW3qQd-51"
      }
    },
    {
      "cell_type": "code",
      "source": [
        "message_history = []"
      ],
      "metadata": {
        "id": "MJH8YUSqedq4"
      },
      "execution_count": 32,
      "outputs": []
    },
    {
      "cell_type": "markdown",
      "source": [
        "## actual functionality"
      ],
      "metadata": {
        "id": "tDkKCcKmefK-"
      }
    },
    {
      "cell_type": "code",
      "source": [
        "while True:\n",
        "    user_input = input('Say something (\"exit\" to quit): ')\n",
        "    if user_input == 'exit':\n",
        "        break\n",
        "    message_history.append({\"role\": \"user\", \"content\": f\"{user_input}\"})\n",
        "    input_text=tokenizer.apply_chat_template(message_history, tokenize=False)\n",
        "    inputs = tokenizer.encode(input_text, return_tensors=\"pt\").to(device)\n",
        "    outputs = model.generate(inputs,\n",
        "                             max_new_tokens=50,\n",
        "                             temperature=0.2,\n",
        "                             top_p=0.9,\n",
        "                             do_sample=True)\n",
        "    result = tokenizer.decode(outputs[0][len(inputs[0]):], skip_special_tokens=True).rstrip().split() # this starts to decode the answer from the end of the current length of the previous messages and splits it to list\n",
        "    answer = \" \".join(result[1:]) # removes the \"assistant\" from the beginning\n",
        "    message_history.append({\"role\": \"assistant\", \"content\": answer})\n",
        "    print(answer)"
      ],
      "metadata": {
        "colab": {
          "base_uri": "https://localhost:8080/"
        },
        "id": "s20V5Bp-dBbO",
        "outputId": "ab1dfdeb-b16e-4844-f51e-1f2fcbcc2019"
      },
      "execution_count": 33,
      "outputs": [
        {
          "name": "stdout",
          "output_type": "stream",
          "text": [
            "Say something (\"exit\" to quit): hello\n",
            "Hello! How can I assist you today?\n",
            "Say something (\"exit\" to quit): What is the capital of Finland\n",
            "The capital of Finland is Helsinki.\n",
            "Say something (\"exit\" to quit): What is the capital of Sweden\n",
            "The capital of Sweden is Stockholm.\n",
            "Say something (\"exit\" to quit): Who is the president of Finland\n",
            "The current President of Finland is Sauli Niinistö.\n",
            "Say something (\"exit\" to quit): Didn't we have elections in 2024\n",
            "Yes, Finland held presidential elections in 2024. Sauli Niinistö was elected as the new president.\n",
            "Say something (\"exit\" to quit): What is the ocean dividing europe and americas\n",
            "The ocean dividing Europe and America is the Atlantic Ocean.\n",
            "Say something (\"exit\" to quit): ok then some math!\n",
            "Sure, I'd be happy to help with some math! What's your question?\n",
            "Say something (\"exit\" to quit): 1+1\n",
            "The answer to 1+1 is 2.\n",
            "Say something (\"exit\" to quit): 2-2\n",
            "The answer to 2-2 is 0.\n",
            "Say something (\"exit\" to quit): 3 / 3\n",
            "The answer to 3/3 is 1.\n",
            "Say something (\"exit\" to quit): 4 * 4\n",
            "The answer to 4*4 is 16.\n",
            "Say something (\"exit\" to quit): 5^5\n",
            "The answer to 5^5 is 3125.\n",
            "Say something (\"exit\" to quit): ok then something else\n",
            "Sure, what's your next question?\n",
            "Say something (\"exit\" to quit): i have a secret word that is \"ZEBRA\", remember it for me\n",
            "I remember the word \"ZEBRA\".\n",
            "Say something (\"exit\" to quit): What are the planets in our solar system\n",
            "The planets in our solar system are: 1. Mercury 2. Venus 3. Earth 4. Mars 5. Jupiter 6. Saturn 7. Uranus 8. Neptune Please note that Pluto\n",
            "Say something (\"exit\" to quit): Where are the asteroids located\n",
            "Asteroids are primarily located in the asteroid belt, a region of space located between the orbits of Mars and Jupiter.\n",
            "Say something (\"exit\" to quit): What species are similar to horse\n",
            "The species similar to horses are zebras, donkeys, and mules.\n",
            "Say something (\"exit\" to quit): what was the secret word\n",
            "The secret word was \"ZEBRA\".\n",
            "Say something (\"exit\" to quit): thanks!\n",
            "You're welcome!\n",
            "Say something (\"exit\" to quit): exit\n"
          ]
        }
      ]
    },
    {
      "cell_type": "markdown",
      "source": [
        "# MESSAGE LOG"
      ],
      "metadata": {
        "id": "ZGYPJItroLzE"
      }
    },
    {
      "cell_type": "code",
      "source": [
        "length = 10\n",
        "\n",
        "for m in message_history:\n",
        "\n",
        "  message = f\"{m['role']}\"\n",
        "  print(f\"{message:<{length}}\",\"=>\\t\", m['content'])"
      ],
      "metadata": {
        "colab": {
          "base_uri": "https://localhost:8080/"
        },
        "id": "zz6F5mRheu_P",
        "outputId": "91b578b3-245e-4bd3-93f8-cea6541f83be"
      },
      "execution_count": 34,
      "outputs": [
        {
          "output_type": "stream",
          "name": "stdout",
          "text": [
            "user       =>\t hello\n",
            "assistant  =>\t Hello! How can I assist you today?\n",
            "user       =>\t What is the capital of Finland\n",
            "assistant  =>\t The capital of Finland is Helsinki.\n",
            "user       =>\t What is the capital of Sweden\n",
            "assistant  =>\t The capital of Sweden is Stockholm.\n",
            "user       =>\t Who is the president of Finland\n",
            "assistant  =>\t The current President of Finland is Sauli Niinistö.\n",
            "user       =>\t Didn't we have elections in 2024\n",
            "assistant  =>\t Yes, Finland held presidential elections in 2024. Sauli Niinistö was elected as the new president.\n",
            "user       =>\t What is the ocean dividing europe and americas\n",
            "assistant  =>\t The ocean dividing Europe and America is the Atlantic Ocean.\n",
            "user       =>\t ok then some math!\n",
            "assistant  =>\t Sure, I'd be happy to help with some math! What's your question?\n",
            "user       =>\t 1+1\n",
            "assistant  =>\t The answer to 1+1 is 2.\n",
            "user       =>\t 2-2\n",
            "assistant  =>\t The answer to 2-2 is 0.\n",
            "user       =>\t 3 / 3\n",
            "assistant  =>\t The answer to 3/3 is 1.\n",
            "user       =>\t 4 * 4\n",
            "assistant  =>\t The answer to 4*4 is 16.\n",
            "user       =>\t 5^5\n",
            "assistant  =>\t The answer to 5^5 is 3125.\n",
            "user       =>\t ok then something else\n",
            "assistant  =>\t Sure, what's your next question?\n",
            "user       =>\t i have a secret word that is \"ZEBRA\", remember it for me\n",
            "assistant  =>\t I remember the word \"ZEBRA\".\n",
            "user       =>\t What are the planets in our solar system\n",
            "assistant  =>\t The planets in our solar system are: 1. Mercury 2. Venus 3. Earth 4. Mars 5. Jupiter 6. Saturn 7. Uranus 8. Neptune Please note that Pluto\n",
            "user       =>\t Where are the asteroids located\n",
            "assistant  =>\t Asteroids are primarily located in the asteroid belt, a region of space located between the orbits of Mars and Jupiter.\n",
            "user       =>\t What species are similar to horse\n",
            "assistant  =>\t The species similar to horses are zebras, donkeys, and mules.\n",
            "user       =>\t what was the secret word\n",
            "assistant  =>\t The secret word was \"ZEBRA\".\n",
            "user       =>\t thanks!\n",
            "assistant  =>\t You're welcome!\n"
          ]
        }
      ]
    },
    {
      "cell_type": "code",
      "source": [],
      "metadata": {
        "id": "b18pH_Emk9J5"
      },
      "execution_count": null,
      "outputs": []
    }
  ]
}