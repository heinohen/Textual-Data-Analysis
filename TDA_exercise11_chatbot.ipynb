{
  "nbformat": 4,
  "nbformat_minor": 0,
  "metadata": {
    "colab": {
      "provenance": [],
      "machine_shape": "hm",
      "gpuType": "L4",
      "authorship_tag": "ABX9TyOXF/5o+bBwSqbr791phNWf",
      "include_colab_link": true
    },
    "kernelspec": {
      "name": "python3",
      "display_name": "Python 3"
    },
    "language_info": {
      "name": "python"
    },
    "accelerator": "GPU"
  },
  "cells": [
    {
      "cell_type": "markdown",
      "metadata": {
        "id": "view-in-github",
        "colab_type": "text"
      },
      "source": [
        "<a href=\"https://colab.research.google.com/github/heinohen/Textual-Data-Analysis/blob/main/TDA_exercise11_chatbot.ipynb\" target=\"_parent\"><img src=\"https://colab.research.google.com/assets/colab-badge.svg\" alt=\"Open In Colab\"/></a>"
      ]
    },
    {
      "cell_type": "markdown",
      "source": [
        "\n",
        "\n",
        "# Textual data analysis exercise 11 - basic chatbot\n",
        "\n"
      ],
      "metadata": {
        "id": "Q7pl3gUyc8KZ"
      }
    },
    {
      "cell_type": "markdown",
      "source": [
        "## Setup"
      ],
      "metadata": {
        "id": "_dYDguQ9eWLS"
      }
    },
    {
      "cell_type": "markdown",
      "source": [
        "### installs"
      ],
      "metadata": {
        "id": "3X7hJloEdFWF"
      }
    },
    {
      "cell_type": "code",
      "source": [
        "%%bash\n",
        "\n",
        "pip3 install -q transformers torch"
      ],
      "metadata": {
        "id": "bRFoqyLUdGkz"
      },
      "execution_count": 1,
      "outputs": []
    },
    {
      "cell_type": "code",
      "source": [
        "!nvidia-smi"
      ],
      "metadata": {
        "colab": {
          "base_uri": "https://localhost:8080/"
        },
        "id": "GuaGSNPbhHaQ",
        "outputId": "fb10fc41-4d5a-4b31-ea87-76516d528db9"
      },
      "execution_count": 2,
      "outputs": [
        {
          "output_type": "stream",
          "name": "stdout",
          "text": [
            "Thu Feb 20 13:21:57 2025       \n",
            "+-----------------------------------------------------------------------------------------+\n",
            "| NVIDIA-SMI 550.54.15              Driver Version: 550.54.15      CUDA Version: 12.4     |\n",
            "|-----------------------------------------+------------------------+----------------------+\n",
            "| GPU  Name                 Persistence-M | Bus-Id          Disp.A | Volatile Uncorr. ECC |\n",
            "| Fan  Temp   Perf          Pwr:Usage/Cap |           Memory-Usage | GPU-Util  Compute M. |\n",
            "|                                         |                        |               MIG M. |\n",
            "|=========================================+========================+======================|\n",
            "|   0  NVIDIA L4                      Off |   00000000:00:03.0 Off |                    0 |\n",
            "| N/A   69C    P0             24W /   72W |       0MiB /  23034MiB |      0%      Default |\n",
            "|                                         |                        |                  N/A |\n",
            "+-----------------------------------------+------------------------+----------------------+\n",
            "                                                                                         \n",
            "+-----------------------------------------------------------------------------------------+\n",
            "| Processes:                                                                              |\n",
            "|  GPU   GI   CI        PID   Type   Process name                              GPU Memory |\n",
            "|        ID   ID                                                               Usage      |\n",
            "|=========================================================================================|\n",
            "|  No running processes found                                                             |\n",
            "+-----------------------------------------------------------------------------------------+\n"
          ]
        }
      ]
    },
    {
      "cell_type": "markdown",
      "source": [
        "### imports"
      ],
      "metadata": {
        "id": "44v3JtuadDQv"
      }
    },
    {
      "cell_type": "code",
      "source": [
        "import transformers\n",
        "#transformers.logging.set_verbosity_error() # no\n",
        "\n",
        "from transformers import AutoModelForCausalLM, AutoTokenizer\n",
        "from huggingface_hub import login\n",
        "from google.colab import userdata\n"
      ],
      "metadata": {
        "id": "JfPsWm86dE33"
      },
      "execution_count": 10,
      "outputs": []
    },
    {
      "cell_type": "code",
      "source": [
        "hf_token = userdata.get('huggingface')\n",
        "login(token=hf_token, add_to_git_credential=True)"
      ],
      "metadata": {
        "id": "DdUAfCiGhvdZ"
      },
      "execution_count": 13,
      "outputs": []
    },
    {
      "cell_type": "markdown",
      "source": [
        "## model"
      ],
      "metadata": {
        "id": "wtt-yPBZdhmk"
      }
    },
    {
      "cell_type": "code",
      "source": [
        "MODEL_NAME = 'HuggingFaceTB/SmolLM2-1.7B-Instruct'"
      ],
      "metadata": {
        "id": "5Sjtzlwudi7h"
      },
      "execution_count": 14,
      "outputs": []
    },
    {
      "cell_type": "code",
      "source": [
        "tokenizer = AutoTokenizer.from_pretrained(MODEL_NAME)\n",
        "# for multiple GPUs install accelerate and do `model = AutoModelForCausalLM.from_pretrained(checkpoint, device_map=\"auto\")`\n",
        "device = \"cuda\"\n",
        "model = AutoModelForCausalLM.from_pretrained(MODEL_NAME).to(device)"
      ],
      "metadata": {
        "id": "YVv9v6vzgwTy"
      },
      "execution_count": 15,
      "outputs": []
    },
    {
      "cell_type": "markdown",
      "source": [
        "# TASK"
      ],
      "metadata": {
        "id": "UPNj-IFnYZiG"
      }
    },
    {
      "cell_type": "markdown",
      "source": [
        "## description\n",
        "\n",
        "* At least 5 questions about basic facts about the world (e.g. the capital of a country)\n",
        "* At least 5 arithmetic questions ranging from trivial (\"what is 1+1?\") to more complex\n",
        "* Inform the system of a secret word (e.g. \"zebra\"), then after a few other questions ask it what the secret word is. Make sure you understand where the memory of that secret word is."
      ],
      "metadata": {
        "id": "e-iS1JwkYcP0"
      }
    },
    {
      "cell_type": "markdown",
      "source": [
        "# PROGRAM"
      ],
      "metadata": {
        "id": "thUiVFfKeaEn"
      }
    },
    {
      "cell_type": "markdown",
      "source": [
        "## data storage"
      ],
      "metadata": {
        "id": "snhEW3qQd-51"
      }
    },
    {
      "cell_type": "code",
      "source": [
        "message_history = []"
      ],
      "metadata": {
        "id": "MJH8YUSqedq4"
      },
      "execution_count": 21,
      "outputs": []
    },
    {
      "cell_type": "markdown",
      "source": [
        "## actual functionality"
      ],
      "metadata": {
        "id": "tDkKCcKmefK-"
      }
    },
    {
      "cell_type": "code",
      "source": [
        "while True:\n",
        "    user_input = input('Say something (\"exit\" to quit): ')\n",
        "    if user_input == 'exit':\n",
        "        break\n",
        "\n",
        "    message_history.append({\"role\": \"user\", \"content\": f\"{user_input}\"})\n",
        "    input_text=tokenizer.apply_chat_template(message_history, tokenize=False)\n",
        "    inputs = tokenizer.encode(input_text, return_tensors=\"pt\").to(device)\n",
        "    outputs = model.generate(inputs,\n",
        "                             max_new_tokens=50,\n",
        "                             temperature=0.2,\n",
        "                             top_p=0.9,\n",
        "                             do_sample=True)\n",
        "    result = tokenizer.decode(outputs[0][len(inputs[0]):], skip_special_tokens=True).rstrip().split() # this starts to decode the answer from the end of the current length of the previous messages and splits it to list\n",
        "    answer = \" \".join(result[1:]) # removes the \"assistant\" from the beginning\n",
        "    message_history.append({\"role\": \"assistant\", \"content\": answer})\n",
        "    print(answer)"
      ],
      "metadata": {
        "colab": {
          "base_uri": "https://localhost:8080/"
        },
        "id": "s20V5Bp-dBbO",
        "outputId": "193fc195-f1b7-4115-934a-1876482e3277"
      },
      "execution_count": 22,
      "outputs": [
        {
          "name": "stdout",
          "output_type": "stream",
          "text": [
            "Say something (\"exit\" to quit): Hello!\n",
            "Hello! How can I assist you today?\n",
            "Say something (\"exit\" to quit): What is the capital of finland\n",
            "The capital of Finland is Helsinki.\n",
            "Say something (\"exit\" to quit): What is the capital of sweden\n",
            "The capital of Sweden is Stockholm.\n",
            "Say something (\"exit\" to quit): Who is the president of finland\n",
            "The President of Finland is Sauli Niinisto.\n",
            "Say something (\"exit\" to quit): Didn't Finland have presidential elections in 2024\n",
            "Yes, Finland held presidential elections in 2024. The incumbent President Sauli Niinisto was re-elected for a second term.\n",
            "Say something (\"exit\" to quit): OK, what is the capital of endor\n",
            "Endor is not a recognized country. It is a fictional location from the video game series Final Fantasy. The capital of Endor is not explicitly mentioned in the games.\n",
            "Say something (\"exit\" to quit): OK then, lets have some math!\n",
            "I'm an AI trained to provide information on a wide range of topics, including history, geography, and culture. I'm not equipped to perform mathematical calculations. However, I can help answer questions about math-related topics or provide\n",
            "Say something (\"exit\" to quit): Its ok\n",
            "No problem at all! If you have any other questions or need help with something else, feel free to ask.\n",
            "Say something (\"exit\" to quit): 1+1\n",
            "The sum of 1 and 1 is 2.\n",
            "Say something (\"exit\" to quit): 2+2\n",
            "The sum of 2 and 2 is 4.\n",
            "Say something (\"exit\" to quit): 3*3\n",
            "The product of 3 and 3 is 9.\n",
            "Say something (\"exit\" to quit): 4 / 4\n",
            "The result of 4 divided by 4 is 1.\n",
            "Say something (\"exit\" to quit): 5^5\n",
            "The result of 5 raised to the power of 5 is 3125.\n",
            "Say something (\"exit\" to quit): OK lets move on\n",
            "I'm glad we could move on to other topics. If you have any other questions or need help with something else, feel free to ask.\n",
            "Say something (\"exit\" to quit): The secret word is \"ZEBRA\", remember it\n",
            "I remember the secret word \"ZEBRA\".\n",
            "Say something (\"exit\" to quit): How long does it take from turku to helsinki by train\n",
            "The journey from Turku to Helsinki by train takes approximately 1 hour and 15 minutes.\n",
            "Say something (\"exit\" to quit): Does that mean that the tunnin juna is built?!\n",
            "No, the train journey from Turku to Helsinki is not built. It is a regular train service operated by Finnish Railways.\n",
            "Say something (\"exit\" to quit): How can i take the train if it is not built\n",
            "You can take the train from Turku to Helsinki by booking a ticket in advance through the Finnish Railways website or at the train station.\n",
            "Say something (\"exit\" to quit): what was the secret word\n",
            "The secret word is \"ZEBRA\".\n",
            "Say something (\"exit\" to quit): exit\n"
          ]
        }
      ]
    },
    {
      "cell_type": "markdown",
      "source": [
        "# MESSAGE LOG"
      ],
      "metadata": {
        "id": "ZGYPJItroLzE"
      }
    },
    {
      "cell_type": "code",
      "source": [
        "length = 10\n",
        "\n",
        "for m in message_history:\n",
        "\n",
        "  message = f\"{m['role']}\"\n",
        "  print(f\"{message:<{length}}\",\"=>\\t\", m['content'])"
      ],
      "metadata": {
        "colab": {
          "base_uri": "https://localhost:8080/"
        },
        "id": "zz6F5mRheu_P",
        "outputId": "cf755ce1-2e01-4f8b-9bd9-95ec18c7ea81"
      },
      "execution_count": 23,
      "outputs": [
        {
          "output_type": "stream",
          "name": "stdout",
          "text": [
            "user       =>\t Hello!\n",
            "assistant  =>\t Hello! How can I assist you today?\n",
            "user       =>\t What is the capital of finland\n",
            "assistant  =>\t The capital of Finland is Helsinki.\n",
            "user       =>\t What is the capital of sweden\n",
            "assistant  =>\t The capital of Sweden is Stockholm.\n",
            "user       =>\t Who is the president of finland\n",
            "assistant  =>\t The President of Finland is Sauli Niinisto.\n",
            "user       =>\t Didn't Finland have presidential elections in 2024\n",
            "assistant  =>\t Yes, Finland held presidential elections in 2024. The incumbent President Sauli Niinisto was re-elected for a second term.\n",
            "user       =>\t OK, what is the capital of endor\n",
            "assistant  =>\t Endor is not a recognized country. It is a fictional location from the video game series Final Fantasy. The capital of Endor is not explicitly mentioned in the games.\n",
            "user       =>\t OK then, lets have some math!\n",
            "assistant  =>\t I'm an AI trained to provide information on a wide range of topics, including history, geography, and culture. I'm not equipped to perform mathematical calculations. However, I can help answer questions about math-related topics or provide\n",
            "user       =>\t Its ok\n",
            "assistant  =>\t No problem at all! If you have any other questions or need help with something else, feel free to ask.\n",
            "user       =>\t 1+1\n",
            "assistant  =>\t The sum of 1 and 1 is 2.\n",
            "user       =>\t 2+2\n",
            "assistant  =>\t The sum of 2 and 2 is 4.\n",
            "user       =>\t 3*3\n",
            "assistant  =>\t The product of 3 and 3 is 9.\n",
            "user       =>\t 4 / 4\n",
            "assistant  =>\t The result of 4 divided by 4 is 1.\n",
            "user       =>\t 5^5\n",
            "assistant  =>\t The result of 5 raised to the power of 5 is 3125.\n",
            "user       =>\t OK lets move on\n",
            "assistant  =>\t I'm glad we could move on to other topics. If you have any other questions or need help with something else, feel free to ask.\n",
            "user       =>\t The secret word is \"ZEBRA\", remember it\n",
            "assistant  =>\t I remember the secret word \"ZEBRA\".\n",
            "user       =>\t How long does it take from turku to helsinki by train\n",
            "assistant  =>\t The journey from Turku to Helsinki by train takes approximately 1 hour and 15 minutes.\n",
            "user       =>\t Does that mean that the tunnin juna is built?!\n",
            "assistant  =>\t No, the train journey from Turku to Helsinki is not built. It is a regular train service operated by Finnish Railways.\n",
            "user       =>\t How can i take the train if it is not built\n",
            "assistant  =>\t You can take the train from Turku to Helsinki by booking a ticket in advance through the Finnish Railways website or at the train station.\n",
            "user       =>\t what was the secret word\n",
            "assistant  =>\t The secret word is \"ZEBRA\".\n"
          ]
        }
      ]
    }
  ]
}