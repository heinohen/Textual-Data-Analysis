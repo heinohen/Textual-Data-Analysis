{
  "nbformat": 4,
  "nbformat_minor": 0,
  "metadata": {
    "colab": {
      "provenance": [],
      "toc_visible": true,
      "machine_shape": "hm",
      "gpuType": "L4",
      "authorship_tag": "ABX9TyNI8Uh2brFZuIX3jfQtlovQ",
      "include_colab_link": true
    },
    "kernelspec": {
      "name": "python3",
      "display_name": "Python 3"
    },
    "language_info": {
      "name": "python"
    },
    "accelerator": "GPU"
  },
  "cells": [
    {
      "cell_type": "markdown",
      "metadata": {
        "id": "view-in-github",
        "colab_type": "text"
      },
      "source": [
        "<a href=\"https://colab.research.google.com/github/heinohen/Textual-Data-Analysis/blob/main/TDA_exercise11.ipynb\" target=\"_parent\"><img src=\"https://colab.research.google.com/assets/colab-badge.svg\" alt=\"Open In Colab\"/></a>"
      ]
    },
    {
      "cell_type": "markdown",
      "source": [
        "\n",
        "\n",
        "# Textual data analysis exercise 11 - basic chatbot\n",
        "\n"
      ],
      "metadata": {
        "id": "Q7pl3gUyc8KZ"
      }
    },
    {
      "cell_type": "markdown",
      "source": [
        "### TODO\n",
        "\n",
        "\n",
        "* still work in progress.. finish tmrw 2025-02-20, deadline 2025-02-26"
      ],
      "metadata": {
        "id": "KGyE9zNPogja"
      }
    },
    {
      "cell_type": "markdown",
      "source": [
        "## Setup"
      ],
      "metadata": {
        "id": "_dYDguQ9eWLS"
      }
    },
    {
      "cell_type": "markdown",
      "source": [
        "### installs"
      ],
      "metadata": {
        "id": "3X7hJloEdFWF"
      }
    },
    {
      "cell_type": "code",
      "source": [
        "%%bash\n",
        "\n",
        "pip3 install -q transformers torch"
      ],
      "metadata": {
        "id": "bRFoqyLUdGkz"
      },
      "execution_count": null,
      "outputs": []
    },
    {
      "cell_type": "code",
      "source": [
        "!nvidia-smi"
      ],
      "metadata": {
        "colab": {
          "base_uri": "https://localhost:8080/"
        },
        "id": "GuaGSNPbhHaQ",
        "outputId": "e66eb2d5-c6b0-4ffd-821e-9e3e3df0a929"
      },
      "execution_count": 27,
      "outputs": [
        {
          "output_type": "stream",
          "name": "stdout",
          "text": [
            "Wed Feb 19 18:42:14 2025       \n",
            "+-----------------------------------------------------------------------------------------+\n",
            "| NVIDIA-SMI 550.54.15              Driver Version: 550.54.15      CUDA Version: 12.4     |\n",
            "|-----------------------------------------+------------------------+----------------------+\n",
            "| GPU  Name                 Persistence-M | Bus-Id          Disp.A | Volatile Uncorr. ECC |\n",
            "| Fan  Temp   Perf          Pwr:Usage/Cap |           Memory-Usage | GPU-Util  Compute M. |\n",
            "|                                         |                        |               MIG M. |\n",
            "|=========================================+========================+======================|\n",
            "|   0  NVIDIA L4                      Off |   00000000:00:03.0 Off |                    0 |\n",
            "| N/A   52C    P0             28W /   72W |   16791MiB /  23034MiB |      0%      Default |\n",
            "|                                         |                        |                  N/A |\n",
            "+-----------------------------------------+------------------------+----------------------+\n",
            "                                                                                         \n",
            "+-----------------------------------------------------------------------------------------+\n",
            "| Processes:                                                                              |\n",
            "|  GPU   GI   CI        PID   Type   Process name                              GPU Memory |\n",
            "|        ID   ID                                                               Usage      |\n",
            "|=========================================================================================|\n",
            "+-----------------------------------------------------------------------------------------+\n"
          ]
        }
      ]
    },
    {
      "cell_type": "markdown",
      "source": [
        "### imports"
      ],
      "metadata": {
        "id": "44v3JtuadDQv"
      }
    },
    {
      "cell_type": "code",
      "source": [
        "import transformers\n",
        "#transformers.logging.set_verbosity_error() # no\n",
        "\n",
        "from transformers import AutoModelForCausalLM, AutoTokenizer"
      ],
      "metadata": {
        "id": "JfPsWm86dE33"
      },
      "execution_count": 22,
      "outputs": []
    },
    {
      "cell_type": "markdown",
      "source": [
        "## model"
      ],
      "metadata": {
        "id": "wtt-yPBZdhmk"
      }
    },
    {
      "cell_type": "code",
      "source": [
        "MODEL_NAME = 'HuggingFaceTB/SmolLM2-1.7B-Instruct'"
      ],
      "metadata": {
        "id": "5Sjtzlwudi7h"
      },
      "execution_count": 23,
      "outputs": []
    },
    {
      "cell_type": "code",
      "source": [
        "tokenizer = AutoTokenizer.from_pretrained(MODEL_NAME)\n",
        "# for multiple GPUs install accelerate and do `model = AutoModelForCausalLM.from_pretrained(checkpoint, device_map=\"auto\")`\n",
        "device = \"cuda\"\n",
        "model = AutoModelForCausalLM.from_pretrained(MODEL_NAME).to(device)"
      ],
      "metadata": {
        "id": "YVv9v6vzgwTy"
      },
      "execution_count": 31,
      "outputs": []
    },
    {
      "cell_type": "markdown",
      "source": [
        "# PROGRAM"
      ],
      "metadata": {
        "id": "thUiVFfKeaEn"
      }
    },
    {
      "cell_type": "markdown",
      "source": [
        "    At least 5 questions about basic facts about the world (e.g. the capital of a country)\n",
        "    At least 5 arithmetic questions ranging from trivial (\"what is 1+1?\") to more complex\n",
        "    Inform the system of a secret word (e.g. \"zebra\"), then after a few other questions ask it what the secret word is. Make sure you understand where the memory of that secret word is."
      ],
      "metadata": {
        "id": "LmjO-o94fksz"
      }
    },
    {
      "cell_type": "markdown",
      "source": [
        "## data storage"
      ],
      "metadata": {
        "id": "snhEW3qQd-51"
      }
    },
    {
      "cell_type": "code",
      "source": [
        "message_history = []"
      ],
      "metadata": {
        "id": "MJH8YUSqedq4"
      },
      "execution_count": 50,
      "outputs": []
    },
    {
      "cell_type": "markdown",
      "source": [
        "## actual functionality"
      ],
      "metadata": {
        "id": "tDkKCcKmefK-"
      }
    },
    {
      "cell_type": "code",
      "source": [
        "while True:\n",
        "    user_input = input('Say something (\"exit\" to quit): ')\n",
        "    if user_input == 'exit':\n",
        "        break\n",
        "\n",
        "    message_history.append({\"role\": \"user\", \"content\": f\"{user_input}\"})\n",
        "    input_text=tokenizer.apply_chat_template(message_history, tokenize=False)\n",
        "    inputs = tokenizer.encode(input_text, return_tensors=\"pt\").to(device)\n",
        "    outputs = model.generate(inputs,\n",
        "                             max_new_tokens=50,\n",
        "                             temperature=0.2,\n",
        "                             top_p=0.9,\n",
        "                             do_sample=True)\n",
        "    print(len(inputs[0]))\n",
        "    result = tokenizer.decode(outputs[0][len(inputs[0]):], skip_special_tokens=True).rstrip().split()\n",
        "    answer = \" \".join(result[1:])\n",
        "    message_history.append({\"role\": \"assistant\", \"content\": answer})\n",
        "    print(answer)"
      ],
      "metadata": {
        "colab": {
          "base_uri": "https://localhost:8080/"
        },
        "id": "s20V5Bp-dBbO",
        "outputId": "66b101f4-f852-458d-fc63-ca992be12913"
      },
      "execution_count": 51,
      "outputs": [
        {
          "name": "stdout",
          "output_type": "stream",
          "text": [
            "Say something (\"exit\" to quit): the secret word is ZEBRA\n",
            "34\n",
            "Zebra is a fantastic animal! Zebras are known for their distinctive black and white stripes, which serve as camouflage in their natural habitat. They are also known for their speed and agility, making them excellent runners. Zebras are\n",
            "Say something (\"exit\" to quit): what is ice\n",
            "94\n",
            "Ice is a solid form of water. It is formed when water freezes, turning from a liquid to a solid state. Ice is less dense than water, which is why it floats on top of liquid water. This unique property is\n",
            "Say something (\"exit\" to quit): what is water\n",
            "154\n",
            "Water is a transparent, odorless, and tasteless liquid that is essential for life. It is composed of two hydrogen atoms and one oxygen atom, and it is the primary solvent for many biological processes. Water is vital for human\n",
            "Say something (\"exit\" to quit): what are the three phases of water\n",
            "218\n",
            "The three phases of water are solid, liquid, and gas. In its solid form, water is ice. In its liquid form, water is what we commonly see and use, such as in rivers, lakes\n",
            "Say something (\"exit\" to quit): what was the secret word\n",
            "276\n",
            "The secret word was \"ZEBRA\".\n",
            "Say something (\"exit\" to quit): exit\n"
          ]
        }
      ]
    },
    {
      "cell_type": "markdown",
      "source": [
        "# MESSAGE LOG"
      ],
      "metadata": {
        "id": "ZGYPJItroLzE"
      }
    },
    {
      "cell_type": "code",
      "source": [
        "for m in message_history:\n",
        "  print(m['role'], \"with message =>>>>> \", m['content'])"
      ],
      "metadata": {
        "colab": {
          "base_uri": "https://localhost:8080/"
        },
        "id": "zz6F5mRheu_P",
        "outputId": "59730585-46a7-4dc5-b958-3e52226e5923"
      },
      "execution_count": 63,
      "outputs": [
        {
          "output_type": "stream",
          "name": "stdout",
          "text": [
            "user with message =>>>>>  the secret word is ZEBRA\n",
            "assistant with message =>>>>>  Zebra is a fantastic animal! Zebras are known for their distinctive black and white stripes, which serve as camouflage in their natural habitat. They are also known for their speed and agility, making them excellent runners. Zebras are\n",
            "user with message =>>>>>  what is ice\n",
            "assistant with message =>>>>>  Ice is a solid form of water. It is formed when water freezes, turning from a liquid to a solid state. Ice is less dense than water, which is why it floats on top of liquid water. This unique property is\n",
            "user with message =>>>>>  what is water\n",
            "assistant with message =>>>>>  Water is a transparent, odorless, and tasteless liquid that is essential for life. It is composed of two hydrogen atoms and one oxygen atom, and it is the primary solvent for many biological processes. Water is vital for human\n",
            "user with message =>>>>>  what are the three phases of water\n",
            "assistant with message =>>>>>  The three phases of water are solid, liquid, and gas. In its solid form, water is ice. In its liquid form, water is what we commonly see and use, such as in rivers, lakes\n",
            "user with message =>>>>>  what was the secret word\n",
            "assistant with message =>>>>>  The secret word was \"ZEBRA\".\n"
          ]
        }
      ]
    }
  ]
}