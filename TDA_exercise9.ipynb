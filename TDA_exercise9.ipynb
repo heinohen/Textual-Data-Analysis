{
  "nbformat": 4,
  "nbformat_minor": 0,
  "metadata": {
    "colab": {
      "provenance": [],
      "include_colab_link": true
    },
    "kernelspec": {
      "name": "python3",
      "display_name": "Python 3"
    },
    "language_info": {
      "name": "python"
    }
  },
  "cells": [
    {
      "cell_type": "markdown",
      "metadata": {
        "id": "view-in-github",
        "colab_type": "text"
      },
      "source": [
        "<a href=\"https://colab.research.google.com/github/heinohen/Textual-Data-Analysis/blob/main/TDA_exercise9.ipynb\" target=\"_parent\"><img src=\"https://colab.research.google.com/assets/colab-badge.svg\" alt=\"Open In Colab\"/></a>"
      ]
    },
    {
      "cell_type": "markdown",
      "source": [
        "# **Binary relation extraction**\n",
        "In this exercice, we will work on relation extraction part of the [Bacteria Biotope task at BioNLP Open Shared Tasks 2019.](https://aclanthology.org/D19-5719/).\n",
        "\n",
        "The task is a binary relation extraction, with three entity types:\n",
        "\n",
        "*  Microorganism (e.g. bacteria)\n",
        "*  Habitat (e.g. milk, cheese, etc)\n",
        "*  Geographical (e.g. Europe)\n",
        "\n",
        "and one binary relaiton type: *Lives_in*\n",
        "in the form of:\n",
        "*   *Lives_in*(Microorganism , Habitat)\n",
        "*   *Lives_in*(Microorganism , Geographical)\n",
        "\n",
        "Which is Positive if the sentence states that the Microorganism lives in the mentioned Habitat/Geographical and Negative, otherwise.\n",
        "\n",
        "Therefore, **candiate pairs** should be always created between (Microorganism , Habitat) and (Microorganism , Geographical), but other combinations are not logically meaningful.\n",
        "\n",
        "Each candidate pair, based on what the sentences states, can be Positive (in that case, we extract such relationship), or a Negative (in that case we do not extract that relation).\n",
        "\n",
        "Here is an example:\n",
        "* **Salmonella** was noticed in **raw chicken**. --> Positive --> *Lives_in* (Salmonella, raw chicken)\n",
        "* **Salmonella** was not noticed in **coocked chicken**. --> Negative\n",
        "\n",
        "The original task also includes one other relation type, but for simplicity, you will work with a converted dataset that only contains Lives_in relation.\n",
        "\n",
        "In this task you will use gpt-4o-mini with the api_key that was provided to you previously.\n",
        "\n",
        "Let's first donwload the training and development datasets."
      ],
      "metadata": {
        "id": "5UWz8POpH5qR"
      }
    },
    {
      "cell_type": "code",
      "execution_count": 87,
      "metadata": {
        "id": "iA3Y_RabAH7X",
        "colab": {
          "base_uri": "https://localhost:8080/"
        },
        "outputId": "13600504-397d-4c35-fd70-6e2f5ca28753"
      },
      "outputs": [
        {
          "output_type": "stream",
          "name": "stdout",
          "text": [
            "--2025-02-14 07:15:33--  https://raw.githubusercontent.com/TurkuNLP/textual-data-analysis-course/main/BB4_converted_train.json\n",
            "Resolving raw.githubusercontent.com (raw.githubusercontent.com)... 185.199.108.133, 185.199.109.133, 185.199.110.133, ...\n",
            "Connecting to raw.githubusercontent.com (raw.githubusercontent.com)|185.199.108.133|:443... connected.\n",
            "HTTP request sent, awaiting response... 200 OK\n",
            "Length: 362894 (354K) [text/plain]\n",
            "Saving to: ‘BB4_converted_train.json’\n",
            "\n",
            "BB4_converted_train 100%[===================>] 354.39K  --.-KB/s    in 0.04s   \n",
            "\n",
            "2025-02-14 07:15:34 (7.83 MB/s) - ‘BB4_converted_train.json’ saved [362894/362894]\n",
            "\n",
            "--2025-02-14 07:15:34--  https://raw.githubusercontent.com/TurkuNLP/textual-data-analysis-course/main/BB4_converted_devel.json\n",
            "Resolving raw.githubusercontent.com (raw.githubusercontent.com)... 185.199.111.133, 185.199.109.133, 185.199.110.133, ...\n",
            "Connecting to raw.githubusercontent.com (raw.githubusercontent.com)|185.199.111.133|:443... connected.\n",
            "HTTP request sent, awaiting response... 200 OK\n",
            "Length: 207477 (203K) [text/plain]\n",
            "Saving to: ‘BB4_converted_devel.json’\n",
            "\n",
            "BB4_converted_devel 100%[===================>] 202.61K  --.-KB/s    in 0.03s   \n",
            "\n",
            "2025-02-14 07:15:34 (5.73 MB/s) - ‘BB4_converted_devel.json’ saved [207477/207477]\n",
            "\n"
          ]
        }
      ],
      "source": [
        "!wget -O BB4_converted_train.json https://raw.githubusercontent.com/TurkuNLP/textual-data-analysis-course/main/BB4_converted_train.json\n",
        "!wget -O BB4_converted_devel.json https://raw.githubusercontent.com/TurkuNLP/textual-data-analysis-course/main/BB4_converted_devel.json\n",
        "!pip install --quiet openai pydantic scikit-learn\n"
      ]
    },
    {
      "cell_type": "code",
      "source": [
        "# moved all imports to here\n",
        "\n",
        "from openai import OpenAI\n",
        "from pydantic import BaseModel\n",
        "from typing import Dict\n",
        "from sklearn.metrics import precision_recall_fscore_support\n",
        "import json\n",
        "from google.colab import userdata\n",
        "import matplotlib.pyplot as plt\n",
        "import numpy as np\n",
        "\n"
      ],
      "metadata": {
        "id": "OgNyw4RZJa9B"
      },
      "execution_count": 88,
      "outputs": []
    },
    {
      "cell_type": "markdown",
      "source": [
        "Now let's read the files and inspect their format."
      ],
      "metadata": {
        "id": "yFIucTUUBBaZ"
      }
    },
    {
      "cell_type": "code",
      "source": [
        "def read_json(file_name):\n",
        "  with open(file_name, \"rt\" , encoding = 'utf-8') as f:\n",
        "    data = json.load(f)\n",
        "  return data\n",
        "\n",
        "train = read_json(\"BB4_converted_train.json\")\n",
        "devel = read_json(\"BB4_converted_devel.json\")\n",
        "\n",
        "print(\"training documents:\" , len(train))\n",
        "print(\"development documents:\" , len(devel))\n"
      ],
      "metadata": {
        "colab": {
          "base_uri": "https://localhost:8080/"
        },
        "id": "WUErKEoKQ855",
        "outputId": "f9935a3a-332b-4f05-afc7-ee91320546c1"
      },
      "execution_count": 89,
      "outputs": [
        {
          "output_type": "stream",
          "name": "stdout",
          "text": [
            "training documents: 125\n",
            "development documents: 64\n"
          ]
        }
      ]
    },
    {
      "cell_type": "markdown",
      "source": [
        "Now let's familiarize ourselves with file format."
      ],
      "metadata": {
        "id": "5YkG6c__SHK1"
      }
    },
    {
      "cell_type": "code",
      "source": [
        "print (train.keys())\n",
        "train_doc_id = \"BB-rel-F-22177851-012\"\n",
        "for item in train[train_doc_id].items():\n",
        "  print (item)\n"
      ],
      "metadata": {
        "colab": {
          "base_uri": "https://localhost:8080/"
        },
        "id": "PwS4q5lUSLyH",
        "outputId": "60370236-bff4-4d65-def9-74fc180a09ed"
      },
      "execution_count": 90,
      "outputs": [
        {
          "output_type": "stream",
          "name": "stdout",
          "text": [
            "dict_keys(['BB-rel-F-22177851-006', 'BB-rel-F-22177851-012', 'BB-rel-18845825', 'BB-rel-9526514', 'BB-rel-12970344', 'BB-rel-F-22177851-013', 'BB-rel-F-22177851-007', 'BB-rel-6143890', 'BB-rel-17237163', 'BB-rel-10738994', 'BB-rel-16990433', 'BB-rel-24678646', 'BB-rel-F-22177851-011', 'BB-rel-F-22177851-005', 'BB-rel-F-22177851-004', 'BB-rel-25634638', 'BB-rel-F-22177851-010', 'BB-rel-8607503', 'BB-rel-F-18524407-001', 'BB-rel-F-22177851-014', 'BB-rel-F-22177851-000', 'BB-rel-F-23290227-000', 'BB-rel-8347510', 'BB-rel-F-22177851-001', 'BB-rel-F-22177851-015', 'BB-rel-448557', 'BB-rel-F-18524407-000', 'BB-rel-14645268', 'BB-rel-11410343', 'BB-rel-21917915', 'BB-rel-F-22177851-003', 'BB-rel-F-22177851-017', 'BB-rel-9643457', 'BB-rel-F-22177851-002', 'BB-rel-16263187', 'BB-rel-F-25496341-009', 'BB-rel-6631408', 'BB-rel-24831788', 'BB-rel-2696427', 'BB-rel-F-25496341-008', 'BB-rel-19099664', 'BB-rel-F-23224222-009', 'BB-rel-F-23224222-008', 'BB-rel-16432479', 'BB-rel-25098305', 'BB-rel-24361838', 'BB-rel-24874563', 'BB-rel-9864452', 'BB-rel-607884', 'BB-rel-22834551', 'BB-rel-23908036', 'BB-rel-6107735', 'BB-rel-19175621', 'BB-rel-4329237', 'BB-rel-9798026', 'BB-rel-23855904', 'BB-rel-20073421', 'BB-rel-4105033', 'BB-rel-19396518', 'BB-rel-F-25496341-000', 'BB-rel-F-23224222-003', 'BB-rel-21924022', 'BB-rel-F-23224222-002', 'BB-rel-8997164', 'BB-rel-12781527', 'BB-rel-F-25496341-001', 'BB-rel-24198224', 'BB-rel-1016123', 'BB-rel-F-25496341-003', 'BB-rel-25562320', 'BB-rel-F-23224222-000', 'BB-rel-F-23224222-001', 'BB-rel-19501788', 'BB-rel-F-25496341-002', 'BB-rel-F-26678131-004', 'BB-rel-F-27020288-002', 'BB-rel-F-26678131-000', 'BB-rel-20148898', 'BB-rel-F-25496341-006', 'BB-rel-F-23224222-011', 'BB-rel-F-23224222-005', 'BB-rel-F-23224222-004', 'BB-rel-9255900', 'BB-rel-F-23224222-010', 'BB-rel-19622846', 'BB-rel-F-25496341-007', 'BB-rel-F-26678131-001', 'BB-rel-F-27020288-003', 'BB-rel-19049879', 'BB-rel-F-27020288-001', 'BB-rel-11437594', 'BB-rel-F-26678131-003', 'BB-rel-F-25496341-005', 'BB-rel-F-25496341-011', 'BB-rel-F-23224222-006', 'BB-rel-F-23224222-012', 'BB-rel-F-23224222-013', 'BB-rel-F-23224222-007', 'BB-rel-8532424', 'BB-rel-F-25496341-010', 'BB-rel-F-25496341-004', 'BB-rel-F-26678131-002', 'BB-rel-F-27020288-000', 'BB-rel-20005916', 'BB-rel-15358511', 'BB-rel-F-22177851-018', 'BB-rel-17687514', 'BB-rel-10658649', 'BB-rel-4328756', 'BB-rel-F-22177851-019', 'BB-rel-16436701', 'BB-rel-23702192', 'BB-rel-3074181', 'BB-rel-12728302', 'BB-rel-19075662', 'BB-rel-9564489', 'BB-rel-F-22177851-009', 'BB-rel-F-22177851-021', 'BB-rel-9535771', 'BB-rel-F-22177851-020', 'BB-rel-F-22177851-008', 'BB-rel-8358765', 'BB-rel-F-22177851-022', 'BB-rel-21498521', 'BB-rel-F-22177851-023'])\n",
            "('text', 'On the other hand, methylthiobutyrate, methyl ester octanoic acid, \\nbenzeneacetaldehyde and 3-heptanone were only found in the community \\nwith P. celer.\\n')\n",
            "('entities', {'T1': {'type': 'Habitat', 'offsets': [[127, 151]], 'text': 'community  with P. celer'}, 'T2': {'type': 'Microorganism', 'offsets': [[143, 151]], 'text': 'P. celer'}})\n",
            "('relations', {'R1': {'type': 'Lives_In', 'e1': 'T2', 'e2': 'T1', 'e1_type': 'Microorganism', 'e2_type': 'Location'}})\n"
          ]
        }
      ]
    },
    {
      "cell_type": "markdown",
      "source": [
        "As you can see, each document in the training or development set has a key, and it is a python dictionary, with \"text\" , \"entities\" , and \"relations\".\n",
        "\n",
        "* Entities have ids, starting with \"T\", type, and begining and end offsets in the text. **Some entities have multiple spans.**\n",
        "\n",
        "* Relations are also have ids, starting with \"R\" , and two arguments (entities). The first argument (e1), is always a Microorganism, and the second argument (e2) is either a \"Habitat\", or a \"Geographical\" location.\n",
        "\n",
        "**because this is manually annotated dataset, only positive pairs are annotated. We can generate all candidate pairs, and those that are annotated, are Positive examples, and those which we cannot find in the relations part, are the negative examples.**\n",
        "\n",
        "In above example, there is only one Habitat, one Microorganism, and one (Positive) relation between them.\n",
        "\n",
        "\n",
        "**But a document can have more than two entities and relations. Here is an example**"
      ],
      "metadata": {
        "id": "emjPPVgeSkp1"
      }
    },
    {
      "cell_type": "code",
      "source": [
        "train_doc_id = \"BB-rel-F-22177851-006\"\n",
        "print (\"TEXT=\", train[train_doc_id]['text'])\n",
        "print (\"Entities:\")\n",
        "for entity_id in train[train_doc_id]['entities']:\n",
        "  print (entity_id , \":\" , train[train_doc_id]['entities'][entity_id])\n",
        "\n",
        "print (\"Positive relations:\")\n",
        "for positive_relation_id in train[train_doc_id]['relations']:\n",
        "  print(positive_relation_id, \":\" , train[train_doc_id]['relations'][positive_relation_id])\n",
        "print(\"-\"*80)"
      ],
      "metadata": {
        "colab": {
          "base_uri": "https://localhost:8080/"
        },
        "id": "HQXz6x68aO_t",
        "outputId": "51239a14-0e22-48b5-b2f0-10a1b434a9f6"
      },
      "execution_count": 91,
      "outputs": [
        {
          "output_type": "stream",
          "name": "stdout",
          "text": [
            "TEXT= The strain S3 + and its protease-negative variant S3-, assigned to Lactococcus lactis sp. lactis, was used for cheese-making. The 11 microorganisms that composed the model community included seven bacteria — Lactobacillus casei FH1, Arthrobacter arilaitensis Re117, Corynebacterium casei Mu120, C. flavescens Mu128, C. variabile Mu129, Staphylococcus xylosus Com1 and S. equorum Mu2 — and four yeasts — D. hansenii DH68, G. candidum GC129, Y. lipolytica CI35 and K. lactis\n",
            " KL65. This composition is representative of the diversity of smear soft\n",
            " cheese. The microorganisms were originally isolated from Munster except\n",
            " for Re117 (Reblochon), Com1 (unknown) and FH1 (St. Nectaire). The \n",
            "Gram-negative bacteria studied, P. celer 91 and H. alvei\n",
            " 2 920, isolated from Livarot and Munster cheese, respectively, were \n",
            "chosen from a large cheese bacteria collection for their low level of \n",
            "sanitary risk (sensitivity to 24 antibiotics, no production of biogenic \n",
            "amines in synthetic media and no growth under anaerobic condition and at\n",
            " 37 °C) (Coton et al., 2012).\n",
            "\n",
            "Entities:\n",
            "T1 : {'type': 'Microorganism', 'offsets': [[11, 15], [67, 96]], 'text': 'S3\\xa0+ Lactococcus lactis sp. lactis'}\n",
            "T3 : {'type': 'Microorganism', 'offsets': [[50, 53], [67, 96]], 'text': 'S3- Lactococcus lactis sp. lactis'}\n",
            "T4 : {'type': 'Habitat', 'offsets': [[111, 117]], 'text': 'cheese'}\n",
            "T5 : {'type': 'Habitat', 'offsets': [[166, 181]], 'text': 'model community'}\n",
            "T6 : {'type': 'Microorganism', 'offsets': [[208, 231]], 'text': 'Lactobacillus casei FH1'}\n",
            "T7 : {'type': 'Microorganism', 'offsets': [[233, 264]], 'text': 'Arthrobacter arilaitensis Re117'}\n",
            "T8 : {'type': 'Microorganism', 'offsets': [[266, 293]], 'text': 'Corynebacterium casei Mu120'}\n",
            "T9 : {'type': 'Microorganism', 'offsets': [[295, 314]], 'text': 'C. flavescens Mu128'}\n",
            "T10 : {'type': 'Microorganism', 'offsets': [[316, 334]], 'text': 'C. variabile Mu129'}\n",
            "T11 : {'type': 'Microorganism', 'offsets': [[336, 363]], 'text': 'Staphylococcus xylosus Com1'}\n",
            "T12 : {'type': 'Microorganism', 'offsets': [[368, 382]], 'text': 'S. equorum Mu2'}\n",
            "T13 : {'type': 'Microorganism', 'offsets': [[403, 419]], 'text': 'D. hansenii DH68'}\n",
            "T14 : {'type': 'Microorganism', 'offsets': [[421, 438]], 'text': 'G. candidum GC129'}\n",
            "T15 : {'type': 'Microorganism', 'offsets': [[440, 458]], 'text': 'Y. lipolytica CI35'}\n",
            "T16 : {'type': 'Microorganism', 'offsets': [[463, 478]], 'text': 'K. lactis  KL65'}\n",
            "T17 : {'type': 'Habitat', 'offsets': [[535, 553]], 'text': 'smear soft  cheese'}\n",
            "T18 : {'type': 'Habitat', 'offsets': [[604, 611]], 'text': 'Munster'}\n",
            "T19 : {'type': 'Microorganism', 'offsets': [[624, 629]], 'text': 'Re117'}\n",
            "T20 : {'type': 'Habitat', 'offsets': [[631, 640]], 'text': 'Reblochon'}\n",
            "T21 : {'type': 'Microorganism', 'offsets': [[643, 647]], 'text': 'Com1'}\n",
            "T22 : {'type': 'Microorganism', 'offsets': [[662, 665]], 'text': 'FH1'}\n",
            "T23 : {'type': 'Habitat', 'offsets': [[667, 679]], 'text': 'St. Nectaire'}\n",
            "T25 : {'type': 'Microorganism', 'offsets': [[719, 730]], 'text': 'P. celer 91'}\n",
            "T26 : {'type': 'Microorganism', 'offsets': [[735, 750]], 'text': 'H. alvei  2 920'}\n",
            "T27 : {'type': 'Habitat', 'offsets': [[766, 773]], 'text': 'Livarot'}\n",
            "T28 : {'type': 'Habitat', 'offsets': [[778, 792]], 'text': 'Munster cheese'}\n",
            "T29 : {'type': 'Habitat', 'offsets': [[834, 840]], 'text': 'cheese'}\n",
            "T32 : {'type': 'Habitat', 'offsets': [[968, 983]], 'text': 'synthetic media'}\n",
            "Positive relations:\n",
            "R1 : {'type': 'Lives_In', 'e1': 'T1', 'e2': 'T4', 'e1_type': 'Microorganism', 'e2_type': 'Location'}\n",
            "R2 : {'type': 'Lives_In', 'e1': 'T3', 'e2': 'T4', 'e1_type': 'Microorganism', 'e2_type': 'Location'}\n",
            "R4 : {'type': 'Lives_In', 'e1': 'T6', 'e2': 'T17', 'e1_type': 'Microorganism', 'e2_type': 'Location'}\n",
            "R5 : {'type': 'Lives_In', 'e1': 'T6', 'e2': 'T5', 'e1_type': 'Microorganism', 'e2_type': 'Location'}\n",
            "R6 : {'type': 'Lives_In', 'e1': 'T7', 'e2': 'T5', 'e1_type': 'Microorganism', 'e2_type': 'Location'}\n",
            "R7 : {'type': 'Lives_In', 'e1': 'T7', 'e2': 'T17', 'e1_type': 'Microorganism', 'e2_type': 'Location'}\n",
            "R8 : {'type': 'Lives_In', 'e1': 'T8', 'e2': 'T5', 'e1_type': 'Microorganism', 'e2_type': 'Location'}\n",
            "R9 : {'type': 'Lives_In', 'e1': 'T8', 'e2': 'T18', 'e1_type': 'Microorganism', 'e2_type': 'Location'}\n",
            "R10 : {'type': 'Lives_In', 'e1': 'T8', 'e2': 'T17', 'e1_type': 'Microorganism', 'e2_type': 'Location'}\n",
            "R11 : {'type': 'Lives_In', 'e1': 'T9', 'e2': 'T5', 'e1_type': 'Microorganism', 'e2_type': 'Location'}\n",
            "R12 : {'type': 'Lives_In', 'e1': 'T9', 'e2': 'T17', 'e1_type': 'Microorganism', 'e2_type': 'Location'}\n",
            "R13 : {'type': 'Lives_In', 'e1': 'T9', 'e2': 'T18', 'e1_type': 'Microorganism', 'e2_type': 'Location'}\n",
            "R14 : {'type': 'Lives_In', 'e1': 'T10', 'e2': 'T5', 'e1_type': 'Microorganism', 'e2_type': 'Location'}\n",
            "R15 : {'type': 'Lives_In', 'e1': 'T10', 'e2': 'T18', 'e1_type': 'Microorganism', 'e2_type': 'Location'}\n",
            "R16 : {'type': 'Lives_In', 'e1': 'T10', 'e2': 'T17', 'e1_type': 'Microorganism', 'e2_type': 'Location'}\n",
            "R17 : {'type': 'Lives_In', 'e1': 'T11', 'e2': 'T18', 'e1_type': 'Microorganism', 'e2_type': 'Location'}\n",
            "R18 : {'type': 'Lives_In', 'e1': 'T11', 'e2': 'T5', 'e1_type': 'Microorganism', 'e2_type': 'Location'}\n",
            "R19 : {'type': 'Lives_In', 'e1': 'T11', 'e2': 'T17', 'e1_type': 'Microorganism', 'e2_type': 'Location'}\n",
            "R20 : {'type': 'Lives_In', 'e1': 'T12', 'e2': 'T5', 'e1_type': 'Microorganism', 'e2_type': 'Location'}\n",
            "R21 : {'type': 'Lives_In', 'e1': 'T12', 'e2': 'T17', 'e1_type': 'Microorganism', 'e2_type': 'Location'}\n",
            "R22 : {'type': 'Lives_In', 'e1': 'T12', 'e2': 'T18', 'e1_type': 'Microorganism', 'e2_type': 'Location'}\n",
            "R23 : {'type': 'Lives_In', 'e1': 'T13', 'e2': 'T5', 'e1_type': 'Microorganism', 'e2_type': 'Location'}\n",
            "R24 : {'type': 'Lives_In', 'e1': 'T13', 'e2': 'T18', 'e1_type': 'Microorganism', 'e2_type': 'Location'}\n",
            "R25 : {'type': 'Lives_In', 'e1': 'T13', 'e2': 'T17', 'e1_type': 'Microorganism', 'e2_type': 'Location'}\n",
            "R26 : {'type': 'Lives_In', 'e1': 'T14', 'e2': 'T17', 'e1_type': 'Microorganism', 'e2_type': 'Location'}\n",
            "R27 : {'type': 'Lives_In', 'e1': 'T14', 'e2': 'T5', 'e1_type': 'Microorganism', 'e2_type': 'Location'}\n",
            "R28 : {'type': 'Lives_In', 'e1': 'T14', 'e2': 'T18', 'e1_type': 'Microorganism', 'e2_type': 'Location'}\n",
            "R29 : {'type': 'Lives_In', 'e1': 'T15', 'e2': 'T18', 'e1_type': 'Microorganism', 'e2_type': 'Location'}\n",
            "R30 : {'type': 'Lives_In', 'e1': 'T15', 'e2': 'T17', 'e1_type': 'Microorganism', 'e2_type': 'Location'}\n",
            "R31 : {'type': 'Lives_In', 'e1': 'T15', 'e2': 'T5', 'e1_type': 'Microorganism', 'e2_type': 'Location'}\n",
            "R32 : {'type': 'Lives_In', 'e1': 'T16', 'e2': 'T17', 'e1_type': 'Microorganism', 'e2_type': 'Location'}\n",
            "R33 : {'type': 'Lives_In', 'e1': 'T16', 'e2': 'T5', 'e1_type': 'Microorganism', 'e2_type': 'Location'}\n",
            "R34 : {'type': 'Lives_In', 'e1': 'T16', 'e2': 'T18', 'e1_type': 'Microorganism', 'e2_type': 'Location'}\n",
            "R35 : {'type': 'Lives_In', 'e1': 'T19', 'e2': 'T20', 'e1_type': 'Microorganism', 'e2_type': 'Location'}\n",
            "R36 : {'type': 'Lives_In', 'e1': 'T22', 'e2': 'T23', 'e1_type': 'Microorganism', 'e2_type': 'Location'}\n",
            "R37 : {'type': 'Lives_In', 'e1': 'T25', 'e2': 'T32', 'e1_type': 'Microorganism', 'e2_type': 'Location'}\n",
            "R38 : {'type': 'Lives_In', 'e1': 'T25', 'e2': 'T27', 'e1_type': 'Microorganism', 'e2_type': 'Location'}\n",
            "R41 : {'type': 'Lives_In', 'e1': 'T26', 'e2': 'T32', 'e1_type': 'Microorganism', 'e2_type': 'Location'}\n",
            "R42 : {'type': 'Lives_In', 'e1': 'T26', 'e2': 'T28', 'e1_type': 'Microorganism', 'e2_type': 'Location'}\n",
            "--------------------------------------------------------------------------------\n"
          ]
        }
      ]
    },
    {
      "cell_type": "markdown",
      "source": [
        "Now, let's make a function that can tag entity spans, based on entity types:"
      ],
      "metadata": {
        "id": "6zo8_RpSa8L-"
      }
    },
    {
      "cell_type": "code",
      "source": [
        "def mark_entities_with_entity_tags(text, entities):\n",
        "    \"\"\"\n",
        "    Annotate text with XML-like tags inserted directly into the text.\n",
        "\n",
        "    For each entity we assume the structure:\n",
        "      { \"type\": <entity type>, \"offsets\": [[start, end]], \"text\": <...> }\n",
        "\n",
        "    Overlapping annotations will be handled by inserting tags at the boundaries.\n",
        "    (If spans cross rather than nest, the output may have crossing tags; in many\n",
        "    applications you would split such spans to get a well-formed nesting.)\n",
        "\n",
        "    Returns:\n",
        "      A new string with opening and closing tags inserted.\n",
        "      For example: <Habitat>experimental smear soft cheese</Habitat>\n",
        "    \"\"\"\n",
        "    events = []\n",
        "    # For each entity (each value in the dictionary) add a start event and an end event.\n",
        "    for ent in entities.values():\n",
        "        tag = ent[\"type\"]\n",
        "        for start, end in ent[\"offsets\"]:\n",
        "            # Save event as (position, event_type, auxiliary, tag)\n",
        "            # For a start event, we record the end position as auxiliary (so we can sort descending by end)\n",
        "            # For an end event, we record the start position (so we can sort ascending by start).\n",
        "            events.append((start, \"start\", end, tag))\n",
        "            events.append((end, \"end\", start, tag))\n",
        "\n",
        "    # Define a sort key so that:\n",
        "    #   - Primary: sort by position.\n",
        "    #   - At the same position, \"end\" events come before \"start\" events.\n",
        "    #   - For start events at the same position, those with later (higher) end come first (so that outer tags open first).\n",
        "    #   - For end events at the same position, those with earlier start come first.\n",
        "    def event_sort_key(e):\n",
        "        pos, etype, aux, tag = e\n",
        "        if etype == \"end\":\n",
        "            return (pos, 0, aux)  # lower auxiliary value first\n",
        "        else:  # \"start\"\n",
        "            return (pos, 1, -aux)  # higher aux (later end) first\n",
        "\n",
        "    events.sort(key=event_sort_key)\n",
        "\n",
        "    # Now, we iterate over the sorted events and insert tag strings at the appropriate positions.\n",
        "    # We'll build a list of (position, string_to_insert) items.\n",
        "    inserts = []\n",
        "    for pos, etype, aux, tag in events:\n",
        "        if etype == \"end\":\n",
        "            inserts.append((pos, f\"</{tag}>\"))\n",
        "        else:\n",
        "            inserts.append((pos, f\"<{tag}>\"))\n",
        "\n",
        "    # Because multiple inserts may occur at the same position, group them.\n",
        "    # We already sorted events so that the insertions are in the correct order.\n",
        "    # Now, build the annotated text by iterating through the text and inserting tags at the right offsets.\n",
        "    result = []\n",
        "    last_index = 0\n",
        "    for pos, insert_text in inserts:\n",
        "        # Append the text between the last index and current position.\n",
        "        if pos > last_index:\n",
        "            result.append(text[last_index:pos])\n",
        "        # Append the tag.\n",
        "        result.append(insert_text)\n",
        "        last_index = pos\n",
        "    # Append any remaining text.\n",
        "    result.append(text[last_index:])\n",
        "    return \"\".join(result)\n",
        "\n",
        "train_doc_id = \"BB-rel-607884\"\n",
        "for item in train[train_doc_id].items():\n",
        "  print (item)\n",
        "\n",
        "print (\"-\"*80)\n",
        "text = train[train_doc_id]['text']\n",
        "entities = train[train_doc_id]['entities']\n",
        "print (\"ORIGINAL TEXT :  \", text)\n",
        "print (\"ENCODED TEXT :   \", mark_entities_with_entity_tags(text, entities))\n",
        "print (\"-\"*80)"
      ],
      "metadata": {
        "colab": {
          "base_uri": "https://localhost:8080/"
        },
        "id": "Tr2HTQ5VV_9M",
        "outputId": "72780030-459d-4495-feb7-17180c88ac3b"
      },
      "execution_count": 92,
      "outputs": [
        {
          "output_type": "stream",
          "name": "stdout",
          "text": [
            "('text', '[The infections from \"Serratia\" in the Hospital S. Camillo De Lellis of Roma (Italy) (author\\'s transl)].\\n\\n')\n",
            "('entities', {'T2': {'type': 'Microorganism', 'offsets': [[22, 30]], 'text': 'Serratia'}, 'T3': {'type': 'Habitat', 'offsets': [[39, 68]], 'text': 'Hospital S. Camillo De Lellis'}, 'T4': {'type': 'Geographical', 'offsets': [[72, 76]], 'text': 'Roma'}, 'T5': {'type': 'Geographical', 'offsets': [[78, 83]], 'text': 'Italy'}})\n",
            "('relations', {'R1': {'type': 'Lives_In', 'e1': 'T2', 'e2': 'T5', 'e1_type': 'Microorganism', 'e2_type': 'Location'}, 'R2': {'type': 'Lives_In', 'e1': 'T2', 'e2': 'T3', 'e1_type': 'Microorganism', 'e2_type': 'Location'}, 'R3': {'type': 'Lives_In', 'e1': 'T2', 'e2': 'T4', 'e1_type': 'Microorganism', 'e2_type': 'Location'}})\n",
            "--------------------------------------------------------------------------------\n",
            "ORIGINAL TEXT :   [The infections from \"Serratia\" in the Hospital S. Camillo De Lellis of Roma (Italy) (author's transl)].\n",
            "\n",
            "\n",
            "ENCODED TEXT :    [The infections from \"<Microorganism>Serratia</Microorganism>\" in the <Habitat>Hospital S. Camillo De Lellis</Habitat> of <Geographical>Roma</Geographical> (<Geographical>Italy</Geographical>) (author's transl)].\n",
            "\n",
            "\n",
            "--------------------------------------------------------------------------------\n"
          ]
        }
      ]
    },
    {
      "cell_type": "markdown",
      "source": [
        "**There are two possibilities now:**\n",
        "1. Marking full texts with all entities, and asking GPT to extract all possible relations Lives_in(Microorganism, Habitat/Geographical), and hope for the best.\n",
        "But then we will need to process the output for an accurate evaluation, **which can get tricky**.\n",
        "\n",
        "2. Generative all possible positive and negative pairs, assign them unique relation id, then feeding each example separately to GPT (or pack them together), and asking for predicting the label to be positive or negative.\n",
        "\n",
        "Here is the second approach:"
      ],
      "metadata": {
        "id": "yTLHnTn8epC6"
      }
    },
    {
      "cell_type": "code",
      "source": [
        "from itertools import product\n",
        "\n",
        "def generate_and_mark_all_candidate_pairs(_dataset):\n",
        "  unique_relation_id_index = 0\n",
        "  results = []\n",
        "  for document_id in _dataset:\n",
        "    text = _dataset[document_id]['text']\n",
        "    entities = _dataset[document_id]['entities']\n",
        "    ent_microorganisms = [e_id for e_id in entities if entities[e_id]['type'] == \"Microorganism\"]\n",
        "    ent_locations = [e_id for e_id in entities if entities[e_id]['type'] in [\"Geographical\", \"Habitat\"]]\n",
        "    # generate all possible pairs\n",
        "    candidate_pairs = list(product(ent_microorganisms, ent_locations))\n",
        "\n",
        "    # look at relations to get information about all positive pairs\n",
        "    relations = _dataset[document_id]['relations']\n",
        "    positive_pairs = (relations.items())\n",
        "    positive_pairs = set([(b['e1'], b['e2']) for (a, b) in relations.items()])\n",
        "\n",
        "    for (a, b) in candidate_pairs:\n",
        "      this_example_entities = dict()\n",
        "      this_example_entities[a] = entities[a]\n",
        "      this_example_entities[b] = entities[b]\n",
        "      if (a, b) in positive_pairs:\n",
        "        this_example_label = \"Positive\"\n",
        "      else:\n",
        "        this_example_label = \"Negative\"\n",
        "\n",
        "      ml_example = {\"UID\" : \"UID_\" + str(unique_relation_id_index),\n",
        "                    \"doc_id\": document_id,\n",
        "                    \"e1\" : a ,\n",
        "                    \"e2\" : b ,\n",
        "                    \"text\": text,\n",
        "                    \"marked_text\": mark_entities_with_entity_tags(text, this_example_entities),\n",
        "                    \"label\": this_example_label}\n",
        "      results.append(ml_example)\n",
        "      unique_relation_id_index += 1\n",
        "  return results\n",
        "\n",
        "train_examples = generate_and_mark_all_candidate_pairs(train)\n",
        "devel_examples = generate_and_mark_all_candidate_pairs(devel)\n",
        "\n",
        "for example in train_examples:\n",
        "  if example['doc_id'] == \"BB-rel-607884\":\n",
        "    print(example)\n",
        "print(\"-\"*80)\n"
      ],
      "metadata": {
        "colab": {
          "base_uri": "https://localhost:8080/"
        },
        "id": "NoD6pT_efRzG",
        "outputId": "ed8d9ff8-dda2-4ca1-9550-768462493cea"
      },
      "execution_count": 93,
      "outputs": [
        {
          "output_type": "stream",
          "name": "stdout",
          "text": [
            "{'UID': 'UID_3158', 'doc_id': 'BB-rel-607884', 'e1': 'T2', 'e2': 'T3', 'text': '[The infections from \"Serratia\" in the Hospital S. Camillo De Lellis of Roma (Italy) (author\\'s transl)].\\n\\n', 'marked_text': '[The infections from \"<Microorganism>Serratia</Microorganism>\" in the <Habitat>Hospital S. Camillo De Lellis</Habitat> of Roma (Italy) (author\\'s transl)].\\n\\n', 'label': 'Positive'}\n",
            "{'UID': 'UID_3159', 'doc_id': 'BB-rel-607884', 'e1': 'T2', 'e2': 'T4', 'text': '[The infections from \"Serratia\" in the Hospital S. Camillo De Lellis of Roma (Italy) (author\\'s transl)].\\n\\n', 'marked_text': '[The infections from \"<Microorganism>Serratia</Microorganism>\" in the Hospital S. Camillo De Lellis of <Geographical>Roma</Geographical> (Italy) (author\\'s transl)].\\n\\n', 'label': 'Positive'}\n",
            "{'UID': 'UID_3160', 'doc_id': 'BB-rel-607884', 'e1': 'T2', 'e2': 'T5', 'text': '[The infections from \"Serratia\" in the Hospital S. Camillo De Lellis of Roma (Italy) (author\\'s transl)].\\n\\n', 'marked_text': '[The infections from \"<Microorganism>Serratia</Microorganism>\" in the Hospital S. Camillo De Lellis of Roma (<Geographical>Italy</Geographical>) (author\\'s transl)].\\n\\n', 'label': 'Positive'}\n",
            "--------------------------------------------------------------------------------\n"
          ]
        }
      ]
    },
    {
      "cell_type": "markdown",
      "source": [
        "This is another document with id = BB-rel-F-22177851-000\n",
        "\n"
      ],
      "metadata": {
        "id": "fNcQXK2Vpsta"
      }
    },
    {
      "cell_type": "code",
      "source": [
        "for item in train[\"BB-rel-F-22177851-000\"].items():\n",
        "  print (item)\n",
        "print (\"-\"*40)\n",
        "for example in train_examples:\n",
        "  if example['doc_id'] == \"BB-rel-F-22177851-000\":\n",
        "    print(example)\n"
      ],
      "metadata": {
        "colab": {
          "base_uri": "https://localhost:8080/"
        },
        "id": "Im1cVW0jpzu4",
        "outputId": "640623a4-585f-4634-932d-9570af188a84"
      },
      "execution_count": 94,
      "outputs": [
        {
          "output_type": "stream",
          "name": "stdout",
          "text": [
            "('text', 'Ecological and aromatic impact of two Gram-negative bacteria (Psychrobacter celer and Hafnia alvei) inoculated as part of the whole microbial community of an experimental smear soft cheese\\n')\n",
            "('entities', {'T2': {'type': 'Microorganism', 'offsets': [[62, 81]], 'text': 'Psychrobacter celer'}, 'T3': {'type': 'Microorganism', 'offsets': [[86, 98]], 'text': 'Hafnia alvei'}, 'T4': {'type': 'Habitat', 'offsets': [[132, 187]], 'text': 'microbial community of an experimental smear soft chees'}, 'T5': {'type': 'Habitat', 'offsets': [[158, 188]], 'text': 'experimental smear soft cheese'}})\n",
            "('relations', {'R2': {'type': 'Lives_In', 'e1': 'T2', 'e2': 'T5', 'e1_type': 'Microorganism', 'e2_type': 'Location'}, 'R4': {'type': 'Lives_In', 'e1': 'T3', 'e2': 'T5', 'e1_type': 'Microorganism', 'e2_type': 'Location'}})\n",
            "----------------------------------------\n",
            "{'UID': 'UID_856', 'doc_id': 'BB-rel-F-22177851-000', 'e1': 'T2', 'e2': 'T4', 'text': 'Ecological and aromatic impact of two Gram-negative bacteria (Psychrobacter celer and Hafnia alvei) inoculated as part of the whole microbial community of an experimental smear soft cheese\\n', 'marked_text': 'Ecological and aromatic impact of two Gram-negative bacteria (<Microorganism>Psychrobacter celer</Microorganism> and Hafnia alvei) inoculated as part of the whole <Habitat>microbial community of an experimental smear soft chees</Habitat>e\\n', 'label': 'Negative'}\n",
            "{'UID': 'UID_857', 'doc_id': 'BB-rel-F-22177851-000', 'e1': 'T2', 'e2': 'T5', 'text': 'Ecological and aromatic impact of two Gram-negative bacteria (Psychrobacter celer and Hafnia alvei) inoculated as part of the whole microbial community of an experimental smear soft cheese\\n', 'marked_text': 'Ecological and aromatic impact of two Gram-negative bacteria (<Microorganism>Psychrobacter celer</Microorganism> and Hafnia alvei) inoculated as part of the whole microbial community of an <Habitat>experimental smear soft cheese</Habitat>\\n', 'label': 'Positive'}\n",
            "{'UID': 'UID_858', 'doc_id': 'BB-rel-F-22177851-000', 'e1': 'T3', 'e2': 'T4', 'text': 'Ecological and aromatic impact of two Gram-negative bacteria (Psychrobacter celer and Hafnia alvei) inoculated as part of the whole microbial community of an experimental smear soft cheese\\n', 'marked_text': 'Ecological and aromatic impact of two Gram-negative bacteria (Psychrobacter celer and <Microorganism>Hafnia alvei</Microorganism>) inoculated as part of the whole <Habitat>microbial community of an experimental smear soft chees</Habitat>e\\n', 'label': 'Negative'}\n",
            "{'UID': 'UID_859', 'doc_id': 'BB-rel-F-22177851-000', 'e1': 'T3', 'e2': 'T5', 'text': 'Ecological and aromatic impact of two Gram-negative bacteria (Psychrobacter celer and Hafnia alvei) inoculated as part of the whole microbial community of an experimental smear soft cheese\\n', 'marked_text': 'Ecological and aromatic impact of two Gram-negative bacteria (Psychrobacter celer and <Microorganism>Hafnia alvei</Microorganism>) inoculated as part of the whole microbial community of an <Habitat>experimental smear soft cheese</Habitat>\\n', 'label': 'Positive'}\n"
          ]
        }
      ]
    },
    {
      "cell_type": "markdown",
      "source": [
        "Now let's look how many positive and negative examples are in the devel set:"
      ],
      "metadata": {
        "id": "m4ynhOPu2y4v"
      }
    },
    {
      "cell_type": "code",
      "source": [
        "pos , neg = 0 , 0\n",
        "for example in devel_examples:\n",
        "  if example['label'] == 'Positive':\n",
        "    pos+=1\n",
        "  else:\n",
        "    neg+=1\n",
        "\n",
        "print (\"there are\" , pos , \"Positive examples in the devel set.\")\n",
        "print (\"there are\" , neg , \"Negative examples in the devel set.\")\n"
      ],
      "metadata": {
        "colab": {
          "base_uri": "https://localhost:8080/"
        },
        "id": "Xv47kyRuluNw",
        "outputId": "64bf067c-8a35-4320-a479-078d72c5e8a2"
      },
      "execution_count": 95,
      "outputs": [
        {
          "output_type": "stream",
          "name": "stdout",
          "text": [
            "there are 453 Positive examples in the devel set.\n",
            "there are 6786 Negative examples in the devel set.\n"
          ]
        }
      ]
    },
    {
      "cell_type": "markdown",
      "source": [
        "Now, let's work with a subset of devel set:  "
      ],
      "metadata": {
        "id": "0j9o0xEY93_4"
      }
    },
    {
      "cell_type": "code",
      "source": [
        "threshold = 400 #text length\n",
        "filtered_devel = dict()\n",
        "for doc_id in devel:\n",
        "  if len(devel[doc_id]['text']) <= threshold:\n",
        "    filtered_devel[doc_id] = devel[doc_id]\n",
        "\n",
        "print (\"documents in filtered devel:\", len(filtered_devel))\n",
        "filtered_devel_examples = generate_and_mark_all_candidate_pairs(filtered_devel)\n",
        "pos , neg = 0 , 0\n",
        "for example in filtered_devel_examples:\n",
        "  if example['label'] == \"Positive\":\n",
        "    pos+= 1\n",
        "  else:\n",
        "    neg+= 1\n",
        "\n",
        "print (\"positives in filtered devel: \" , pos)\n",
        "print (\"negatives in filtered devel: \" , neg)\n",
        "print (\"total: \" , pos + neg)\n"
      ],
      "metadata": {
        "colab": {
          "base_uri": "https://localhost:8080/"
        },
        "id": "A8yPAkfo9_rU",
        "outputId": "6d9b52ed-b5ac-4040-ceec-1a046d54681d"
      },
      "execution_count": 96,
      "outputs": [
        {
          "output_type": "stream",
          "name": "stdout",
          "text": [
            "documents in filtered devel: 13\n",
            "positives in filtered devel:  46\n",
            "negatives in filtered devel:  45\n",
            "total:  91\n"
          ]
        }
      ]
    },
    {
      "cell_type": "code",
      "source": [
        "client = OpenAI(api_key = userdata.get('openai'))\n",
        "\n",
        "from pydantic import BaseModel\n",
        "from typing import List\n",
        "\n",
        "class MLExample(BaseModel):\n",
        "    UID: str\n",
        "    label: str  # Assuming 'positive' is a string\n",
        "\n",
        "class Preds(BaseModel):\n",
        "    data: List[MLExample]  # A list of Item dictionaries\n",
        "\n",
        "def get_predictions_from_GPT(user_prompt):\n",
        "  system_prompt = \"\"\"\n",
        "  Your task is to do binary relation extraction, for a few given input sentences.\n",
        "  Each given sentence has a unique identifier  (UID).\n",
        "  For each input sentence, you need to check if the mentioned <Microorganism>, lives in the mentioned <Habitat> (or <Geographical>, or not.\n",
        "  - If positive: you should return {\"UID\": UID of the example, \"label\": \"Positive\"}, a dictionary with UID: str, and Label =\"Positive\"\n",
        "  - If negative: you should return {\"UID\": UID of the example, \"label\": \"Negative\"}, a dictionary with UID: str, and Label =\"Negative\"\n",
        "\n",
        "  you can pack all the results, and give the output as a list of dictionaries.\n",
        "  \"\"\"\n",
        "  completion = client.beta.chat.completions.parse(\n",
        "    model=\"gpt-4o-mini\",\n",
        "    messages=[\n",
        "      {\"role\": \"system\", \"content\": system_prompt},\n",
        "      {\"role\": \"user\", \"content\": user_prompt},\n",
        "    ],\n",
        "    response_format=Preds,\n",
        "  )\n",
        "\n",
        "  message = completion.choices[0].message\n",
        "  preds = completion.choices[0].message.parsed\n",
        "  return (message, preds)\n",
        "\n",
        "user_prompt = \"\"\"\n",
        "In the following sentences, check if the mentioned microrganism (e.g. bacteria), lives in the mentioned habitat/geographical entity or not.\n",
        "For each input sentence, you need to check if the mentioned <Microorganism>, lives in the mentioned <Habitat> (or <Geographical>, or not.\"\n",
        "\n",
        "UID: 0  Text = <Microorganism>Salmonella</Microorganism> was noticed in <Habitat>raw chicken</Habitat>.\n",
        "UID: 1  Text = <Microorganism>Salmonella</Microorganism> was not noticed in <Habitat>coocked chicken</Habitat>.\n",
        "\"\"\"\n",
        "res = get_predictions_from_GPT(user_prompt)\n",
        "print (res[1].data)\n"
      ],
      "metadata": {
        "colab": {
          "base_uri": "https://localhost:8080/"
        },
        "id": "bbNzLvYpBmmG",
        "outputId": "6399e3d4-54cf-44bd-abe6-39d86098f7ed"
      },
      "execution_count": 97,
      "outputs": [
        {
          "output_type": "stream",
          "name": "stdout",
          "text": [
            "[MLExample(UID='0', label='Positive'), MLExample(UID='1', label='Negative')]\n"
          ]
        }
      ]
    },
    {
      "cell_type": "markdown",
      "source": [
        "You have 3 tasks:\n",
        "\n",
        "**Task1:**\n",
        "\n",
        "Write a code that predicts the labels for all examples in `filtered_devel_examples` (there a 91 examples in this set) by asking the GPT model. You **must** use a `for` loop that packs **5 examples in at-a-time** (in each iteration of the for loop), and predicts the labels for them at once. This is to keep GPT costs low (a real situation if you're going to work for a company). Then use `sklearn.metrics.precision_recall_fscore_support` to calculate precision, recall, and f1-score for the `filtered_devel_examples`.\n",
        "Do **NOT **give any example inputs to the GPT (no few-shot learning in this step).\n",
        "\n",
        "**Task2:**\n",
        "\n",
        "now, include the two positive and negative sentence about Salmonella and chicken that I had mentioned, as examples in your prompts.  \n",
        "\n",
        "- \"UID: UID_1000  Text = <Microorganism>Salmonella</Microorganism> was noticed in <Habitat>raw chicken</Habitat>. --> {'UID':'UID_1000', label = 'Positive'}\n",
        "\n",
        "- \"UID: UID_1001  Text = <Microorganism>Salmonella</Microorganism> was not noticed in <Habitat>coocked chicken</Habitat>. --> {'UID':'UID_1001', label = 'Negative'}\"\n",
        "\n",
        "and repeat the experiment, and report precision, recall, and f1-score.\n",
        "How the results have changed?\n",
        "\n",
        "**Task3:**\n",
        "\n",
        "3.1 Now **randomly** select 4 examples from the **training set** (you can take 2 positives, 2 negatives, or really sample randomly) and include them in your prompt, repeat the experiment, report precision, recall, and f1-score.\n",
        "How the results have changed?\n",
        "\n",
        "3.2 Repeat above experiment: Again, **randomly** sample 4 training examples and use them **instead** of the 4 previous examples. Have the results changed? **Why?**  \n",
        "\n",
        "In order not to get a time-out error from GPT call, you can increas the timeout, **but also make sure you sample from smaller texts.**"
      ],
      "metadata": {
        "id": "Vx1n7VtZV7Hf"
      }
    },
    {
      "cell_type": "markdown",
      "source": [
        "### HELPERS"
      ],
      "metadata": {
        "id": "8FQ_GqXNlQg5"
      }
    },
    {
      "cell_type": "code",
      "source": [
        "\n",
        "# https://scikit-learn.org/stable/modules/generated/sklearn.metrics.precision_recall_fscore_support.html\n",
        "#precision\n",
        "#float (if average is not None) or array of float, shape = [n_unique_labels]\n",
        "#Precision score.\n",
        "\n",
        "#recall\n",
        "#float (if average is not None) or array of float, shape = [n_unique_labels]\n",
        "#Recall score.\n",
        "\n",
        "#fbeta_score\n",
        "#float (if average is not None) or array of float, shape = [n_unique_labels]\n",
        "\n",
        "#F-beta score.\n",
        "#support\n",
        "#None (if average is not None) or array of int, shape = [n_unique_labels]\n",
        "#        The number of occurrences of each label in y_true.\n",
        "def calculate_scores(y_true, y_p) -> tuple:\n",
        "  prec, rec, fs, supp = precision_recall_fscore_support(y_true, y_p, pos_label = 'Positive',average='binary')\n",
        "  return (prec,rec,fs,supp)"
      ],
      "metadata": {
        "id": "QyBuBOh2lPYW"
      },
      "execution_count": 98,
      "outputs": []
    },
    {
      "cell_type": "code",
      "source": [
        "# add the predictions to a dict\n",
        "\n",
        "def generate_dict(list_of_replies) -> dict:\n",
        "  replies_dict = {}\n",
        "  for r in list_of_replies:\n",
        "    pack = [e for e in r[1].data]\n",
        "    for p in pack:\n",
        "      replies_dict[p.UID] = p.label\n",
        "\n",
        "  return replies_dict"
      ],
      "metadata": {
        "id": "2aJJb5dMlSUo"
      },
      "execution_count": 99,
      "outputs": []
    },
    {
      "cell_type": "code",
      "source": [
        "\n",
        "def plot_it(x,prec,rec,fs):\n",
        "  plt.plot(x, prec, label='Precision', marker='o')\n",
        "  plt.plot(x, rec, label='Recall', marker='x')\n",
        "  plt.plot(x, fs, label='F-score', marker='^')\n",
        "\n",
        "  plt.ylim(0,1.05)\n",
        "  plt.yticks(np.arange(0, 1.05, step=0.05))\n",
        "  plt.tick_params(axis='x')\n",
        "  plt.xticks(rotation=45, ha='right')\n",
        "  plt.xlabel('Type of prompt')\n",
        "  plt.ylabel('Performance')\n",
        "  plt.title('Zero-shot vs. Few-shot')\n",
        "\n",
        "  plt.legend()\n",
        "  plt.show()\n"
      ],
      "metadata": {
        "id": "9RKZF32nnxue"
      },
      "execution_count": 100,
      "outputs": []
    },
    {
      "cell_type": "markdown",
      "source": [
        "## TASK 1"
      ],
      "metadata": {
        "id": "1frIj40ZKQQm"
      }
    },
    {
      "cell_type": "code",
      "source": [
        "restriction = 5 # You must use a for loop that packs 5 examples in at-a-time (in each iteration of the for loop)\n",
        "T_1_REPLIES_FROM_GPT = [] # stores all replies\n",
        "\n",
        "\n",
        "for i in range(0, len(filtered_devel_examples), restriction):\n",
        "  user_prompt = \"\"\"\n",
        "                In the following sentences, check if the mentioned microrganism (e.g. bacteria), lives in the mentioned habitat/geographical entity or not.\n",
        "                For each input sentence, you need to check if the mentioned <Microorganism>, lives in the mentioned <Habitat> (or <Geographical>, or not.\"\n",
        "                \"\"\"\n",
        "  for j in range(restriction): # try to add 5 examples\n",
        "      if i + j < len(filtered_devel_examples): # if were not going over the index bounds with i + j values\n",
        "          curr = filtered_devel_examples[i+j]\n",
        "          user_prompt += f\"UID: {curr['UID']}  Text = {curr['text']}\\n\" # only then  concat to the user_prompt\n",
        "  T_1_REPLIES_FROM_GPT.append(get_predictions_from_GPT(user_prompt)) # call GPT with the 5 or less examples at the time\n"
      ],
      "metadata": {
        "id": "kBpgJIX_MHvg"
      },
      "execution_count": 101,
      "outputs": []
    },
    {
      "cell_type": "code",
      "source": [
        "T_1_DICT_OF_REPLIES = generate_dict(T_1_REPLIES_FROM_GPT)"
      ],
      "metadata": {
        "id": "hud6DDwxnEpH"
      },
      "execution_count": 102,
      "outputs": []
    },
    {
      "cell_type": "code",
      "source": [
        "y_true = [y['label'] for y in filtered_devel_examples]\n",
        "\n",
        "T_1_DICT_OF_REPLIES = generate_dict(T_1_REPLIES_FROM_GPT)\n",
        "print(f'length of the dict should match {len(filtered_devel_examples)} ?? {len(T_1_DICT_OF_REPLIES)}')\n",
        "assert len(T_1_DICT_OF_REPLIES) == len(filtered_devel_examples), 'Predicted text must be of the same size than the input data'\n",
        "t1_y_pred = [y_pred for y_pred in T_1_DICT_OF_REPLIES.values()]\n",
        "print(len(t1_y_pred))\n",
        "assert len(t1_y_pred) == len(filtered_devel_examples), 'Predictions must be of the same size than the input data'"
      ],
      "metadata": {
        "colab": {
          "base_uri": "https://localhost:8080/"
        },
        "id": "MPimJ0xnXY5l",
        "outputId": "d5d8501d-6238-4b8a-a270-a3800fcb8c84"
      },
      "execution_count": 103,
      "outputs": [
        {
          "output_type": "stream",
          "name": "stdout",
          "text": [
            "length of the dict should match 91 ?? 91\n",
            "91\n"
          ]
        }
      ]
    },
    {
      "cell_type": "code",
      "source": [
        "t1_precision, t1_recall, t1_fscore, _ = calculate_scores(y_true, t1_y_pred)\n",
        "\n",
        "\n",
        "print(f'Precision is {t1_precision:.3f}')\n",
        "print(f'Recall is {t1_recall:.3f}')\n",
        "print(f'F-Score is {t1_fscore:.3f}')"
      ],
      "metadata": {
        "colab": {
          "base_uri": "https://localhost:8080/"
        },
        "id": "dhxZdBNNb9OD",
        "outputId": "f5314212-7ebc-46bb-cbf5-2091b80c608d"
      },
      "execution_count": 104,
      "outputs": [
        {
          "output_type": "stream",
          "name": "stdout",
          "text": [
            "Precision is 0.416\n",
            "Recall is 0.696\n",
            "F-Score is 0.520\n"
          ]
        }
      ]
    },
    {
      "cell_type": "code",
      "source": [
        "x = [\"zero-shot\"]\n",
        "prec = [t1_precision]\n",
        "rec = [t1_recall]\n",
        "fs = [t1_fscore]\n",
        "\n",
        "plot_it(x,prec,rec,fs)"
      ],
      "metadata": {
        "colab": {
          "base_uri": "https://localhost:8080/",
          "height": 513
        },
        "id": "JgZnRdzbieQk",
        "outputId": "1126feab-a276-495f-d7a7-4b01471becc3"
      },
      "execution_count": 105,
      "outputs": [
        {
          "output_type": "display_data",
          "data": {
            "text/plain": [
              "<Figure size 640x480 with 1 Axes>"
            ],
            "image/png": "[encoded data removed]"
          },
          "metadata": {}
        }
      ]
    },
    {
      "cell_type": "markdown",
      "source": [
        "so thats the baseline"
      ],
      "metadata": {
        "id": "o3fjACn8NsK_"
      }
    },
    {
      "cell_type": "markdown",
      "source": [
        "## TASK 2"
      ],
      "metadata": {
        "id": "A2O3C3nqKUZG"
      }
    },
    {
      "cell_type": "code",
      "source": [
        "#now, include the two positive and negative sentence about Salmonella and chicken that I had mentioned, as examples in your prompts.\n",
        "#\"UID: UID_1000 Text = Salmonella was noticed in raw chicken. --> {'UID':'UID_1000', label = 'Positive'}\n",
        "#\"UID: UID_1001 Text = Salmonella was not noticed in coocked chicken. --> {'UID':'UID_1001', label = 'Negative'}\"\n",
        "#and repeat the experiment, and report precision, recall, and f1-score. How the results have changed?\n",
        "\n",
        "\n",
        "restriction = 5 # You must use a for loop that packs 5 examples in at-a-time (in each iteration of the for loop)\n",
        "T_2_REPLIES_FROM_GPT = [] # stores all replies\n",
        "\n",
        "\n",
        "for i in range(0, len(filtered_devel_examples), restriction):\n",
        "  user_prompt = \"\"\"\n",
        "                In the following sentences, check if the mentioned microrganism (e.g. bacteria), lives in the mentioned habitat/geographical entity or not.\n",
        "                For each input sentence, you need to check if the mentioned <Microorganism>, lives in the mentioned <Habitat> (or <Geographical>, or not.\n",
        "\n",
        "                Examples:\n",
        "                        \"UID: UID_1000 Text = Salmonella was noticed in raw chicken. --> {'UID':'UID_1000', label = 'Positive'}\n",
        "                        \"UID: UID_1001 Text = Salmonella was not noticed in coocked chicken. --> {'UID':'UID_1001', label = 'Negative'}\"\n",
        "                \"\"\"\n",
        "  for j in range(restriction): # try to add 5 examples\n",
        "      if i + j < len(filtered_devel_examples): # if were not going over the index bounds with i + j values\n",
        "          curr = filtered_devel_examples[i+j]\n",
        "          user_prompt += f\"UID: {curr['UID']}  Text = {curr['text']}\\n\" # only then concat concat to the user_prompt\n",
        "  T_2_REPLIES_FROM_GPT.append(get_predictions_from_GPT(user_prompt)) # call GPT with the 5 or less examples at the time\n"
      ],
      "metadata": {
        "id": "aIEC7gxcKUKf"
      },
      "execution_count": 106,
      "outputs": []
    },
    {
      "cell_type": "code",
      "source": [
        "T_2_DICT_OF_REPLIES = generate_dict(T_2_REPLIES_FROM_GPT)\n",
        "print(f'length of the dict should match {len(filtered_devel_examples)} ?? {len(T_2_DICT_OF_REPLIES)}')\n",
        "assert len(T_2_DICT_OF_REPLIES) == len(filtered_devel_examples), 'Predicted text must be of the same size than the input data'\n",
        "t2_y_pred = [y_pred for y_pred in T_2_DICT_OF_REPLIES.values()]\n",
        "print(len(t2_y_pred))\n",
        "assert len(t2_y_pred) == len(filtered_devel_examples), 'Predictions must be of the same size than the input data'"
      ],
      "metadata": {
        "colab": {
          "base_uri": "https://localhost:8080/"
        },
        "id": "clOj4YRAdUTH",
        "outputId": "33ce9297-3ae5-4aa4-ae57-9a2d798cc770"
      },
      "execution_count": 107,
      "outputs": [
        {
          "output_type": "stream",
          "name": "stdout",
          "text": [
            "length of the dict should match 91 ?? 91\n",
            "91\n"
          ]
        }
      ]
    },
    {
      "cell_type": "code",
      "source": [
        "t2_precision, t2_recall, t2_fscore, _ = calculate_scores(y_true, t2_y_pred)\n",
        "\n",
        "\n",
        "print(f'Precision is {t2_precision:.3f}')\n",
        "print(f'Recall is {t2_recall:.3f}')\n",
        "print(f'F-Score is {t2_fscore:.3f}')"
      ],
      "metadata": {
        "colab": {
          "base_uri": "https://localhost:8080/"
        },
        "id": "rPddas_0dj5v",
        "outputId": "abe10b8f-a025-45f8-b617-7d1bee8b684b"
      },
      "execution_count": 108,
      "outputs": [
        {
          "output_type": "stream",
          "name": "stdout",
          "text": [
            "Precision is 0.493\n",
            "Recall is 0.804\n",
            "F-Score is 0.612\n"
          ]
        }
      ]
    },
    {
      "cell_type": "code",
      "source": [
        "\n",
        "x = [\"zero-shot\", \"few-shot\"]\n",
        "prec = [t1_precision, t2_precision]\n",
        "rec = [t1_recall, t2_recall]\n",
        "fs = [t1_fscore, t2_fscore]\n",
        "\n",
        "plot_it(x,prec,rec,fs)"
      ],
      "metadata": {
        "colab": {
          "base_uri": "https://localhost:8080/",
          "height": 513
        },
        "id": "Z8Aa3AbYjU_5",
        "outputId": "4e5c2043-743d-4eeb-82dc-2ea7c555eb00"
      },
      "execution_count": 109,
      "outputs": [
        {
          "output_type": "display_data",
          "data": {
            "text/plain": [
              "<Figure size 640x480 with 1 Axes>"
            ],
            "image/png": "[encoded data removed]"
          },
          "metadata": {}
        }
      ]
    },
    {
      "cell_type": "markdown",
      "source": [
        "How the results have changed?\n",
        "\n",
        "* All performance parameters went up a bit, i think mainly due to the fact that two examples were given"
      ],
      "metadata": {
        "id": "NlDh1QTbNu57"
      }
    },
    {
      "cell_type": "markdown",
      "source": [
        "## TASK 3"
      ],
      "metadata": {
        "id": "-9ix3YCbKWJk"
      }
    },
    {
      "cell_type": "markdown",
      "source": [
        "### 3.1\n",
        "\n",
        " Now randomly select 4 examples from the training set (you can take 2 positives, 2 negatives, or really sample randomly) and include them in your prompt, repeat the experiment, report precision, recall, and f1-score. How the results have changed?\n"
      ],
      "metadata": {
        "id": "BnjDDV6hfqpO"
      }
    },
    {
      "cell_type": "code",
      "source": [
        "# the training examples live in \"train_examples\"\n",
        "t3_1_examples = [] # list for examples\n",
        "indices_used = []\n",
        "\n",
        "positives = 0 # counters\n",
        "negatives = 0\n",
        "\n",
        "while positives < 2 or negatives < 2: # loop while we have 2 and 2\n",
        "  rand = np.random.randint(0, len(train_examples)) # generate random integer\n",
        "\n",
        "  if rand not in indices_used:\n",
        "    if train_examples[rand]['label'] == 'Positive' and positives < 2: # check if its label is positive and we don't have 2 positives\n",
        "      positives += 1\n",
        "      t3_1_examples.append(train_examples[rand])\n",
        "    elif train_examples[rand]['label'] == 'Negative' and negatives < 2: # or check if its label is negative and we don't have 2 negatives\n",
        "      negatives += 1\n",
        "      t3_1_examples.append(train_examples[rand])\n",
        "    indices_used.append(rand) # collect the used index"
      ],
      "metadata": {
        "id": "kQLl2l1egTdl"
      },
      "execution_count": 142,
      "outputs": []
    },
    {
      "cell_type": "code",
      "source": [
        "for e in t3_1_examples:\n",
        "  print(e)"
      ],
      "metadata": {
        "colab": {
          "base_uri": "https://localhost:8080/"
        },
        "id": "BS_HeeGvlkuu",
        "outputId": "f705b8d7-06cd-48c2-ce57-1789706f4119"
      },
      "execution_count": 143,
      "outputs": [
        {
          "output_type": "stream",
          "name": "stdout",
          "text": [
            "{'UID': 'UID_4076', 'doc_id': 'BB-rel-F-23224222-003', 'e1': 'T27', 'e2': 'T21', 'text': 'The cheeses \\nfrom dairies A and C were primarily dominated by the LAB starter \\ncultures Leuconostoc mesenteroides and Lactococcus lactis subsp. lactis (Table 3). Furthermore, the cheeses from dairies A and C were dominated by the non-starter lactic acid bacteria (NSLAB) Lactobacillus paracasei, and for the cheese from dairy A, a minor group consisting of the NSLAB Lb. parabuchneri\\n was found. The interior bacterial isolates from the cheeses from \\ndairies B and D were primarily dominated by NSLAB. The cheese from dairy\\n B was dominated by a range of NSLAB including Lb. brevis, Lb. oligofermentans and Lb. farminis, whereas the cheese from dairy D was exclusively dominated by the NSLAB Lb. paracasei. Additionally, minor groups of the LAB starter cultures Lc. lactis subsp. lactis and Lc. lactis subsp. cremoris were found on the cheeses from dairies B and D, respectively.\\n', 'marked_text': 'The cheeses \\nfrom dairies A and C were primarily dominated by the LAB starter \\ncultures Leuconostoc mesenteroides and Lactococcus lactis subsp. lactis (Table 3). Furthermore, the cheeses from dairies A and C were dominated by the non-starter lactic acid bacteria (NSLAB) Lactobacillus paracasei, and for the cheese from dairy A, a minor group consisting of the NSLAB Lb. parabuchneri\\n was found. The interior bacterial isolates from the cheeses from \\n<Habitat>dairies</Habitat> B and D were primarily dominated by NSLAB. The cheese from dairy\\n B was dominated by a range of NSLAB including Lb. brevis, <Microorganism>Lb. oligofermentans</Microorganism> and Lb. farminis, whereas the cheese from dairy D was exclusively dominated by the NSLAB Lb. paracasei. Additionally, minor groups of the LAB starter cultures Lc. lactis subsp. lactis and Lc. lactis subsp. cremoris were found on the cheeses from dairies B and D, respectively.\\n', 'label': 'Negative'}\n",
            "{'UID': 'UID_7555', 'doc_id': 'BB-rel-8532424', 'e1': 'T34', 'e2': 'T32', 'text': 'Respiratory carriage of Kingella kingae among healthy children.\\nThe role of Kingella kingae as an invasive pathogen of young children is being increasingly recognized, but the niche of the organism in the respiratory tract and its prevalence in the normal flora of children remain unknown. To investigate these two aspects throat and nasopharyngeal cultures were obtained every 2 weeks from two cohorts of children, ages 6 to 42 months on enrollment, attending a day-care center in southern Israel. To determine the age-related prevalence of K. kingae, throat cultures were obtained from children ages 6 months to 14 years hospitalized for elective surgery who had not received antibiotics during the previous 30 days and from healthy infants younger than 6 months attending a well-baby-care clinic for routine vaccinations. During an 11-month follow-up 109 of 624 (27.5%) throat cultures but none of the nasopharyngeal cultures obtained from 48 day-care center attendees grew K. kingae. The monthly prevalence of K. kingae ranged from 6.1 to 34.6% with December and April peaks. Overall 35 of 48 (72.9%) children had at least one positive culture for the organism. Among the 27 children who had > or = 2 positive cultures, continuous and intermittent patterns of carriage were observed. None of the colonized children experienced an invasive K. kingae infection. The prevalence of pharyngeal carriage among surgical patients was 8.0%, and the organism was not isolated from any of the infants younger than 6 months attending the well-baby-care clinic.\\n\\n', 'marked_text': 'Respiratory carriage of Kingella kingae among healthy children.\\nThe role of Kingella kingae as an invasive pathogen of young children is being increasingly recognized, but the niche of the organism in the respiratory tract and its prevalence in the normal flora of children remain unknown. To investigate these two aspects throat and nasopharyngeal cultures were obtained every 2 weeks from two cohorts of children, ages 6 to 42 months on enrollment, attending a day-care center in southern Israel. To determine the age-related prevalence of K. kingae, throat cultures were obtained from children ages 6 months to 14 years hospitalized for elective surgery who had not received antibiotics during the previous 30 days and from healthy infants younger than 6 months attending a well-baby-care clinic for routine vaccinations. During an 11-month follow-up 109 of 624 (27.5%) throat cultures but none of the nasopharyngeal cultures obtained from 48 <Habitat>day-care center</Habitat> attendees grew K. kingae. The monthly prevalence of <Microorganism>K. kingae</Microorganism> ranged from 6.1 to 34.6% with December and April peaks. Overall 35 of 48 (72.9%) children had at least one positive culture for the organism. Among the 27 children who had > or = 2 positive cultures, continuous and intermittent patterns of carriage were observed. None of the colonized children experienced an invasive K. kingae infection. The prevalence of pharyngeal carriage among surgical patients was 8.0%, and the organism was not isolated from any of the infants younger than 6 months attending the well-baby-care clinic.\\n\\n', 'label': 'Negative'}\n",
            "{'UID': 'UID_6859', 'doc_id': 'BB-rel-F-23224222-004', 'e1': 'T58', 'e2': 'T56', 'text': 'Most species were Gram-positive Actinobacteria with Corynebacterium casei and/or C. variabile as the predominant (Table 4). Additionally, the cheese from dairy A was dominated by high of numbers of Brachybacterium alimentarum. Various Brevibacterium species were found on the cheeses from the farmhouses (dairies A, B and C). B. permense was found on the cheese from dairy A, B. linens was found on the cheese from dairy B and B. aurantiacum was found on the cheese from dairy C. Brevibacterium\\n spp. could not be isolated on the cheese from dairy D. Furthermore, a \\nnumber of coagulase negative staphylococci were found, i.e., Staphylococcus saprophyticus on the cheeses from dairies B and D, and Staph. equorum on the cheeses from dairies C and D. Finally, a number of Gram-negative bacteria species including Proteus vulgaris and Alcaligenes faecalis was found on the cheese from dairy C.Figure 3\\n shows the grouping of the surface yeast microbiota. The yeast surface \\nmicrobiota on the three farmhouse cheeses consisted of two to four \\ngroups, whereas the cheese produced at the industrial dairy (dairy D) \\nconsisted of only one single group. The cheese from dairy A was equally \\ndominated by Yarrowia lipolytica and Scopulariopsis brevicaulis. The yeast microbiota on cheese from dairy B was primarily dominated by Geotrichum spp., however, Kluyveromyces marxianus and Debaryomyces hansenii were additionally found in minor amounts. The cheese from dairy C was dominated by D. hansenii followed by a minor group of Geothrichum spp. Finally, the cheese from dairy D was entirely dominated by D. hansenii.\\n', 'marked_text': 'Most species were Gram-positive Actinobacteria with Corynebacterium casei and/or C. variabile as the predominant (Table 4). Additionally, the cheese from dairy A was dominated by high of numbers of Brachybacterium alimentarum. Various Brevibacterium species were found on the cheeses from the farmhouses (dairies A, B and C). B. permense was found on the cheese from dairy A, B. linens was found on the cheese from dairy B and B. aurantiacum was found on the cheese from dairy C. Brevibacterium\\n spp. could not be isolated on the cheese from dairy D. Furthermore, a \\nnumber of coagulase negative staphylococci were found, i.e., Staphylococcus saprophyticus on the cheeses from dairies B and D, and Staph. equorum on the cheeses from dairies C and D. Finally, a number of Gram-negative bacteria species including Proteus vulgaris and Alcaligenes faecalis was found on the cheese from dairy C.Figure 3\\n shows the grouping of the surface yeast microbiota. The yeast surface \\nmicrobiota on the three farmhouse cheeses consisted of two to four \\ngroups, whereas the cheese produced at the industrial dairy (dairy D) \\nconsisted of only one single group. The cheese from dairy A was equally \\ndominated by Yarrowia lipolytica and Scopulariopsis brevicaulis. The yeast microbiota on cheese from dairy B was primarily dominated by Geotrichum spp., however, Kluyveromyces marxianus and Debaryomyces hansenii were additionally found in minor amounts. The <Habitat>cheese from dairy C</Habitat> was dominated by <Microorganism>D. hansenii</Microorganism> followed by a minor group of Geothrichum spp. Finally, the cheese from dairy D was entirely dominated by D. hansenii.\\n', 'label': 'Positive'}\n",
            "{'UID': 'UID_8207', 'doc_id': 'BB-rel-8358765', 'e1': 'T26', 'e2': 'T27', 'text': \"[The effect of omeprazole on healing of duodenal ulcers, Helicobacter pylori and gastritis].\\nLosec (omeprazole) Astra Co. is a blocker of the proton pump of the parietal cell. It inhibits basal and stimulated HCl secretion. It is used for treatment of gastroduodenal ulcers, reflux oesophagitis and Zollinger Ellison's syndrome. In a group of 17 patients with duodenal ulcers the authors investigated the effect of omeprazole on (1) healing of duodenal ulcers and bulbitis after 2-4 weeks of therapy, (2) elimination of Helicobacter pylori in the antrum, (3) chronic antral gastritis. Ad 1. After two weeks of treatment the authors found that 5 of 17 chronic duodenal ulcers were healed in the remainder substantial regression was found. Four-week treatment led to healing of 16 from a total of 17 ulcers (P < 0.001), i. e. 94%. In subjects with ulcers and bulbitis (12 patients) the ulcer healed in 11 instances, in 7 patients residual bulbitis persisted. Ad 2. H. pylori was detected before treatment in 16 of 17 patients, after treatment only in 5 (P < 0.001). Ad 3. Chronic gastritis was recorded before treatment in all patients. Treatment reduced its activity and the presence of H. pylori.\\n\\n\", 'marked_text': \"[The effect of omeprazole on healing of duodenal ulcers, Helicobacter pylori and gastritis].\\nLosec (omeprazole) Astra Co. is a blocker of the proton pump of the parietal cell. It inhibits basal and stimulated HCl secretion. It is used for treatment of gastroduodenal ulcers, reflux oesophagitis and Zollinger Ellison's syndrome. In a group of 17 patients with duodenal ulcers the authors investigated the effect of omeprazole on (1) healing of duodenal ulcers and bulbitis after 2-4 weeks of therapy, (2) elimination of Helicobacter pylori in the antrum, (3) chronic antral gastritis. Ad 1. After two weeks of treatment the authors found that 5 of 17 chronic duodenal ulcers were healed in the remainder substantial regression was found. Four-week treatment led to healing of 16 from a total of 17 ulcers (P < 0.001), i. e. 94%. In subjects with ulcers and bulbitis (12 patients) the ulcer healed in 11 instances, in 7 patients residual bulbitis persisted. Ad 2. <Microorganism>H. pylori</Microorganism> was detected before treatment in 16 of 17 <Habitat>patients</Habitat>, after treatment only in 5 (P < 0.001). Ad 3. Chronic gastritis was recorded before treatment in all patients. Treatment reduced its activity and the presence of H. pylori.\\n\\n\", 'label': 'Positive'}\n"
          ]
        }
      ]
    },
    {
      "cell_type": "code",
      "source": [
        "task_3_1_prompt = \"\"\"\n",
        "    In the following sentences, check if the mentioned microrganism (e.g. bacteria), lives in the mentioned habitat/geographical entity or not.\n",
        "    For each input sentence, you need to check if the mentioned <Microorganism>, lives in the mentioned <Habitat> (or <Geographical>, or not.\"\n",
        "\n",
        "    I give you four examples starting below, use these four for only take example from. The examples end at the \"END OF EXAMPLES\" text\\n\\n\n",
        "    \"\"\"\n",
        "i = 1\n",
        "for j in t3_1_examples: # add 4 examples\n",
        "    task_3_1_prompt += f\"EXAMPLE {i}\\n\"\n",
        "    task_3_1_prompt += f\"UID: {j['UID']} Text = {j['text']} --> {{'UID':{j['UID']}, label = {j['label']}}}\\n\\n\"\n",
        "    i += 1\n",
        "\n",
        "task_3_1_prompt += \"END OF EXAMPLES\\n\\n\""
      ],
      "metadata": {
        "id": "JpR_Rwi7ViyI"
      },
      "execution_count": 144,
      "outputs": []
    },
    {
      "cell_type": "code",
      "source": [
        "# check the user prompt\n",
        "print(task_3_1_prompt)"
      ],
      "metadata": {
        "colab": {
          "base_uri": "https://localhost:8080/"
        },
        "id": "X_PQug48VyON",
        "outputId": "15ab9b68-3b37-40e0-e850-06f048314362"
      },
      "execution_count": 145,
      "outputs": [
        {
          "output_type": "stream",
          "name": "stdout",
          "text": [
            "\n",
            "    In the following sentences, check if the mentioned microrganism (e.g. bacteria), lives in the mentioned habitat/geographical entity or not.\n",
            "    For each input sentence, you need to check if the mentioned <Microorganism>, lives in the mentioned <Habitat> (or <Geographical>, or not.\"\n",
            "\n",
            "    I give you four examples starting below, use these four for only take example from. The examples end at the \"END OF EXAMPLES\" text\n",
            "\n",
            "\n",
            "    EXAMPLE 1\n",
            "UID: UID_4076 Text = The cheeses \n",
            "from dairies A and C were primarily dominated by the LAB starter \n",
            "cultures Leuconostoc mesenteroides and Lactococcus lactis subsp. lactis (Table 3). Furthermore, the cheeses from dairies A and C were dominated by the non-starter lactic acid bacteria (NSLAB) Lactobacillus paracasei, and for the cheese from dairy A, a minor group consisting of the NSLAB Lb. parabuchneri\n",
            " was found. The interior bacterial isolates from the cheeses from \n",
            "dairies B and D were primarily dominated by NSLAB. The cheese from dairy\n",
            " B was dominated by a range of NSLAB including Lb. brevis, Lb. oligofermentans and Lb. farminis, whereas the cheese from dairy D was exclusively dominated by the NSLAB Lb. paracasei. Additionally, minor groups of the LAB starter cultures Lc. lactis subsp. lactis and Lc. lactis subsp. cremoris were found on the cheeses from dairies B and D, respectively.\n",
            " --> {'UID':UID_4076, label = Negative}\n",
            "\n",
            "EXAMPLE 2\n",
            "UID: UID_7555 Text = Respiratory carriage of Kingella kingae among healthy children.\n",
            "The role of Kingella kingae as an invasive pathogen of young children is being increasingly recognized, but the niche of the organism in the respiratory tract and its prevalence in the normal flora of children remain unknown. To investigate these two aspects throat and nasopharyngeal cultures were obtained every 2 weeks from two cohorts of children, ages 6 to 42 months on enrollment, attending a day-care center in southern Israel. To determine the age-related prevalence of K. kingae, throat cultures were obtained from children ages 6 months to 14 years hospitalized for elective surgery who had not received antibiotics during the previous 30 days and from healthy infants younger than 6 months attending a well-baby-care clinic for routine vaccinations. During an 11-month follow-up 109 of 624 (27.5%) throat cultures but none of the nasopharyngeal cultures obtained from 48 day-care center attendees grew K. kingae. The monthly prevalence of K. kingae ranged from 6.1 to 34.6% with December and April peaks. Overall 35 of 48 (72.9%) children had at least one positive culture for the organism. Among the 27 children who had > or = 2 positive cultures, continuous and intermittent patterns of carriage were observed. None of the colonized children experienced an invasive K. kingae infection. The prevalence of pharyngeal carriage among surgical patients was 8.0%, and the organism was not isolated from any of the infants younger than 6 months attending the well-baby-care clinic.\n",
            "\n",
            " --> {'UID':UID_7555, label = Negative}\n",
            "\n",
            "EXAMPLE 3\n",
            "UID: UID_6859 Text = Most species were Gram-positive Actinobacteria with Corynebacterium casei and/or C. variabile as the predominant (Table 4). Additionally, the cheese from dairy A was dominated by high of numbers of Brachybacterium alimentarum. Various Brevibacterium species were found on the cheeses from the farmhouses (dairies A, B and C). B. permense was found on the cheese from dairy A, B. linens was found on the cheese from dairy B and B. aurantiacum was found on the cheese from dairy C. Brevibacterium\n",
            " spp. could not be isolated on the cheese from dairy D. Furthermore, a \n",
            "number of coagulase negative staphylococci were found, i.e., Staphylococcus saprophyticus on the cheeses from dairies B and D, and Staph. equorum on the cheeses from dairies C and D. Finally, a number of Gram-negative bacteria species including Proteus vulgaris and Alcaligenes faecalis was found on the cheese from dairy C.Figure 3\n",
            " shows the grouping of the surface yeast microbiota. The yeast surface \n",
            "microbiota on the three farmhouse cheeses consisted of two to four \n",
            "groups, whereas the cheese produced at the industrial dairy (dairy D) \n",
            "consisted of only one single group. The cheese from dairy A was equally \n",
            "dominated by Yarrowia lipolytica and Scopulariopsis brevicaulis. The yeast microbiota on cheese from dairy B was primarily dominated by Geotrichum spp., however, Kluyveromyces marxianus and Debaryomyces hansenii were additionally found in minor amounts. The cheese from dairy C was dominated by D. hansenii followed by a minor group of Geothrichum spp. Finally, the cheese from dairy D was entirely dominated by D. hansenii.\n",
            " --> {'UID':UID_6859, label = Positive}\n",
            "\n",
            "EXAMPLE 4\n",
            "UID: UID_8207 Text = [The effect of omeprazole on healing of duodenal ulcers, Helicobacter pylori and gastritis].\n",
            "Losec (omeprazole) Astra Co. is a blocker of the proton pump of the parietal cell. It inhibits basal and stimulated HCl secretion. It is used for treatment of gastroduodenal ulcers, reflux oesophagitis and Zollinger Ellison's syndrome. In a group of 17 patients with duodenal ulcers the authors investigated the effect of omeprazole on (1) healing of duodenal ulcers and bulbitis after 2-4 weeks of therapy, (2) elimination of Helicobacter pylori in the antrum, (3) chronic antral gastritis. Ad 1. After two weeks of treatment the authors found that 5 of 17 chronic duodenal ulcers were healed in the remainder substantial regression was found. Four-week treatment led to healing of 16 from a total of 17 ulcers (P < 0.001), i. e. 94%. In subjects with ulcers and bulbitis (12 patients) the ulcer healed in 11 instances, in 7 patients residual bulbitis persisted. Ad 2. H. pylori was detected before treatment in 16 of 17 patients, after treatment only in 5 (P < 0.001). Ad 3. Chronic gastritis was recorded before treatment in all patients. Treatment reduced its activity and the presence of H. pylori.\n",
            "\n",
            " --> {'UID':UID_8207, label = Positive}\n",
            "\n",
            "END OF EXAMPLES\n",
            "\n",
            "\n"
          ]
        }
      ]
    },
    {
      "cell_type": "code",
      "source": [
        "restriction = 5 # You must use a for loop that packs 5 examples in at-a-time (in each iteration of the for loop)\n",
        "T_3_1_REPLIES_FROM_GPT = [] # stores all replies\n",
        "\n",
        "for i in range(0, len(filtered_devel_examples), restriction):\n",
        "  user_prompt = task_3_1_prompt\n",
        "  for j in range(restriction): # try to add 5 examples\n",
        "      if i + j < len(filtered_devel_examples): # if were not going over the index bounds with i + j values\n",
        "          curr = filtered_devel_examples[i+j]\n",
        "          user_prompt += f\"UID: {curr['UID']}  Text = {curr['text']}\\n\" # only then  concat to the user_prompt\n",
        "  if i == 0:\n",
        "    print(user_prompt)\n",
        "  T_3_1_REPLIES_FROM_GPT.append(get_predictions_from_GPT(user_prompt)) # call GPT with the 5 or less examples at the time\n"
      ],
      "metadata": {
        "colab": {
          "base_uri": "https://localhost:8080/"
        },
        "id": "N6Kt_PdYVbVg",
        "outputId": "bbc2ab1b-f1d4-44b1-bf32-f0777db8e004"
      },
      "execution_count": 146,
      "outputs": [
        {
          "output_type": "stream",
          "name": "stdout",
          "text": [
            "\n",
            "    In the following sentences, check if the mentioned microrganism (e.g. bacteria), lives in the mentioned habitat/geographical entity or not.\n",
            "    For each input sentence, you need to check if the mentioned <Microorganism>, lives in the mentioned <Habitat> (or <Geographical>, or not.\"\n",
            "\n",
            "    I give you four examples starting below, use these four for only take example from. The examples end at the \"END OF EXAMPLES\" text\n",
            "\n",
            "\n",
            "    EXAMPLE 1\n",
            "UID: UID_4076 Text = The cheeses \n",
            "from dairies A and C were primarily dominated by the LAB starter \n",
            "cultures Leuconostoc mesenteroides and Lactococcus lactis subsp. lactis (Table 3). Furthermore, the cheeses from dairies A and C were dominated by the non-starter lactic acid bacteria (NSLAB) Lactobacillus paracasei, and for the cheese from dairy A, a minor group consisting of the NSLAB Lb. parabuchneri\n",
            " was found. The interior bacterial isolates from the cheeses from \n",
            "dairies B and D were primarily dominated by NSLAB. The cheese from dairy\n",
            " B was dominated by a range of NSLAB including Lb. brevis, Lb. oligofermentans and Lb. farminis, whereas the cheese from dairy D was exclusively dominated by the NSLAB Lb. paracasei. Additionally, minor groups of the LAB starter cultures Lc. lactis subsp. lactis and Lc. lactis subsp. cremoris were found on the cheeses from dairies B and D, respectively.\n",
            " --> {'UID':UID_4076, label = Negative}\n",
            "\n",
            "EXAMPLE 2\n",
            "UID: UID_7555 Text = Respiratory carriage of Kingella kingae among healthy children.\n",
            "The role of Kingella kingae as an invasive pathogen of young children is being increasingly recognized, but the niche of the organism in the respiratory tract and its prevalence in the normal flora of children remain unknown. To investigate these two aspects throat and nasopharyngeal cultures were obtained every 2 weeks from two cohorts of children, ages 6 to 42 months on enrollment, attending a day-care center in southern Israel. To determine the age-related prevalence of K. kingae, throat cultures were obtained from children ages 6 months to 14 years hospitalized for elective surgery who had not received antibiotics during the previous 30 days and from healthy infants younger than 6 months attending a well-baby-care clinic for routine vaccinations. During an 11-month follow-up 109 of 624 (27.5%) throat cultures but none of the nasopharyngeal cultures obtained from 48 day-care center attendees grew K. kingae. The monthly prevalence of K. kingae ranged from 6.1 to 34.6% with December and April peaks. Overall 35 of 48 (72.9%) children had at least one positive culture for the organism. Among the 27 children who had > or = 2 positive cultures, continuous and intermittent patterns of carriage were observed. None of the colonized children experienced an invasive K. kingae infection. The prevalence of pharyngeal carriage among surgical patients was 8.0%, and the organism was not isolated from any of the infants younger than 6 months attending the well-baby-care clinic.\n",
            "\n",
            " --> {'UID':UID_7555, label = Negative}\n",
            "\n",
            "EXAMPLE 3\n",
            "UID: UID_6859 Text = Most species were Gram-positive Actinobacteria with Corynebacterium casei and/or C. variabile as the predominant (Table 4). Additionally, the cheese from dairy A was dominated by high of numbers of Brachybacterium alimentarum. Various Brevibacterium species were found on the cheeses from the farmhouses (dairies A, B and C). B. permense was found on the cheese from dairy A, B. linens was found on the cheese from dairy B and B. aurantiacum was found on the cheese from dairy C. Brevibacterium\n",
            " spp. could not be isolated on the cheese from dairy D. Furthermore, a \n",
            "number of coagulase negative staphylococci were found, i.e., Staphylococcus saprophyticus on the cheeses from dairies B and D, and Staph. equorum on the cheeses from dairies C and D. Finally, a number of Gram-negative bacteria species including Proteus vulgaris and Alcaligenes faecalis was found on the cheese from dairy C.Figure 3\n",
            " shows the grouping of the surface yeast microbiota. The yeast surface \n",
            "microbiota on the three farmhouse cheeses consisted of two to four \n",
            "groups, whereas the cheese produced at the industrial dairy (dairy D) \n",
            "consisted of only one single group. The cheese from dairy A was equally \n",
            "dominated by Yarrowia lipolytica and Scopulariopsis brevicaulis. The yeast microbiota on cheese from dairy B was primarily dominated by Geotrichum spp., however, Kluyveromyces marxianus and Debaryomyces hansenii were additionally found in minor amounts. The cheese from dairy C was dominated by D. hansenii followed by a minor group of Geothrichum spp. Finally, the cheese from dairy D was entirely dominated by D. hansenii.\n",
            " --> {'UID':UID_6859, label = Positive}\n",
            "\n",
            "EXAMPLE 4\n",
            "UID: UID_8207 Text = [The effect of omeprazole on healing of duodenal ulcers, Helicobacter pylori and gastritis].\n",
            "Losec (omeprazole) Astra Co. is a blocker of the proton pump of the parietal cell. It inhibits basal and stimulated HCl secretion. It is used for treatment of gastroduodenal ulcers, reflux oesophagitis and Zollinger Ellison's syndrome. In a group of 17 patients with duodenal ulcers the authors investigated the effect of omeprazole on (1) healing of duodenal ulcers and bulbitis after 2-4 weeks of therapy, (2) elimination of Helicobacter pylori in the antrum, (3) chronic antral gastritis. Ad 1. After two weeks of treatment the authors found that 5 of 17 chronic duodenal ulcers were healed in the remainder substantial regression was found. Four-week treatment led to healing of 16 from a total of 17 ulcers (P < 0.001), i. e. 94%. In subjects with ulcers and bulbitis (12 patients) the ulcer healed in 11 instances, in 7 patients residual bulbitis persisted. Ad 2. H. pylori was detected before treatment in 16 of 17 patients, after treatment only in 5 (P < 0.001). Ad 3. Chronic gastritis was recorded before treatment in all patients. Treatment reduced its activity and the presence of H. pylori.\n",
            "\n",
            " --> {'UID':UID_8207, label = Positive}\n",
            "\n",
            "END OF EXAMPLES\n",
            "\n",
            "UID: UID_0  Text = B. linens\n",
            " was only isolated from the Casera, Gorgonzola and Scimudin cheese \n",
            "surfaces, confirming the more recent information that this species is \n",
            "not the most important bacterium on smear cheeses.\n",
            "\n",
            "UID: UID_1  Text = B. linens\n",
            " was only isolated from the Casera, Gorgonzola and Scimudin cheese \n",
            "surfaces, confirming the more recent information that this species is \n",
            "not the most important bacterium on smear cheeses.\n",
            "\n",
            "UID: UID_2  Text = B. linens\n",
            " was only isolated from the Casera, Gorgonzola and Scimudin cheese \n",
            "surfaces, confirming the more recent information that this species is \n",
            "not the most important bacterium on smear cheeses.\n",
            "\n",
            "UID: UID_3  Text = B. linens\n",
            " was only isolated from the Casera, Gorgonzola and Scimudin cheese \n",
            "surfaces, confirming the more recent information that this species is \n",
            "not the most important bacterium on smear cheeses.\n",
            "\n",
            "UID: UID_4  Text = B. linens\n",
            " was only isolated from the Casera, Gorgonzola and Scimudin cheese \n",
            "surfaces, confirming the more recent information that this species is \n",
            "not the most important bacterium on smear cheeses.\n",
            "\n",
            "\n"
          ]
        }
      ]
    },
    {
      "cell_type": "code",
      "source": [
        "# collect the dict\n",
        "T_3_1_DICT_OF_REPLIES = generate_dict(T_3_1_REPLIES_FROM_GPT)\n",
        "# should match the length, the assert will check that\n",
        "print(f'length of the dict should match {len(filtered_devel_examples)} ?? {len(T_3_1_DICT_OF_REPLIES)}')\n",
        "assert len(T_3_1_DICT_OF_REPLIES) == len(filtered_devel_examples), 'Predicted text must be of the same size than the input data'\n",
        "# take the predictions to a list\n",
        "t3_1_y_pred = [y_pred for y_pred in T_3_1_DICT_OF_REPLIES.values()]\n",
        "# again the assert will check that\n",
        "print(len(t3_1_y_pred))\n",
        "assert len(t3_1_y_pred) == len(filtered_devel_examples), 'Predictions must be of the same size than the input data'"
      ],
      "metadata": {
        "colab": {
          "base_uri": "https://localhost:8080/"
        },
        "id": "JnUcEwx9XSIo",
        "outputId": "f309e633-8109-459e-f8a3-a3ebf6e505bf"
      },
      "execution_count": 147,
      "outputs": [
        {
          "output_type": "stream",
          "name": "stdout",
          "text": [
            "length of the dict should match 91 ?? 91\n",
            "91\n"
          ]
        }
      ]
    },
    {
      "cell_type": "code",
      "source": [
        "# calculate pr, re, fs and support that is got from custom helper function\n",
        "t3_1_precision, t3_1_recall, t3_1_fscore, _ = calculate_scores(y_true, t3_1_y_pred)\n",
        "\n",
        "print(f'Precision is {t3_1_precision:.3f}')\n",
        "print(f'Recall is {t3_1_recall:.3f}')\n",
        "print(f'F-Score is {t3_1_fscore:.3f}')"
      ],
      "metadata": {
        "colab": {
          "base_uri": "https://localhost:8080/"
        },
        "id": "8u7HUihGYg9t",
        "outputId": "f5c27a38-69f5-4f0b-cb1a-a8ff8e1332f1"
      },
      "execution_count": 148,
      "outputs": [
        {
          "output_type": "stream",
          "name": "stdout",
          "text": [
            "Precision is 0.524\n",
            "Recall is 0.478\n",
            "F-Score is 0.500\n"
          ]
        }
      ]
    },
    {
      "cell_type": "code",
      "source": [
        "# just for plots\n",
        "x = [\"Task 1:zero-shot\", \"Task 2:few-shot\", \"Task 3.1: few from train\"]\n",
        "prec = [t1_precision, t2_precision, t3_1_precision]\n",
        "rec = [t1_recall, t2_recall, t3_1_recall]\n",
        "fs = [t1_fscore, t2_fscore, t3_1_fscore]\n",
        "\n",
        "plot_it(x,prec,rec,fs)"
      ],
      "metadata": {
        "colab": {
          "base_uri": "https://localhost:8080/",
          "height": 584
        },
        "id": "040B_sVoYqEr",
        "outputId": "be97523c-9be4-406b-b8ac-98322aa3ba41"
      },
      "execution_count": 149,
      "outputs": [
        {
          "output_type": "display_data",
          "data": {
            "text/plain": [
              "<Figure size 640x480 with 1 Axes>"
            ],
            "image/png": "[encoded data removed]"
          },
          "metadata": {}
        }
      ]
    },
    {
      "cell_type": "markdown",
      "source": [
        "How the results have changed?\n",
        "\n",
        "* as can be seen from the plot, the recall is tanking from 0.8 to ~0.45. So the GPT model failed to predict _tp_ values as such. And as the f1 is based on pr and re values, the decline in re drags the f1 also down"
      ],
      "metadata": {
        "id": "mBaHiF01WRGv"
      }
    },
    {
      "cell_type": "markdown",
      "source": [
        "### TASK 3.2\n",
        "\n",
        "Repeat above experiment: Again, randomly sample 4 training examples and use them instead of the 4 previous examples. Have the results changed? Why?"
      ],
      "metadata": {
        "id": "ndYMlIz6ZEKZ"
      }
    },
    {
      "cell_type": "code",
      "source": [
        "# the training examples live in \"train_examples\"\n",
        "t3_2_examples = [] # list for examples\n",
        "\n",
        "positives = 0 # counters\n",
        "negatives = 0\n",
        "\n",
        "while positives < 2 or negatives < 2: # loop while we have 2 and 2\n",
        "  rand = np.random.randint(0, len(train_examples)) # generate random integer\n",
        "\n",
        "  if rand not in indices_used:\n",
        "    if train_examples[rand]['label'] == 'Positive' and positives < 2: # check if its label is positive and we don't have 2 positives\n",
        "      positives += 1\n",
        "      t3_2_examples.append(train_examples[rand])\n",
        "    elif train_examples[rand]['label'] == 'Negative' and negatives < 2: # or check if its label is negative and we don't have 2 negatives\n",
        "      negatives += 1\n",
        "      t3_2_examples.append(train_examples[rand])\n",
        "    indices_used.append(rand) # ensure we dont use the same index, slim chance but still\n"
      ],
      "metadata": {
        "id": "OlMtZFoamYZw"
      },
      "execution_count": 150,
      "outputs": []
    },
    {
      "cell_type": "code",
      "source": [
        "for e in t3_2_examples:\n",
        "  print(e)"
      ],
      "metadata": {
        "colab": {
          "base_uri": "https://localhost:8080/"
        },
        "id": "qSjtMiAkmhhN",
        "outputId": "325f40bf-85c2-4a94-d78d-35a89c63578d"
      },
      "execution_count": 151,
      "outputs": [
        {
          "output_type": "stream",
          "name": "stdout",
          "text": [
            "{'UID': 'UID_3345', 'doc_id': 'BB-rel-6107735', 'e1': 'T19', 'e2': 'T18', 'text': 'Recurrence of Pelecypod-associated cholera in Sardinia.\\nFrom Oct. 30 to Nov. 7, 1979, 10 people in the Sardinian province of Cagliari had onset of bacteriologically confirmed cholera. Two symptom-free excretors of Vibrio cholerae O:1 were detected in household contacts of the patients. There were no deaths. All but 1 of the 12 people with V. cholerae O:1 infection gave a history of recent consumption of marine bivalves known locally as arselle (pelecypods). Triplicate matched neighbourhood controls for each of the first 7 cases identified were also interviewed; none had recently eaten arselle. V. cholerae O:1 was also recovered from samples of water and bivalves obtained from a lagoon on the outskirts of the city of Cagliari. Arselle had also been implicated as the vehicle of transmission in 1973 in the last outbreak of cholera in Sardinia. It seems unlikely that cholera transmission had persisted locally in the interim.\\n\\n', 'marked_text': 'Recurrence of Pelecypod-associated cholera in Sardinia.\\nFrom Oct. 30 to Nov. 7, 1979, 10 people in the Sardinian province of Cagliari had onset of bacteriologically confirmed cholera. Two symptom-free excretors of Vibrio cholerae O:1 were detected in household contacts of the patients. There were no deaths. All but 1 of the 12 people with V. cholerae O:1 infection gave a history of recent consumption of marine bivalves known locally as arselle (pelecypods). Triplicate matched neighbourhood controls for each of the first 7 cases identified were also interviewed; none had recently eaten <Habitat>arselle</Habitat>. <Microorganism>V. cholerae O:1</Microorganism> was also recovered from samples of water and bivalves obtained from a lagoon on the outskirts of the city of Cagliari. Arselle had also been implicated as the vehicle of transmission in 1973 in the last outbreak of cholera in Sardinia. It seems unlikely that cholera transmission had persisted locally in the interim.\\n\\n', 'label': 'Negative'}\n",
            "{'UID': 'UID_6523', 'doc_id': 'BB-rel-F-23224222-004', 'e1': 'T26', 'e2': 'T50', 'text': 'Most species were Gram-positive Actinobacteria with Corynebacterium casei and/or C. variabile as the predominant (Table 4). Additionally, the cheese from dairy A was dominated by high of numbers of Brachybacterium alimentarum. Various Brevibacterium species were found on the cheeses from the farmhouses (dairies A, B and C). B. permense was found on the cheese from dairy A, B. linens was found on the cheese from dairy B and B. aurantiacum was found on the cheese from dairy C. Brevibacterium\\n spp. could not be isolated on the cheese from dairy D. Furthermore, a \\nnumber of coagulase negative staphylococci were found, i.e., Staphylococcus saprophyticus on the cheeses from dairies B and D, and Staph. equorum on the cheeses from dairies C and D. Finally, a number of Gram-negative bacteria species including Proteus vulgaris and Alcaligenes faecalis was found on the cheese from dairy C.Figure 3\\n shows the grouping of the surface yeast microbiota. The yeast surface \\nmicrobiota on the three farmhouse cheeses consisted of two to four \\ngroups, whereas the cheese produced at the industrial dairy (dairy D) \\nconsisted of only one single group. The cheese from dairy A was equally \\ndominated by Yarrowia lipolytica and Scopulariopsis brevicaulis. The yeast microbiota on cheese from dairy B was primarily dominated by Geotrichum spp., however, Kluyveromyces marxianus and Debaryomyces hansenii were additionally found in minor amounts. The cheese from dairy C was dominated by D. hansenii followed by a minor group of Geothrichum spp. Finally, the cheese from dairy D was entirely dominated by D. hansenii.\\n', 'marked_text': 'Most species were Gram-positive Actinobacteria with Corynebacterium casei and/or C. variabile as the predominant (Table 4). Additionally, the cheese from dairy A was dominated by high of numbers of Brachybacterium alimentarum. Various Brevibacterium species were found on the cheeses from the farmhouses (dairies A, B and C). B. permense was found on the cheese from dairy A, B. linens was found on the cheese from dairy B and B. aurantiacum was found on the cheese from dairy C. Brevibacterium\\n spp. could not be isolated on the cheese from dairy D. Furthermore, a \\nnumber of coagulase negative staphylococci were found, i.e., <Microorganism>Staphylococcus saprophyticus</Microorganism> on the cheeses from dairies B and D, and Staph. equorum on the cheeses from dairies C and D. Finally, a number of Gram-negative bacteria species including Proteus vulgaris and Alcaligenes faecalis was found on the cheese from dairy C.Figure 3\\n shows the grouping of the surface yeast microbiota. The yeast surface \\nmicrobiota on the three farmhouse cheeses consisted of two to four \\ngroups, whereas the cheese produced at the industrial dairy (dairy D) \\nconsisted of only one single group. The cheese from dairy A was equally \\ndominated by Yarrowia lipolytica and Scopulariopsis brevicaulis. The <Habitat>yeast microbiota</Habitat> on cheese from dairy B was primarily dominated by Geotrichum spp., however, Kluyveromyces marxianus and Debaryomyces hansenii were additionally found in minor amounts. The cheese from dairy C was dominated by D. hansenii followed by a minor group of Geothrichum spp. Finally, the cheese from dairy D was entirely dominated by D. hansenii.\\n', 'label': 'Negative'}\n",
            "{'UID': 'UID_3954', 'doc_id': 'BB-rel-F-25496341-000', 'e1': 'T5', 'e2': 'T7', 'text': 'Our\\n study provides data, which combined with publicly available genome \\nreferences, represents the most expansive catalog to date of \\ncheese-associated bacteria. Using this extended dairy catalog, we \\nrevealed the presence in traditional cheese of dominant microorganisms \\nnot deliberately inoculated, mainly Gram-negative genera such as Pseudoalteromonas haloplanktis or Psychrobacter immobilis, that may contribute to the characteristics of cheese produced through traditional methods.\\n', 'marked_text': 'Our\\n study provides data, which combined with publicly available genome \\nreferences, represents the most expansive catalog to date of \\ncheese-associated bacteria. Using this extended dairy catalog, we \\nrevealed the presence in traditional cheese of dominant microorganisms \\nnot deliberately inoculated, mainly Gram-negative genera such as <Microorganism>Pseudoalteromonas haloplanktis</Microorganism> or Psychrobacter immobilis, that may contribute to the characteristics of <Habitat>cheese produced through traditional methods</Habitat>.\\n', 'label': 'Positive'}\n",
            "{'UID': 'UID_2335', 'doc_id': 'BB-rel-19099664', 'e1': 'T21', 'e2': 'T15', 'text': '[Changes of pathogens and susceptibility to antibiotics in hematology ward from years 2001 to 2005].\\nThe purpose of this study was to determine the changes of pathogens in hematological ward and susceptibility of patients received chemotherapy to antibiotics. The pathogens were taken from blood, urine and sputum of patients who accepted chemotherapy from years 2001 to 2005, then were isolated and identified. The susceptibility test was performed by disk diffusion method. The results showed that the total of 418 strains were detected. Gram-negative bacteria were the most common of nosocomial infection. Pseudomonas aeruginosa, Enterobacter cloacae, E. coli account for the most of Gram negative- bacteria infection and most resistant to broad-spectrum penicillin, Acinetobacter baumannii showed a trend of increase. The ratios of gram positive bacteria and fungi were increased slowly, mainly as Enterococcus and Candida. Enterococcus is the most common cause of Gram-positive bacterial infection. Vancomycin resistance did not occur. It is concluded that Gram-negative bacteria are main cause of nosocomial infection in patients with hematological malignancies. Gram positive bacteria and fungi had been more frequent. Strains resistant to antimicrobial agents increase.\\n\\n', 'marked_text': '[Changes of pathogens and susceptibility to antibiotics in hematology ward from years 2001 to 2005].\\nThe purpose of this study was to determine the changes of pathogens in hematological ward and susceptibility of patients received chemotherapy to antibiotics. The pathogens were taken from blood, urine and sputum of patients who accepted chemotherapy from years 2001 to 2005, then were isolated and identified. The susceptibility test was performed by disk diffusion method. The results showed that the total of 418 strains were detected. Gram-negative bacteria were the most common of <Habitat>nosocomial</Habitat> infection. Pseudomonas aeruginosa, Enterobacter cloacae, E. coli account for the most of Gram negative- bacteria infection and most resistant to broad-spectrum penicillin, <Microorganism>Acinetobacter baumannii</Microorganism> showed a trend of increase. The ratios of gram positive bacteria and fungi were increased slowly, mainly as Enterococcus and Candida. Enterococcus is the most common cause of Gram-positive bacterial infection. Vancomycin resistance did not occur. It is concluded that Gram-negative bacteria are main cause of nosocomial infection in patients with hematological malignancies. Gram positive bacteria and fungi had been more frequent. Strains resistant to antimicrobial agents increase.\\n\\n', 'label': 'Positive'}\n"
          ]
        }
      ]
    },
    {
      "cell_type": "code",
      "source": [
        "task_3_2_prompt = \"\"\"\n",
        "    In the following sentences, check if the mentioned microrganism (e.g. bacteria), lives in the mentioned habitat/geographical entity or not.\n",
        "    For each input sentence, you need to check if the mentioned <Microorganism>, lives in the mentioned <Habitat> (or <Geographical>, or not.\"\n",
        "\n",
        "    I give you four examples starting below, use these four for only take example from. The examples end at the \"END OF EXAMPLES\" text\n",
        "    \"\"\"\n",
        "i = 1\n",
        "for j in t3_2_examples: # add 4 examples\n",
        "    task_3_2_prompt += f\"EXAMPLE {i}\\n\"\n",
        "    task_3_2_prompt += f\"UID: {j['UID']} Text = {j['text']} --> {{'UID':{j['UID']}, label = {j['label']}}}\\n\\n\"\n",
        "    i += 1\n",
        "\n",
        "task_3_2_prompt += \"END OF EXAMPLES\\n\\n\""
      ],
      "metadata": {
        "id": "FISr1YH2mi5k"
      },
      "execution_count": 152,
      "outputs": []
    },
    {
      "cell_type": "code",
      "source": [
        "print(task_3_2_prompt)"
      ],
      "metadata": {
        "colab": {
          "base_uri": "https://localhost:8080/"
        },
        "id": "iiLR1zyMm_Kp",
        "outputId": "71283c8f-b57e-4aaa-93b5-a86ed44caa7e"
      },
      "execution_count": 153,
      "outputs": [
        {
          "output_type": "stream",
          "name": "stdout",
          "text": [
            "\n",
            "    In the following sentences, check if the mentioned microrganism (e.g. bacteria), lives in the mentioned habitat/geographical entity or not.\n",
            "    For each input sentence, you need to check if the mentioned <Microorganism>, lives in the mentioned <Habitat> (or <Geographical>, or not.\"\n",
            "\n",
            "    I give you four examples starting below, use these four for only take example from. The examples end at the \"END OF EXAMPLES\" text\n",
            "    EXAMPLE 1\n",
            "UID: UID_3345 Text = Recurrence of Pelecypod-associated cholera in Sardinia.\n",
            "From Oct. 30 to Nov. 7, 1979, 10 people in the Sardinian province of Cagliari had onset of bacteriologically confirmed cholera. Two symptom-free excretors of Vibrio cholerae O:1 were detected in household contacts of the patients. There were no deaths. All but 1 of the 12 people with V. cholerae O:1 infection gave a history of recent consumption of marine bivalves known locally as arselle (pelecypods). Triplicate matched neighbourhood controls for each of the first 7 cases identified were also interviewed; none had recently eaten arselle. V. cholerae O:1 was also recovered from samples of water and bivalves obtained from a lagoon on the outskirts of the city of Cagliari. Arselle had also been implicated as the vehicle of transmission in 1973 in the last outbreak of cholera in Sardinia. It seems unlikely that cholera transmission had persisted locally in the interim.\n",
            "\n",
            " --> {'UID':UID_3345, label = Negative}\n",
            "\n",
            "EXAMPLE 2\n",
            "UID: UID_6523 Text = Most species were Gram-positive Actinobacteria with Corynebacterium casei and/or C. variabile as the predominant (Table 4). Additionally, the cheese from dairy A was dominated by high of numbers of Brachybacterium alimentarum. Various Brevibacterium species were found on the cheeses from the farmhouses (dairies A, B and C). B. permense was found on the cheese from dairy A, B. linens was found on the cheese from dairy B and B. aurantiacum was found on the cheese from dairy C. Brevibacterium\n",
            " spp. could not be isolated on the cheese from dairy D. Furthermore, a \n",
            "number of coagulase negative staphylococci were found, i.e., Staphylococcus saprophyticus on the cheeses from dairies B and D, and Staph. equorum on the cheeses from dairies C and D. Finally, a number of Gram-negative bacteria species including Proteus vulgaris and Alcaligenes faecalis was found on the cheese from dairy C.Figure 3\n",
            " shows the grouping of the surface yeast microbiota. The yeast surface \n",
            "microbiota on the three farmhouse cheeses consisted of two to four \n",
            "groups, whereas the cheese produced at the industrial dairy (dairy D) \n",
            "consisted of only one single group. The cheese from dairy A was equally \n",
            "dominated by Yarrowia lipolytica and Scopulariopsis brevicaulis. The yeast microbiota on cheese from dairy B was primarily dominated by Geotrichum spp., however, Kluyveromyces marxianus and Debaryomyces hansenii were additionally found in minor amounts. The cheese from dairy C was dominated by D. hansenii followed by a minor group of Geothrichum spp. Finally, the cheese from dairy D was entirely dominated by D. hansenii.\n",
            " --> {'UID':UID_6523, label = Negative}\n",
            "\n",
            "EXAMPLE 3\n",
            "UID: UID_3954 Text = Our\n",
            " study provides data, which combined with publicly available genome \n",
            "references, represents the most expansive catalog to date of \n",
            "cheese-associated bacteria. Using this extended dairy catalog, we \n",
            "revealed the presence in traditional cheese of dominant microorganisms \n",
            "not deliberately inoculated, mainly Gram-negative genera such as Pseudoalteromonas haloplanktis or Psychrobacter immobilis, that may contribute to the characteristics of cheese produced through traditional methods.\n",
            " --> {'UID':UID_3954, label = Positive}\n",
            "\n",
            "EXAMPLE 4\n",
            "UID: UID_2335 Text = [Changes of pathogens and susceptibility to antibiotics in hematology ward from years 2001 to 2005].\n",
            "The purpose of this study was to determine the changes of pathogens in hematological ward and susceptibility of patients received chemotherapy to antibiotics. The pathogens were taken from blood, urine and sputum of patients who accepted chemotherapy from years 2001 to 2005, then were isolated and identified. The susceptibility test was performed by disk diffusion method. The results showed that the total of 418 strains were detected. Gram-negative bacteria were the most common of nosocomial infection. Pseudomonas aeruginosa, Enterobacter cloacae, E. coli account for the most of Gram negative- bacteria infection and most resistant to broad-spectrum penicillin, Acinetobacter baumannii showed a trend of increase. The ratios of gram positive bacteria and fungi were increased slowly, mainly as Enterococcus and Candida. Enterococcus is the most common cause of Gram-positive bacterial infection. Vancomycin resistance did not occur. It is concluded that Gram-negative bacteria are main cause of nosocomial infection in patients with hematological malignancies. Gram positive bacteria and fungi had been more frequent. Strains resistant to antimicrobial agents increase.\n",
            "\n",
            " --> {'UID':UID_2335, label = Positive}\n",
            "\n",
            "END OF EXAMPLES\n",
            "\n",
            "\n"
          ]
        }
      ]
    },
    {
      "cell_type": "code",
      "source": [
        "restriction = 5 # You must use a for loop that packs 5 examples in at-a-time (in each iteration of the for loop)\n",
        "T_3_2_REPLIES_FROM_GPT = [] # stores all replies\n",
        "\n",
        "for i in range(0, len(filtered_devel_examples), restriction):\n",
        "  user_prompt = task_3_2_prompt\n",
        "  for j in range(restriction): # try to add 5 examples\n",
        "      if i + j < len(filtered_devel_examples): # if were not going over the index bounds with i + j values\n",
        "          curr = filtered_devel_examples[i+j]\n",
        "          user_prompt += f\"UID: {curr['UID']}  Text = {curr['text']}\\n\" # only then  concat to the user_prompt\n",
        "  if i == 40:\n",
        "    print(user_prompt)\n",
        "  T_3_2_REPLIES_FROM_GPT.append(get_predictions_from_GPT(user_prompt)) # call GPT with the 5 or less examples at the time\n"
      ],
      "metadata": {
        "colab": {
          "base_uri": "https://localhost:8080/"
        },
        "id": "l8wC13T9nAjm",
        "outputId": "757ba878-e54a-40df-ff3f-3931b15fb744"
      },
      "execution_count": 154,
      "outputs": [
        {
          "output_type": "stream",
          "name": "stdout",
          "text": [
            "\n",
            "    In the following sentences, check if the mentioned microrganism (e.g. bacteria), lives in the mentioned habitat/geographical entity or not.\n",
            "    For each input sentence, you need to check if the mentioned <Microorganism>, lives in the mentioned <Habitat> (or <Geographical>, or not.\"\n",
            "\n",
            "    I give you four examples starting below, use these four for only take example from. The examples end at the \"END OF EXAMPLES\" text\n",
            "    EXAMPLE 1\n",
            "UID: UID_3345 Text = Recurrence of Pelecypod-associated cholera in Sardinia.\n",
            "From Oct. 30 to Nov. 7, 1979, 10 people in the Sardinian province of Cagliari had onset of bacteriologically confirmed cholera. Two symptom-free excretors of Vibrio cholerae O:1 were detected in household contacts of the patients. There were no deaths. All but 1 of the 12 people with V. cholerae O:1 infection gave a history of recent consumption of marine bivalves known locally as arselle (pelecypods). Triplicate matched neighbourhood controls for each of the first 7 cases identified were also interviewed; none had recently eaten arselle. V. cholerae O:1 was also recovered from samples of water and bivalves obtained from a lagoon on the outskirts of the city of Cagliari. Arselle had also been implicated as the vehicle of transmission in 1973 in the last outbreak of cholera in Sardinia. It seems unlikely that cholera transmission had persisted locally in the interim.\n",
            "\n",
            " --> {'UID':UID_3345, label = Negative}\n",
            "\n",
            "EXAMPLE 2\n",
            "UID: UID_6523 Text = Most species were Gram-positive Actinobacteria with Corynebacterium casei and/or C. variabile as the predominant (Table 4). Additionally, the cheese from dairy A was dominated by high of numbers of Brachybacterium alimentarum. Various Brevibacterium species were found on the cheeses from the farmhouses (dairies A, B and C). B. permense was found on the cheese from dairy A, B. linens was found on the cheese from dairy B and B. aurantiacum was found on the cheese from dairy C. Brevibacterium\n",
            " spp. could not be isolated on the cheese from dairy D. Furthermore, a \n",
            "number of coagulase negative staphylococci were found, i.e., Staphylococcus saprophyticus on the cheeses from dairies B and D, and Staph. equorum on the cheeses from dairies C and D. Finally, a number of Gram-negative bacteria species including Proteus vulgaris and Alcaligenes faecalis was found on the cheese from dairy C.Figure 3\n",
            " shows the grouping of the surface yeast microbiota. The yeast surface \n",
            "microbiota on the three farmhouse cheeses consisted of two to four \n",
            "groups, whereas the cheese produced at the industrial dairy (dairy D) \n",
            "consisted of only one single group. The cheese from dairy A was equally \n",
            "dominated by Yarrowia lipolytica and Scopulariopsis brevicaulis. The yeast microbiota on cheese from dairy B was primarily dominated by Geotrichum spp., however, Kluyveromyces marxianus and Debaryomyces hansenii were additionally found in minor amounts. The cheese from dairy C was dominated by D. hansenii followed by a minor group of Geothrichum spp. Finally, the cheese from dairy D was entirely dominated by D. hansenii.\n",
            " --> {'UID':UID_6523, label = Negative}\n",
            "\n",
            "EXAMPLE 3\n",
            "UID: UID_3954 Text = Our\n",
            " study provides data, which combined with publicly available genome \n",
            "references, represents the most expansive catalog to date of \n",
            "cheese-associated bacteria. Using this extended dairy catalog, we \n",
            "revealed the presence in traditional cheese of dominant microorganisms \n",
            "not deliberately inoculated, mainly Gram-negative genera such as Pseudoalteromonas haloplanktis or Psychrobacter immobilis, that may contribute to the characteristics of cheese produced through traditional methods.\n",
            " --> {'UID':UID_3954, label = Positive}\n",
            "\n",
            "EXAMPLE 4\n",
            "UID: UID_2335 Text = [Changes of pathogens and susceptibility to antibiotics in hematology ward from years 2001 to 2005].\n",
            "The purpose of this study was to determine the changes of pathogens in hematological ward and susceptibility of patients received chemotherapy to antibiotics. The pathogens were taken from blood, urine and sputum of patients who accepted chemotherapy from years 2001 to 2005, then were isolated and identified. The susceptibility test was performed by disk diffusion method. The results showed that the total of 418 strains were detected. Gram-negative bacteria were the most common of nosocomial infection. Pseudomonas aeruginosa, Enterobacter cloacae, E. coli account for the most of Gram negative- bacteria infection and most resistant to broad-spectrum penicillin, Acinetobacter baumannii showed a trend of increase. The ratios of gram positive bacteria and fungi were increased slowly, mainly as Enterococcus and Candida. Enterococcus is the most common cause of Gram-positive bacterial infection. Vancomycin resistance did not occur. It is concluded that Gram-negative bacteria are main cause of nosocomial infection in patients with hematological malignancies. Gram positive bacteria and fungi had been more frequent. Strains resistant to antimicrobial agents increase.\n",
            "\n",
            " --> {'UID':UID_2335, label = Positive}\n",
            "\n",
            "END OF EXAMPLES\n",
            "\n",
            "UID: UID_40  Text = An example of this fact is the \n",
            "presence of Psychrobacter DNA on the surface of Formaggio di \n",
            "Fossa cheese.\n",
            "\n",
            "UID: UID_41  Text = An example of this fact is the \n",
            "presence of Psychrobacter DNA on the surface of Formaggio di \n",
            "Fossa cheese.\n",
            "\n",
            "UID: UID_42  Text = Also bands detected by DGGE were originating from S. thermophilus and L. delbrueckii,\n",
            " bacteria involved in the primary stage of cheese fermentation, but not \n",
            "found among the analysed isolates.\n",
            "\n",
            "UID: UID_43  Text = Also bands detected by DGGE were originating from S. thermophilus and L. delbrueckii,\n",
            " bacteria involved in the primary stage of cheese fermentation, but not \n",
            "found among the analysed isolates.\n",
            "\n",
            "UID: UID_44  Text = Contamination of some varieties of soft smear cheeses with Listeria monocytogenes is an important problem for the consumer's health, leading to industrial substantial financial losses ( Cocolin et al., 2009, de Cesare et al., 2007, Lomonaco et al., 2009 and Rudolf and Scherer, 2001).\n",
            "\n",
            "\n"
          ]
        }
      ]
    },
    {
      "cell_type": "code",
      "source": [
        "T_3_2_DICT_OF_REPLIES = generate_dict(T_3_2_REPLIES_FROM_GPT)\n",
        "print(f'length of the dict should match {len(filtered_devel_examples)} ?? {len(T_3_2_DICT_OF_REPLIES)}')\n",
        "assert len(T_3_2_DICT_OF_REPLIES) == len(filtered_devel_examples), 'Predicted text must be of the same size than the input data'\n",
        "t3_2_y_pred = [y_pred for y_pred in T_3_2_DICT_OF_REPLIES.values()]\n",
        "print(len(t3_2_y_pred))\n",
        "assert len(t3_2_y_pred) == len(filtered_devel_examples), 'Predictions must be of the same size than the input data'"
      ],
      "metadata": {
        "colab": {
          "base_uri": "https://localhost:8080/"
        },
        "id": "ady-06Q2nNmy",
        "outputId": "83b83560-abc4-4dab-b0a7-912c0577302a"
      },
      "execution_count": 155,
      "outputs": [
        {
          "output_type": "stream",
          "name": "stdout",
          "text": [
            "length of the dict should match 91 ?? 91\n",
            "91\n"
          ]
        }
      ]
    },
    {
      "cell_type": "code",
      "source": [
        "t3_2_precision, t3_2_recall, t3_2_fscore, _ = calculate_scores(y_true, t3_2_y_pred)\n",
        "\n",
        "\n",
        "print(f'Precision is {t3_2_precision:.3f}')\n",
        "print(f'Recall is {t3_2_recall:.3f}')\n",
        "print(f'F-Score is {t3_2_fscore:.3f}')"
      ],
      "metadata": {
        "colab": {
          "base_uri": "https://localhost:8080/"
        },
        "id": "79qkaqS6nZDn",
        "outputId": "bbbc15fd-c11b-4d6b-fd5a-e8043b34ab17"
      },
      "execution_count": 156,
      "outputs": [
        {
          "output_type": "stream",
          "name": "stdout",
          "text": [
            "Precision is 0.430\n",
            "Recall is 0.739\n",
            "F-Score is 0.544\n"
          ]
        }
      ]
    },
    {
      "cell_type": "code",
      "source": [
        "x = [\"Task 1:zero-shot\", \"Task 2:few-shot\", \"Task 3.1: few from train\", \"Task 3.2: other few from train\"]\n",
        "prec = [t1_precision, t2_precision, t3_1_precision, t3_2_precision]\n",
        "rec = [t1_recall, t2_recall, t3_1_recall, t3_2_recall]\n",
        "fs = [t1_fscore, t2_fscore, t3_1_fscore, t3_2_fscore]\n",
        "\n",
        "plot_it(x,prec,rec,fs)"
      ],
      "metadata": {
        "colab": {
          "base_uri": "https://localhost:8080/",
          "height": 613
        },
        "id": "pYo66dzqnfUl",
        "outputId": "fff7fa64-f0ce-49c1-dd47-255f02d1ac1f"
      },
      "execution_count": 157,
      "outputs": [
        {
          "output_type": "display_data",
          "data": {
            "text/plain": [
              "<Figure size 640x480 with 1 Axes>"
            ],
            "image/png": "[encoded data removed]"
          },
          "metadata": {}
        }
      ]
    },
    {
      "cell_type": "markdown",
      "source": [
        "Have the results changed? Why?\n",
        "\n",
        "* Yes the results have changed. The recall is bouncing back to > 0.7 meaning that it is correctly predicting _tp_ values as ones. Precision is still decreasing from the Task 3.1. The model is tagging much of the actual negatives as positives. It could be due to the fact that there are duplicates in the devel set and it is just randomly guessing based on the precision performance"
      ],
      "metadata": {
        "id": "_TYl5Og6W5cb"
      }
    }
  ]
}